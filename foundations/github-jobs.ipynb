{
 "cells": [
  {
   "cell_type": "markdown",
   "metadata": {},
   "source": [
    "## Introduction\n",
    "In order to do Data Science we have to be able to gather data. Oftentimes we get data from an API, sometimes from a database. This Jupyter notebook we'll guide you through a project that will involve getting data from an API, storing it in a relational database and performing some SQL queries to do some basic data analysis.\n",
    "\n",
    "Our API of choice for this project will be [GitHub Jobs](https://jobs.github.com). Besides being simple to use, it could be a useful resource to job-hunt. "
   ]
  },
  {
   "cell_type": "markdown",
   "metadata": {},
   "source": [
    "## Assingment\n",
    "- Get acquainted with the GitHub Jobs web interface and read through their API page.\n",
    "- Import the Requests package and call the API with the parameters of your choice.\n",
    "- Print the status code to make sure it went well."
   ]
  },
  {
   "cell_type": "code",
   "execution_count": 39,
   "metadata": {
    "collapsed": false
   },
   "outputs": [
    {
     "name": "stdout",
     "output_type": "stream",
     "text": [
      "200\n"
     ]
    }
   ],
   "source": [
    "import requests\n",
    "resp = requests.get('https://jobs.github.com/positions.json?description=python&location=new+york')\n",
    "print (resp.status_code)\n"
   ]
  },
  {
   "cell_type": "markdown",
   "metadata": {},
   "source": [
    "## Assignment\n",
    "- Import json and print the whole json response with the json.dumps() function. See what kind of data it contains.\n",
    "- Get the dictionary of the first job and call the method keys() to have a better idea of the data at hand.\n",
    "- Print some of the first job's content, including images and HTML. You might need to import the IPython package."
   ]
  },
  {
   "cell_type": "code",
   "execution_count": 40,
   "metadata": {
    "collapsed": false
   },
   "outputs": [
    {
     "name": "stdout",
     "output_type": "stream",
     "text": [
      "\n",
      "\n",
      "******using .json() ********\n",
      "\n",
      "[{'id': '587a1d78-0428-11e7-8752-4c031c8e4a89', 'created_at': 'Wed Mar 08 17:57:18 UTC 2017', 'title': 'Senior Back-End Engineer, Stealth VC-Backed Fitness Technology Company', 'location': 'New York, NY', 'type': 'Full Time', 'description': '<p>About Us</p>\\n\\n<p>Our company is a stealth fit-tech concept being launched by an established leader in the NYC boutique fitness space with a team of experienced hardware and software engineers. We’re building a hybrid hardware/software product to bring high-quality, personalized fitness content into people’s homes across the country. Team includes experienced IOT engineers and developers, as well as top tier seed investors and advisors, with extensive background in launching premier consumer brands.</p>\\n\\n<p>Role</p>\\n\\n<p>Development of our core backend services and web applications, deployed on AWS, using PostgreSQL, Python and various front-end JS frameworks (React, etc.)\\nMaintain an automated test suite to ensure the application behaves as expected in production\\nManage media content and core user data in AWS and interact with multiple front ends by providing RESTful API’s</p>\\n\\n<p>About You</p>\\n\\n<p>Undergraduate or Graduate degree in Computer Science or equivalent experience\\n4+ years experience working in a hands-on capacity building backend services in Python\\nHeavy experience with SQL (PostgreSQL experience preferred)\\nExperience deploying on AWS and using services like S3, EC2 and DynamoDB\\nExperience with at least one popular front end framework (React.js preferred)</p>\\n\\n<p>You don’t need to be a fitness buff, but you should be excited to build technology that is going to change how people sweat!</p>\\n\\n<p>To apply, send an email to <a href=\"mailto:jobs@getthemirror.com\">jobs@getthemirror.com</a> with the subject “Back-End Engineer.” Attach your CV and/or a link to your LinkedIn profile. Feel free to add your GitHub or any code examples you think are relevant, and let us know what makes you tick as an engineer.</p>\\n', 'how_to_apply': '<p>To apply, send an email to <a href=\"mailto:jobs@getthemirror.com\">jobs@getthemirror.com</a> with the subject “Back-End Engineer.” Attach your CV and/or a link to your LinkedIn profile. Feel free to add your GitHub or any code examples you think are relevant, and let us know what makes you tick as an engineer.</p>\\n', 'company': 'Curiouser Products', 'company_url': None, 'company_logo': 'http://github-jobs.s3.amazonaws.com/03ccd9a2-0421-11e7-9f13-e62a2bafb67e.jpg', 'url': 'http://jobs.github.com/positions/587a1d78-0428-11e7-8752-4c031c8e4a89'}, {'id': '0b6b0a38-0428-11e7-87e3-69c380153781', 'created_at': 'Wed Mar 08 17:54:50 UTC 2017', 'title': 'Back-End Engineer, Stealth VC-Backed Fitness Technology Company', 'location': 'New York, NY', 'type': 'Full Time', 'description': '<p>About Us</p>\\n\\n<p>Our company is a stealth fit-tech concept being launched by an established leader in the NYC boutique fitness space with a team of experienced hardware and software engineers. We’re building a hybrid hardware/software product to bring high-quality, personalized fitness content into people’s homes across the country. Team includes experienced IOT engineers and developers, as well as top tier seed investors and advisors, with extensive background in launching premier consumer brands.</p>\\n\\n<p>Role</p>\\n\\n<p>Development of our core backend services and web applications, deployed on AWS, using PostgreSQL, Python and various front-end JS frameworks (React, etc.)\\nMaintain an automated test suite to ensure the application behaves as expected in production\\nManage media content and core user data in AWS and interact with multiple front ends by providing RESTful API’s</p>\\n\\n<p>About You</p>\\n\\n<p>Undergraduate or Graduate degree in Computer Science or equivalent experience\\n2+ years experience working in a hands-on capacity building backend services in Python\\nHeavy experience with SQL (PostgreSQL experience preferred)\\nExperience deploying on AWS and using services like S3, EC2 and DynamoDB\\nExperience with at least one popular front end framework (React.js preferred)</p>\\n\\n<p>You don’t need to be a fitness buff, but you should be excited to build technology that is going to change how people sweat!</p>\\n\\n<p>To apply, send an email to <a href=\"mailto:jobs@getthemirror.com\">jobs@getthemirror.com</a> with the subject “Back-End Engineer.” Attach your CV and/or a link to your LinkedIn profile. Feel free to add your GitHub or any code examples you think are relevant, and let us know what makes you tick as an engineer.</p>\\n', 'how_to_apply': '<p>To apply, send an email to <a href=\"mailto:jobs@getthemirror.com\">jobs@getthemirror.com</a> with the subject “Back-End Engineer.” Attach your CV and/or a link to your LinkedIn profile. Feel free to add your GitHub or any code examples you think are relevant, and let us know what makes you tick as an engineer.</p>\\n', 'company': 'Curiouser Products', 'company_url': None, 'company_logo': 'http://github-jobs.s3.amazonaws.com/212fb244-0421-11e7-97a4-13e57e096744.jpg', 'url': 'http://jobs.github.com/positions/0b6b0a38-0428-11e7-87e3-69c380153781'}, {'id': '529b9d4c-0373-11e7-93ef-382981ce9f73', 'created_at': 'Tue Mar 07 20:19:45 UTC 2017', 'title': 'Android Engineer, Stealth VC-backed Fitness Technology Co.', 'location': 'New York', 'type': 'Full Time', 'description': '<p>About Us</p>\\n\\n<p>Our company is a stealth fit-tech concept being launched by an established leader in the NYC boutique fitness space with a team of experienced hardware and software engineers. We’re building a hybrid hardware/software product to bring high-quality, personalized fitness content into people’s homes across the country. Team includes experienced IOT engineers and developers, as well as top tier seed investors and advisors, with extensive background in launching premier consumer brands.</p>\\n\\n<p>Role</p>\\n\\n<p>Software development of our embedded Android applications\\nFocus on video and audio media, as well as UI elements displayed on the hardware’s screen\\nOccasionally, get your hands dirty working in other parts of our stack (Python, Postgres, AWS, etc.)</p>\\n\\n<p>About You</p>\\n\\n<p>Undergraduate or Graduate degree in Computer Science or equivalent experience\\n2+ years experience working in a hands-on capacity building Android applications and services\\nExperience with Bluetooth and WiFi API’s on Android\\nExperience with WebRTC and/or Video Streaming on Android are a huge plus\\nYou don’t need to be a fitness buff, but you should be excited to build technology that is going to change how people sweat!</p>\\n\\n<p>To apply please send an email to <a href=\"mailto:jobs@getthemirror.com\">jobs@getthemirror.com</a> with the subject ‘Android Engineer’. Attach your CV and/or a link to your LinkedIn profile. Feel free to add your GitHub or any code examples you think are relevant, and let us know what makes you tick as an engineer.</p>\\n', 'how_to_apply': '<p>Please send an email to <a href=\"mailto:jobs@getthemirror.com\">jobs@getthemirror.com</a> with the subject ‘Android Engineer’. Attach your CV and/or a link to your LinkedIn profile. Feel free to add your GitHub or any code examples you think are relevant, and let us know what makes you tick as an engineer.</p>\\n', 'company': 'Curiouser Products', 'company_url': None, 'company_logo': 'http://github-jobs.s3.amazonaws.com/3709b0e6-0373-11e7-8edb-4c3821357f18.jpg', 'url': 'http://jobs.github.com/positions/529b9d4c-0373-11e7-93ef-382981ce9f73'}, {'id': '9aee7e4e-0372-11e7-830c-5631a851436c', 'created_at': 'Tue Mar 07 20:15:02 UTC 2017', 'title': 'Senior Android Engineer, Stealth VC-backed Fitness Technology Co.', 'location': 'New York, NY', 'type': 'Full Time', 'description': '<p>About Us</p>\\n\\n<p>Our company is a stealth fittech concept being launched by an established leader in the NYC boutique fitness space with a team of experienced hardware and software engineers. We’re building a hybrid hardware/software product to bring high-quality, personalized fitness content into people’s homes across the country. Team includes experienced IOT engineers and developers, as well as top tier seed investors and advisors, with extensive background in launching premier consumer brands.</p>\\n\\n<p>Role</p>\\n\\n<p>Software development of our embedded Android applications\\nFocus on video and audio media, as well as UI elements displayed on the hardware’s screen\\nOccasionally, get your hands dirty working in other parts of our stack (Python, Postgres, AWS, etc.)</p>\\n\\n<p>About You</p>\\n\\n<p>Undergraduate or Graduate degree in Computer Science or equivalent experience\\n5++ years experience working in a hands-on capacity building Android applications and services\\nExperience with Bluetooth and WiFi API’s on Android\\nExperience with WebRTC and/or Video Streaming on Android are a huge plus\\nYou don’t need to be a fitness buff, but you should be excited to build technology that is going to change how people sweat!</p>\\n\\n<p>To apply please send an email to <a href=\"mailto:jobs@getthemirror.com\">jobs@getthemirror.com</a> with the subject ‘Android Engineer’. Attach your CV and/or a link to your LinkedIn profile. Feel free to add your GitHub or any code examples you think are relevant, and let us know what makes you tick as an engineer.</p>\\n', 'how_to_apply': '<p>To apply please send an email to <a href=\"mailto:jobs@getthemirror.com\">jobs@getthemirror.com</a> with the subject ‘Android Engineer’. Attach your CV and/or a link to your LinkedIn profile. Feel free to add your GitHub or any code examples you think are relevant, and let us know what makes you tick as an engineer.</p>\\n', 'company': 'Curiouser Products', 'company_url': None, 'company_logo': 'http://github-jobs.s3.amazonaws.com/7d530094-0372-11e7-88fa-788378af1c10.jpg', 'url': 'http://jobs.github.com/positions/9aee7e4e-0372-11e7-830c-5631a851436c'}, {'id': '05c9af4a-ff72-11e6-9e4c-4ee727b55195', 'created_at': 'Thu Mar 02 18:09:06 UTC 2017', 'title': 'Full Stack Engineers - PRICELINE.COM', 'location': 'New York CIty and Norwalk CT', 'type': 'Full Time', 'description': '<p>&quot;Build Products that help People Experience the World&quot;\\nOur Teams\\nJoin an Agile team of professionals dedicated to building the next generation of travel applications.  Priceline.com provides a unique opportunity for Developers to solve for every requirement that makes for a great trip.  From booking a flight anywhere in the world to renting that convertible for a cross country road trip, our teams thrive on providing the best life experiences for millions of customers – and at a great price.\\nOur Technology\\nJavascript has dominated the language sphere and with the continued strength of Node.js Priceline.com has placed Node.js at the forefront of what we use to build our customer-facing applications.  Our Developer culture dictates what we use and when.  Our teams build products that we expect to stick around for a long period of time.  We celebrate codebases that employ patterns as traditional as MVVM and as modern as Redux. You will work on systems that serve hundreds of millions of searches a day, generate billions of events, and are monitored 24x7 using the best of the big data technologies. Code is our product, and at Priceline.com we will look to you to help us maintain, evolve, extend and modernize the products we build that help people experience the world. \\nOur Culture\\nThe Priceline.com culture is one of collaboration and leadership.  Self-starters are encouraged to explore, fail fast and build new things.  Set goals and achieve them through collaboration with your team.  Join in various Developer forums lead by Developers of all levels.  Build or attend a program and explore the benefits of modern technology.  Find places that lack ownership and own them.\\nCollaboration, ownership and innovation are our primary tenets.\\nSo what are you waiting for?\\nApply for a position on one of our lean, agile and innovative teams.  Build the next exciting new product or feature that will ultimately help millions of people experience the world.\\nTechnical Specs of our Full Stack Developers\\nCommon Skills</p>\\n\\n<ul>\\n<li>Bachelor&#39;s degree in Computer Science.</li>\\n<li>Experience with Javascript, Java, Golang and/or Python.</li>\\n<li>Software development patterns like OOP, Flux/Redux, Modular, MVVM, MVC and Observer.</li>\\n<li>ES2015 and functional JavaScript is a plus.  Using methods like map, reduce and filter.</li>\\n<li>Webservices and API development is a plus using solutions such as Cassandra, Hadoop, Spark, Kafka, Elastic Search and Solr.</li>\\n<li>A healthy discipline of test driven development (TDD).\\nFront End Chops\\nFront end at Priceline.com means building applications that millions of customers will use and interact with.  Some things we look for in front end skills include:</li>\\n<li>Proficiency with JavaScript core language features and functionality.  String manipulation, working on collections, build and destroying DOM elements, event-based development, AJAX etc...</li>\\n<li>Experience building and maintaining front end applications with modern frameworks and tools like Angular.js, React.js, Ember.js or Vue.js.</li>\\n<li>Being familiar with terms like &quot;partials&quot; and &quot;components&quot;.</li>\\n<li>Ability to author and maintain semantic and accessible markup.</li>\\n<li>At Priceline.com we are all about style, so CSS is a must for front end development.  Understanding of practical uses of responsive design, the use of tools like SASS, and the authoring modular CSS.\\nThe Server Side and the Services Layer\\nFull stack development of course requires that we know something about the server, databases and how they work.  At Priceline.com we employ a number of technologies on our servers so having expertise in these topics is something we look for.</li>\\n<li>Understanding of Node.js and how it works. Experience with common libraries like Express.js and routing. The prevention and detection of memory leaks, security, logging, middleware and the use of templates.</li>\\n<li>You will need to have strong object-oriented design and development skills and working knowledge of core Java or similar programming languages.  Knowledge and experience with third party libraries, frameworks, and technologies is a plus.</li>\\n<li>Development and maintenance of micro-services as it applies to API development and orchestration.  An example would be GraphQL, or content services.</li>\\n<li>You will need to have strong SQL composition skills.  Knowledge of big data and NoSQL databases is a plus.  We not only write software that collects and queries data, but we also compose queries for investigation and analysis. We collect a lot of data in real time from our applications and being able to compose ad hoc queries is necessary to develop and support our products.</li>\\n</ul>\\n', 'how_to_apply': '<p><a href=\"mailto:careers@cameronkinston.com\">careers@cameronkinston.com</a></p>\\n', 'company': 'PRICELINE.COM', 'company_url': 'http://www.priceline.com ', 'company_logo': 'http://github-jobs.s3.amazonaws.com/26a50ccc-ff73-11e6-8e44-fa883eb76813.jpg', 'url': 'http://jobs.github.com/positions/05c9af4a-ff72-11e6-9e4c-4ee727b55195'}, {'id': 'fb093958-fe00-11e6-8fa5-72df12fc8186', 'created_at': 'Tue Feb 28 21:58:46 UTC 2017', 'title': 'Backend Engineer', 'location': 'New York', 'type': 'Full Time', 'description': '<p>About Moat\\nWe help brands and media companies push the envelope on privacy-friendly models of advertising, help them make sound product decisions that involve running fewer ads, help make their ads load faster, fight botnets, and strive to de-fund fake news. We are a New York City-headquartered startup with a mission to help the world&#39;s top publishers and marketers make smarter decisions through real-\\xadtime data. Our analytics and intelligence software is used by The New York Times, Condé Nast, Kellogg&#39;s, P&amp;G, Spotify, and hundreds of other major platforms and advertisers, and we have unique measurement integrations into Facebook, Instagram, Twitter, Snapchat, and YouTube.</p>\\n\\n<p>About the Opportunity \\nWe&#39;re looking for a Backend Engineer who can help architect robust backend systems that support our product offerings, including a real-time analytics system as well as an industry search engine that play a mission-critical role for some of the world&#39;s largest publishers, media companies, and technology companies.</p>\\n\\n<ul>\\n<li>Take part in pushing billions of transactions per day through probabilistic data structures.</li>\\n<li>Working with columnar databases and advanced PostgreSQL features to improve performance of analytical workloads.</li>\\n<li>Collaborating with Amazon developers and helping to shape the product roadmap of several AWS services.</li>\\n<li>Build backend services and interfacing with other APIs.</li>\\n<li>Scaling a global web crawler to help transform unstructured web data to structured data.</li>\\n<li>Managing thousands of EC2 instances</li>\\n<li>Help design and engineer the architecture for scalability, high availability, performance, flexibility, operational efficiency, security and maintainability.</li>\\n</ul>\\n\\n<p>About You</p>\\n\\n<ul>\\n<li>2-4 years of professional experience.</li>\\n<li>BS, MS, or PhD in computer science, engineering, or other related field.</li>\\n<li>Experience with multiple languages, web frameworks, and datastores.</li>\\n<li>Extensive experience with one (or all) -  Python, C, C++, Shell, and Unix.</li>\\n<li>Depth experience in one or more of the following areas:  distributed data processing, complex web-app design, and/or cloud infrastructure design (AWS).</li>\\n</ul>\\n\\n<p>About the Team</p>\\n\\n<ul>\\n<li>We are passionate, excited, and thrive in a fast paced culture.</li>\\n<li>We love sharing our knowledge and learning about new technologies.</li>\\n<li>We are the type of people who take risks when looking for novel and creative solutions to complex problems.</li>\\n<li>We care about solving big-picture, systemic problems—looking beyond the surface to understand root causes so that we can build complete and long-term solutions.</li>\\n</ul>\\n', 'how_to_apply': '<p><a href=\"https://moat.com/jobs/job-description?gh_jid=72468\">https://moat.com/jobs/job-description?gh_jid=72468</a></p>\\n', 'company': 'Moat', 'company_url': 'http://Moat.com', 'company_logo': 'http://github-jobs.s3.amazonaws.com/f18b3f34-fe00-11e6-8fd6-3237d03f3de5.png', 'url': 'http://jobs.github.com/positions/fb093958-fe00-11e6-8fa5-72df12fc8186'}, {'id': '0a09c6de-fae6-11e6-849a-628f7d5ba12b', 'created_at': 'Fri Feb 24 23:08:28 UTC 2017', 'title': 'Software Engineer', 'location': 'New York, NY', 'type': 'Full Time', 'description': '<p>SOFTWARE ENGINEER, ENVOY\\nENIGMA NYC</p>\\n\\n<p>The mission of the Envoy Engineering team is to help transform how leading Fortune 500 companies do business and integrate data into their decision-making, broadly expanding how data is accessed and applied within an organization. By applying Enigma technologies to real-world industry challenges, this team is responsible for enabling next-generation business processes for blue chip clients, one workflow, process, or team at a time. Our work varies with every client engagement, but past work has included: Helping financial services organizations develop compliance practices that cut off funding to terrorists and human traffickers, Allowing top quantitative hedge funds to integrate high-caliber data into their investment decision-making, Enabling pharmaceutical companies to get contaminated medications off the shelves more quickly.</p>\\n\\n<p>The Role:\\nAs a Software Engineer on the Envoy team, you’ll work alongside a brilliant team of other curious, data obsessed co-workers, who want to share the magic that Enigma products can bring to a customer. On a given day, you’ll interact with your project team, as well as with representatives from Enigma&#39;s Commercial, Product, and Data Science teams. You’ll be up against a variety of engineering challenges since every client context and method of product adoption comes with its own flavor of both people and technical work.</p>\\n\\n<p>You’ll work closely with our client stakeholders as we deploy our products, keeping our ears to the ground for valuable nuggets about product value and end user needs that we can convey to our product managers and business strategists to ensure our roadmaps are actively listening to our customers.  The ideal candidate will find incredibly rewarding the ability to contribute to a start-to-finish experience for clients that doubles as the key driver of growth for Enigma as a business as well.</p>\\n\\n<p>Qualities we value:\\nCan demonstrate competence in one or more of {Python, Go, C, C++, Java, JavaScript, Ruby}\\nHas exposure to or experience building distributed systems.\\nPassion for being an empathetic solutions oriented engineer, with a desire for educating and successfully deploying our broad range of products across the Fortune 500 clients that we engage with.\\nIs motivated by working closely with our customers, and will do whatever it takes to find the optimal solution for the task.\\nYou enjoy learning and sharing your valuable feedback to our Product team, so we can continue to iterate and improve.\\nYou are highly motivated, results oriented, are a problem solver, and have a keen sense of empathy when working in a client-facing setting.</p>\\n\\n<p>Our Story:\\nFounded in 2012, Enigma is a rapidly growing team based in the Flatiron neighborhood of New York City. We are Series B funded startup backed by an amazing roster of investors including NEA Ventures, Two Sigma Ventures, American Express Ventures, and The New York Times Company.\\nEnigma grew out of an effort to retrieve, normalize, and host public data. Fun fact, our big coming out party was winning TechCrunch Disrupt&#39;s 2013 Battlefield. Our vision is to empower people to interpret, and improve, the world around them. We place data in the context of the real world and make it connected, open and actionable. Enigma has one of the world’s largest repositories of public data and a powerful infrastructure for operationalizing data in the enterprise. We help global-scale companies tackle some of their hardest problems by driving public data and enterprise ontologies in mission-critical workflows.</p>\\n', 'how_to_apply': '<p>Apply here: <a href=\"http://grnh.se/6oi4d71\">http://grnh.se/6oi4d71</a></p>\\n', 'company': 'Enigma', 'company_url': 'http://enigma.io/', 'company_logo': None, 'url': 'http://jobs.github.com/positions/0a09c6de-fae6-11e6-849a-628f7d5ba12b'}, {'id': '9be122ea-f3ad-11e6-8431-a9395bc39ff4', 'created_at': 'Wed Feb 15 18:36:06 UTC 2017', 'title': 'Lead Rich Media Ad Developer', 'location': 'New York, NY, US', 'type': 'Full Time', 'description': '<p><p>We are looking for you!</p><p>Have you always dreamed of joining a team of quirky, smart, funny, pizza lovers? Then you might be our next Lead Display Ad Developer! But what will you do? You will work closely with our producers, designers, and other developers to create innovative and exciting digital products.</p><p>Please read and consider the responsibilities and qualifications thoroughly before applying.</p><p><strong>Description:</strong></p><p>We are looking for an experienced Display Ad Developer to join our New York team. You’ll be working with our producers and design team to concept, design, and implement creative for brands, other agencies, publishers and technology providers.\\xa0</p><p>Please read and consider the responsibilities and qualifications thoroughly before applying.</p><p><strong>Job Qualifications:</strong></p><ul>   <li>    <p>Expert in Javascript, HTML5, and CSS</p> </li>   <li>    <p>Experience in Ad building platforms (DoubleClick, Sizmek, Celtra, etc)</p>   </li>   <li>    <p>Strong Javascript and CSS3 Animation chops</p>   </li>   <li>    <p>Wild about Responsive Design</p> </li>   <li>    <p>Knowledge of digital advertising technology (Desktop and Mobile)</p> </li>   <li>    <p>Knowledge of available front end and back end frameworks and web dev tools</p>   </li>   <li>    <p>Experience with Git or other version control</p> </li>   <li>    <p>A passion for learning and using emerging technologies (WegGL, Web Audio API, Unity3D)</p>   </li>   <li>    <p>Familiarity with various APIs like Facebook, Twitter, Instagram, Google Maps. G+, etc.</p>   </li>   <li>    <p>Some familiarity with either PHP, Python, Rails or Node.js</p>   </li>   <li>    <p>Wants to have a job that they are passionate about wants to push the limits of what has been done on the web.</p>    </li></ul><p><strong>Competencies:</strong></p><ul> <li>    <p>Excellent verbal and written communication skills.</p>   </li>   <li>    <p>Prior experience within an Agency environment.</p>   </li></ul><p><strong>A Strong Preference will be given to Developers who have:</strong></p><ul> <li>    <p>Competent design skills on top of being a killer coder</p>   </li>   <li>    <p>A proven passion for coding, and solving problems</p>    </li>   <li>    <p>Personal projects that they developed in their own free time</p> </li>   <li>    <p>Contributed code to an open source project</p>   </li>   <li>    <p>Contributed to a development community</p>   </li>   <li>    <p>Self motivated and Independent Learners</p>  </li></ul><p><strong>About Us:</strong></p><p>Joystick Interactive is a digital, creative agency with a strong focus on rich media and online advertising. We work with some of the world&#39;s biggest brands and have a solid reputation in the industry by working with brands directly as well as through agencies, publishers and technology providers. With offices in New York, Los Angeles, and London we are expanding our team to keep up with increased demand. As you can see from our website, we have a wide range of capabilities and play different roles to different clients. We are looking for people who are interested in growing with the company across both our New York and Los Angeles-based teams. These are great opportunities for anyone with an entrepreneurial spirit who is looking to grow with an independently owned company.</p><p>****</p><p><strong>Qualifications:</strong></p><ul>    <li>    <p>3-5 years of experience building HTML5 banners or digital agency experience</p>  </li>   <li>    <p>Bachelor’s degree</p>  </li>   <li>    <p>Experience managing people</p>   </li>   <li>    <p>Track record of leadership, coaching and mentoring abilities</p> </li></ul><p><strong>Benefits:</strong></p><ul> <li>    <p>This is a full-time opportunity</p>  </li>   <li>    <p>Health, dental and vision insurance</p>  </li>   <li>    <p>401k</p> </li>   <li>    <p>Potential for this position to be remote, but candidate must be willing to work New York hours.</p>  </li></ul><p><strong>Please send the following to apply for the position:</strong></p><ul>  <li>    <p>Cover letter explaining why you are qualified and feel that this position is a good fit for you</p>  </li>   <li>    <p>Portfolio with examples of your banner work</p>  </li></ul><p>\\xa0</p> <img src=\"https://www.applytracking.com/track.aspx/7Lh1l\"/></p>\\n', 'how_to_apply': '<p><a href=\"https://www.applytracking.com/track.aspx/7Lh1v\">https://www.applytracking.com/track.aspx/7Lh1v</a></p>\\n', 'company': 'Joystick Interactive', 'company_url': None, 'company_logo': None, 'url': 'http://jobs.github.com/positions/9be122ea-f3ad-11e6-8431-a9395bc39ff4'}, {'id': '4c92573c-f352-11e6-9aee-36169161ab0c', 'created_at': 'Wed Feb 15 07:43:08 UTC 2017', 'title': 'Senior Software Engineer', 'location': 'New York', 'type': 'Full Time', 'description': '<p>Arcesium is a post-trade technology and professional services firm. We offer a new way for hedge fund managers to scale their business while maintaining control of critical non-investment activities. Arcesium combines a comprehensive and fully-integrated technology platform with a team of experienced hedge fund professionals to solve the most complex post-trade challenges of asset managers. </p>\\n\\n<p>Building on a platform developed and tested by one of the world’s leading hedge funds, the D. E. Shaw group launched Arcesium as an independent company in 2015. We received additional equity backing from our second seed client, Blackstone Alternative Asset Management, the world’s largest discretionary allocator to hedge funds.</p>\\n\\n<p>Arcesium seeks an exceptional Software Engineer to join our Technology team. This developer will be responsible for building next generation software used by some of the most sophisticated hedge funds in the world, as well as architecting solutions to support new technical and business initiatives. He or she will lead the way in reducing complexity at the most fundamental layers of our technology and data stack, while building core functionality for in-house systems and frameworks. This person will have a demonstrated passion for technology, and be an innovative problem solver.</p>\\n\\n<p>The ideal candidate will have a strong academic background in computer science and approximately 5-8 years of relevant experience as a software engineer at a top startup or technology firm. He or she must possess exceptional verbal and written communication skills and the ability to construct rigorous arguments. Exceptional programming ability and experience in server-side systems, databases (relational and otherwise), and messaging technology are a must. Experience with coding in Python, Java, or other object-oriented language is a must; a familiarity with AWS is highly desired.</p>\\n\\n<p>The Company is an equal employment opportunity employer. We do not discriminate against any applicant, employee, or former employee on the basis of race, color, religion, gender, gender identity, pregnancy, national origin, age, military service eligibility, veteran status, sexual orientation, marital status, disability, or other category protected by law. All employment-related decisions are based solely on legitimate non-discriminatory business reasons.</p>\\n', 'how_to_apply': '<p>To be considered, please send your resume to <a href=\"https://www.deshaw.com/recruit/jobs/Arcesium/Ad/GitHub/SSE\">https://www.deshaw.com/recruit/jobs/Arcesium/Ad/GitHub/SSE</a></p>\\n', 'company': 'Arcesium LLC', 'company_url': 'http://www.arcesium.com/index.shtml', 'company_logo': None, 'url': 'http://jobs.github.com/positions/4c92573c-f352-11e6-9aee-36169161ab0c'}, {'id': '17ab31dc-f24a-11e6-8837-cb3b59399d20', 'created_at': 'Tue Feb 14 00:12:28 UTC 2017', 'title': 'Sr. Java/AEM Developer', 'location': 'New York, NY', 'type': 'Full Time', 'description': '<p>If you want to revolutionize the way people build, manage and use digital content on the web and on mobile apps, you have no better place to work than here.  </p>\\n\\n<p>Our team within the EY National Advisory - Digital and Emerging Technology practice builds enterprise digital platforms to support and transform user experiences and interactions across web, mobile, and social touch points – helping organizations drive the outcomes to which they aspire. Our expertise spans the entire project lifecycle from business strategy and experience design to digital platform architecture and implementation (including CMS, Search, eCommerce, and mobile apps). Our goal is to help organizations optimize their digital and mobile presence through a perfect blend of strategy, experience, and technology.</p>\\n\\n<p>We currently have a career opportunity for a Senior Consultant level candidate. The successful Senior Consultant will work with and through our EY area offices and client sites to assist clients with a variety of needs focused on our Digital and Emerging Technology solution offerings. </p>\\n\\n<p><strong>Responsibilities:</strong></p>\\n\\n<ul>\\n<li>Provide Senior Java level analysis, architecture, design and web development skills</li>\\n<li>Function as Sr. Technical resource and guarantee the technical delivery of all work you and your team are directly involved in</li>\\n<li>Learn new technologies and skills, and display ability to work independently</li>\\n<li>Communicate effectively with clients</li>\\n</ul>\\n\\n<p><strong>Requirements:</strong> </p>\\n\\n<ul>\\n<li>3 year minimum programming and development experience in JEE</li>\\n<li>Candidates should possess a strong foundation in JEE and one additional language (e.g. Python, C++, Ruby, Scala)</li>\\n<li>2 Years minimum technical experience with content management systems (Adobe AEM/CQ5 strongly preferred)</li>\\n<li>Strong background in scalability and automation</li>\\n<li>Professional, polished, client facing, consulting experience</li>\\n<li>Ability to think critically about problems and arrive at a practical solution with a sound architectural foundation</li>\\n<li>Sound CS background particularly in data structures, optimization algorithms, and object oriented design</li>\\n<li>End-to-end knowledge of the web application space including web server configuration, tuning, proxies, and load balancing</li>\\n<li>An understanding of general system administration in Unix/Linux environments, network security, database administration and tuning, and Apache web server configuration, 3rd party services and API configuration and integration</li>\\n</ul>\\n', 'how_to_apply': '<p>Email - <a href=\"mailto:jana.salamanca@ey.cm\">jana.salamanca@ey.cm</a></p>\\n', 'company': 'EY', 'company_url': None, 'company_logo': 'http://github-jobs.s3.amazonaws.com/d1d0bad8-f249-11e6-8942-ce435b235022.jpg', 'url': 'http://jobs.github.com/positions/17ab31dc-f24a-11e6-8837-cb3b59399d20'}, {'id': 'ab85b6c0-eef8-11e6-9c07-e82811d45f16', 'created_at': 'Thu Feb 09 18:51:34 UTC 2017', 'title': 'Software Engineer', 'location': 'New York', 'type': 'Full Time', 'description': '<p>Clarke.ai&#39;s goal is to be everyone’s assistant at work by outlining conversations and carrying out various tasks discussed for them.<br>\\nAs a software engineer at Clarke.ai, you&#39;ll be essential in building and scaling the products, services and APIs that help us achieve this vision. You could be working on our customer facing interface, internal systems, help spec and design new products and features, or improve our core abilities. Most of our systems are written in Python.<br>\\nYou would be an early hire working closely with the founders, with opportunities to grow and shape the company. As a small team, we are conscious of encouraging a productive and rewarding culture of inclusivity, diversity and fun!</p>\\n\\n<p>What we&#39;re looking for: </p>\\n\\n<ul>\\n<li>Product focused engineer with a solid grasp of core fundamentals </li>\\n<li>Experience with Python, AWS, &amp; Docker </li>\\n<li>Someone who is comfortable with wearing many hats without sacrificing quality </li>\\n<li>A background in engineering or another related field and a strong track record of building interesting projects </li>\\n<li>Comfortable with basic HTML / CSS / JS </li>\\n<li>Experience writing test-driven software for a startup or large tech company is a plus</li>\\n</ul>\\n', 'how_to_apply': '<p>Email resume with github / bitbucket profile to <a href=\"mailto:jobs@clarke.ai\">jobs@clarke.ai</a></p>\\n\\n<p>Bonus points talking about your passions, be it surfing, or making toasters talk to your phone.</p>\\n', 'company': 'clarke.ai', 'company_url': 'https://clarke.ai', 'company_logo': 'http://github-jobs.s3.amazonaws.com/622c05a6-eef8-11e6-82df-a35f873fae05.png', 'url': 'http://jobs.github.com/positions/ab85b6c0-eef8-11e6-9c07-e82811d45f16'}]\n",
      "\n",
      "\n"
     ]
    }
   ],
   "source": [
    "import json\n",
    "#resp_dict = json.dumps(resp.content)\n",
    "print (\"\\n\")\n",
    "#print (\"******using .dumps() ********\\n\")\n",
    "#print (type(resp_dict))\n",
    "#print (resp_dict)\n",
    "#print (\"\\n\")\n",
    "print (\"******using .json() ********\\n\")\n",
    "response_github = resp.json()\n",
    "print (response_github)\n",
    "print (\"\\n\")\n",
    "\n"
   ]
  },
  {
   "cell_type": "code",
   "execution_count": 41,
   "metadata": {
    "collapsed": false
   },
   "outputs": [
    {
     "name": "stdout",
     "output_type": "stream",
     "text": [
      "********keys of the 1st job******\n",
      "\n",
      "dict_keys(['id', 'created_at', 'title', 'location', 'type', 'description', 'how_to_apply', 'company', 'company_url', 'company_logo', 'url'])\n",
      "\n",
      "\n"
     ]
    }
   ],
   "source": [
    "print (\"********keys of the 1st job******\\n\")\n",
    "print (resp.json()[0].keys())\n",
    "print (\"\\n\")"
   ]
  },
  {
   "cell_type": "code",
   "execution_count": 42,
   "metadata": {
    "collapsed": false
   },
   "outputs": [
    {
     "name": "stdout",
     "output_type": "stream",
     "text": [
      "********content of the 1st job******\n",
      "\n",
      "{'id': '587a1d78-0428-11e7-8752-4c031c8e4a89', 'created_at': 'Wed Mar 08 17:57:18 UTC 2017', 'title': 'Senior Back-End Engineer, Stealth VC-Backed Fitness Technology Company', 'location': 'New York, NY', 'type': 'Full Time', 'description': '<p>About Us</p>\\n\\n<p>Our company is a stealth fit-tech concept being launched by an established leader in the NYC boutique fitness space with a team of experienced hardware and software engineers. We’re building a hybrid hardware/software product to bring high-quality, personalized fitness content into people’s homes across the country. Team includes experienced IOT engineers and developers, as well as top tier seed investors and advisors, with extensive background in launching premier consumer brands.</p>\\n\\n<p>Role</p>\\n\\n<p>Development of our core backend services and web applications, deployed on AWS, using PostgreSQL, Python and various front-end JS frameworks (React, etc.)\\nMaintain an automated test suite to ensure the application behaves as expected in production\\nManage media content and core user data in AWS and interact with multiple front ends by providing RESTful API’s</p>\\n\\n<p>About You</p>\\n\\n<p>Undergraduate or Graduate degree in Computer Science or equivalent experience\\n4+ years experience working in a hands-on capacity building backend services in Python\\nHeavy experience with SQL (PostgreSQL experience preferred)\\nExperience deploying on AWS and using services like S3, EC2 and DynamoDB\\nExperience with at least one popular front end framework (React.js preferred)</p>\\n\\n<p>You don’t need to be a fitness buff, but you should be excited to build technology that is going to change how people sweat!</p>\\n\\n<p>To apply, send an email to <a href=\"mailto:jobs@getthemirror.com\">jobs@getthemirror.com</a> with the subject “Back-End Engineer.” Attach your CV and/or a link to your LinkedIn profile. Feel free to add your GitHub or any code examples you think are relevant, and let us know what makes you tick as an engineer.</p>\\n', 'how_to_apply': '<p>To apply, send an email to <a href=\"mailto:jobs@getthemirror.com\">jobs@getthemirror.com</a> with the subject “Back-End Engineer.” Attach your CV and/or a link to your LinkedIn profile. Feel free to add your GitHub or any code examples you think are relevant, and let us know what makes you tick as an engineer.</p>\\n', 'company': 'Curiouser Products', 'company_url': None, 'company_logo': 'http://github-jobs.s3.amazonaws.com/03ccd9a2-0421-11e7-9f13-e62a2bafb67e.jpg', 'url': 'http://jobs.github.com/positions/587a1d78-0428-11e7-8752-4c031c8e4a89'}\n"
     ]
    }
   ],
   "source": [
    "print (\"********content of the 1st job******\\n\")\n",
    "\n",
    "print (resp.json()[0])"
   ]
  },
  {
   "cell_type": "code",
   "execution_count": 43,
   "metadata": {
    "collapsed": false
   },
   "outputs": [
    {
     "data": {
      "text/html": [
       "<img src=\"http://github-jobs.s3.amazonaws.com/03ccd9a2-0421-11e7-9f13-e62a2bafb67e.jpg\"/>"
      ],
      "text/plain": [
       "<IPython.core.display.Image object>"
      ]
     },
     "execution_count": 43,
     "metadata": {},
     "output_type": "execute_result"
    }
   ],
   "source": [
    "from IPython.display import Image\n",
    "image_url = resp.json()[0]['company_logo']\n",
    "Image(url=image_url) "
   ]
  },
  {
   "cell_type": "code",
   "execution_count": 44,
   "metadata": {
    "collapsed": false
   },
   "outputs": [
    {
     "data": {
      "text/html": [
       "<p>To apply, send an email to <a href=\"mailto:jobs@getthemirror.com\">jobs@getthemirror.com</a> with the subject “Back-End Engineer.” Attach your CV and/or a link to your LinkedIn profile. Feel free to add your GitHub or any code examples you think are relevant, and let us know what makes you tick as an engineer.</p>\n"
      ],
      "text/plain": [
       "<IPython.core.display.HTML object>"
      ]
     },
     "metadata": {},
     "output_type": "display_data"
    }
   ],
   "source": [
    "from IPython.core.display import display, HTML\n",
    "display(HTML(resp.json()[0]['how_to_apply']))"
   ]
  },
  {
   "cell_type": "markdown",
   "metadata": {},
   "source": [
    "## Assignment\n",
    "- Import SQLAlchemy and configure a SQLite database.\n",
    "- Create 4 tables: company, job, location, github_metadata. Pay sppecial attention on primary and foreign keys as well as unique and non-nullable columns.\n",
    "- Make sure you store 'created_at' as a datetime and not a string."
   ]
  },
  {
   "cell_type": "code",
   "execution_count": 45,
   "metadata": {
    "collapsed": false
   },
   "outputs": [
    {
     "name": "stdout",
     "output_type": "stream",
     "text": [
      "2017-03-10 21:15:33,215 INFO sqlalchemy.engine.base.Engine SELECT CAST('test plain returns' AS VARCHAR(60)) AS anon_1\n",
      "2017-03-10 21:15:33,216 INFO sqlalchemy.engine.base.Engine ()\n",
      "2017-03-10 21:15:33,219 INFO sqlalchemy.engine.base.Engine SELECT CAST('test unicode returns' AS VARCHAR(60)) AS anon_1\n",
      "2017-03-10 21:15:33,221 INFO sqlalchemy.engine.base.Engine ()\n",
      "2017-03-10 21:15:33,222 INFO sqlalchemy.engine.base.Engine PRAGMA table_info(\"company\")\n",
      "2017-03-10 21:15:33,223 INFO sqlalchemy.engine.base.Engine ()\n",
      "2017-03-10 21:15:33,225 INFO sqlalchemy.engine.base.Engine PRAGMA table_info(\"job\")\n",
      "2017-03-10 21:15:33,226 INFO sqlalchemy.engine.base.Engine ()\n",
      "2017-03-10 21:15:33,228 INFO sqlalchemy.engine.base.Engine PRAGMA table_info(\"location\")\n",
      "2017-03-10 21:15:33,228 INFO sqlalchemy.engine.base.Engine ()\n",
      "2017-03-10 21:15:33,229 INFO sqlalchemy.engine.base.Engine PRAGMA table_info(\"github_metadata\")\n",
      "2017-03-10 21:15:33,230 INFO sqlalchemy.engine.base.Engine ()\n",
      "2017-03-10 21:15:33,232 INFO sqlalchemy.engine.base.Engine \n",
      "CREATE TABLE company (\n",
      "\tid INTEGER NOT NULL, \n",
      "\tname VARCHAR NOT NULL, \n",
      "\turl VARCHAR, \n",
      "\tlogo_url VARCHAR, \n",
      "\tPRIMARY KEY (id), \n",
      "\tUNIQUE (url)\n",
      ")\n",
      "\n",
      "\n",
      "2017-03-10 21:15:33,233 INFO sqlalchemy.engine.base.Engine ()\n",
      "2017-03-10 21:15:33,234 INFO sqlalchemy.engine.base.Engine COMMIT\n",
      "2017-03-10 21:15:33,235 INFO sqlalchemy.engine.base.Engine \n",
      "CREATE TABLE job (\n",
      "\tid INTEGER NOT NULL, \n",
      "\tcompany_id INTEGER NOT NULL, \n",
      "\ttype_ INTEGER, \n",
      "\ttitle VARCHAR NOT NULL, \n",
      "\tdescription VARCHAR, \n",
      "\thow_to_apply VARCHAR, \n",
      "\tPRIMARY KEY (id), \n",
      "\tFOREIGN KEY(company_id) REFERENCES company (id)\n",
      ")\n",
      "\n",
      "\n",
      "2017-03-10 21:15:33,236 INFO sqlalchemy.engine.base.Engine ()\n",
      "2017-03-10 21:15:33,237 INFO sqlalchemy.engine.base.Engine COMMIT\n",
      "2017-03-10 21:15:33,238 INFO sqlalchemy.engine.base.Engine \n",
      "CREATE TABLE location (\n",
      "\tjob_id INTEGER NOT NULL, \n",
      "\tdescription VARCHAR, \n",
      "\tremote_ok INTEGER, \n",
      "\tPRIMARY KEY (job_id), \n",
      "\tFOREIGN KEY(job_id) REFERENCES job (id)\n",
      ")\n",
      "\n",
      "\n",
      "2017-03-10 21:15:33,239 INFO sqlalchemy.engine.base.Engine ()\n",
      "2017-03-10 21:15:33,240 INFO sqlalchemy.engine.base.Engine COMMIT\n",
      "2017-03-10 21:15:33,241 INFO sqlalchemy.engine.base.Engine \n",
      "CREATE TABLE github_metadata (\n",
      "\tjob_id INTEGER NOT NULL, \n",
      "\tgithub_id VARCHAR, \n",
      "\turl VARCHAR NOT NULL, \n",
      "\tcreated_at DATETIME NOT NULL, \n",
      "\tPRIMARY KEY (job_id), \n",
      "\tFOREIGN KEY(job_id) REFERENCES job (id), \n",
      "\tUNIQUE (github_id)\n",
      ")\n",
      "\n",
      "\n",
      "2017-03-10 21:15:33,242 INFO sqlalchemy.engine.base.Engine ()\n",
      "2017-03-10 21:15:33,244 INFO sqlalchemy.engine.base.Engine COMMIT\n"
     ]
    }
   ],
   "source": [
    "import sqlalchemy\n",
    "from sqlalchemy import * #create_engine, Table, MetaData\n",
    "db = create_engine('sqlite:///:memory:', echo=True)\n",
    "\n",
    "metadata = MetaData()\n",
    "'''\n",
    "jobs = Table('', Base.metadata,\n",
    "    Column('job_id', Integer, ForeignKey('jobs.id'))\n",
    "    \n",
    ")\n",
    "'''\n",
    "company_table = Table('company', metadata,\n",
    "                      Column('id', Integer, primary_key=True),\n",
    "                      Column('name', String, nullable=False),\n",
    "                      Column('url', String, unique=True),\n",
    "                      Column('logo_url', String))\n",
    "\n",
    "job_table = Table('job', metadata,\n",
    "                  Column('id', Integer, primary_key=True),\n",
    "                  Column('company_id', None, ForeignKey('company.id'), nullable=False),\n",
    "                  Column('type_', Integer),\n",
    "                  Column('title', String, nullable=False),\n",
    "                  Column('description', String),\n",
    "                  Column('how_to_apply', String))\n",
    "\n",
    "location_table = Table('location', metadata,\n",
    "                      Column('job_id', None, ForeignKey('job.id'), primary_key=True),\n",
    "                      Column('description', String),\n",
    "                      Column('remote_ok', Integer))\n",
    "\n",
    "github_metadata_table = Table('github_metadata', metadata,\n",
    "                              Column('job_id', None, ForeignKey('job.id'), primary_key=True),\n",
    "                              Column('github_id', String, unique=True),\n",
    "                              Column('url', String, nullable=False),\n",
    "                              Column('created_at', DateTime, nullable=False))\n",
    "\n",
    "metadata.create_all(db)\n",
    "conn = db.connect()\n"
   ]
  },
  {
   "cell_type": "markdown",
   "metadata": {},
   "source": [
    "## Assignment\n",
    "- Store the data you got from the API request in the database.\n",
    "- Make sure you create a transaction (i.e., if an error occurs while saving a job's location data the database should rollback on all statements regarding that job)."
   ]
  },
  {
   "cell_type": "code",
   "execution_count": 46,
   "metadata": {
    "collapsed": true
   },
   "outputs": [],
   "source": [
    "from enum import Enum\n",
    "\n",
    "class JobType(Enum):\n",
    "    full_time = 1\n",
    "    part_time = 2\n",
    "\n",
    "    @staticmethod\n",
    "    def from_string(string):\n",
    "        if string.lower() == 'full time' or string.lower() == 'full-time':\n",
    "            return JobType.full_time\n",
    "        elif string.lower() == 'part time' or string.lower() == 'part-time':\n",
    "            return JobType.part_time\n",
    "        else:\n",
    "            raise RuntimeError('JobType not supported: {}'.format(string))"
   ]
  },
  {
   "cell_type": "code",
   "execution_count": 47,
   "metadata": {
    "collapsed": false
   },
   "outputs": [],
   "source": [
    "def add_company(name, url, logo_url, connection=conn):\n",
    "\n",
    "    insert = company_table.insert().values(name=name, url=url, logo_url=logo_url)\n",
    "    result = connection.execute(insert)\n",
    "    return result.inserted_primary_key[0]\n",
    "\n",
    "def add_job(company_id, type_str, title, description, how_to_apply, connection=conn):\n",
    "\n",
    "    insert = job_table.insert().values(company_id=company_id, \n",
    "                                       type_=JobType.from_string(type_str).value, \n",
    "                                       title=title, description=description, how_to_apply=how_to_apply) \n",
    "    result = connection.execute(insert)\n",
    "    return result.inserted_primary_key[0]\n",
    "\n",
    "def add_location(job_id, description, connection=conn):\n",
    "\n",
    "    insert = location_table.insert().values(job_id=job_id, description=description, \n",
    "                                       remote_ok=int('remote' in description.lower() \n",
    "                                                     or 'telecommute' in description.lower())) \n",
    "    result = connection.execute(insert)\n",
    "    return result.inserted_primary_key[0]\n",
    "\n",
    "import datetime\n",
    "created_at_pattern = '%a %b %d %X %Z %Y'\n",
    "\n",
    "def add_github_metadata(job_id, github_id, url, created_at_str, connection=conn):\n",
    "\n",
    "    insert = github_metadata_table.insert().values(job_id=job_id, github_id=github_id, url=url,\n",
    "                                       created_at=datetime.datetime.strptime(created_at_str, created_at_pattern))\n",
    "    result = connection.execute(insert)\n",
    "    return result.inserted_primary_key[0]"
   ]
  },
  {
   "cell_type": "code",
   "execution_count": 48,
   "metadata": {
    "collapsed": true
   },
   "outputs": [],
   "source": [
    "from sqlalchemy.sql import select\n",
    "\n",
    "def select_or_insert_company(name, url, logo_url, connection=conn):\n",
    "\n",
    "    s = select([company_table]).where(company_table.c.url == url)\n",
    "    result = connection.execute(s).fetchone()\n",
    "    if result is not None:\n",
    "        return result['id']\n",
    "    else:\n",
    "        new_id = add_company(name, url, logo_url, connection)\n",
    "        return new_id"
   ]
  },
  {
   "cell_type": "code",
   "execution_count": 49,
   "metadata": {
    "collapsed": true
   },
   "outputs": [],
   "source": [
    "def select_or_insert_job(company_name, company_url, company_logo_url, \n",
    "                         github_id, github_url, github_created_at_str,\n",
    "                         type_str, title, description, how_to_apply,\n",
    "                         location_description):\n",
    "    \"\"\"\n",
    "    Returns the job id either by selecting from or inserting in job_table.\n",
    "    \n",
    "    This function might also insert new location, github_metadata and company entries.\n",
    "    \"\"\"\n",
    "    s = select([github_metadata_table]).where(github_metadata_table.c.github_id == github_id)\n",
    "    result = conn.execute(s).fetchone()\n",
    "    if result is not None:\n",
    "        return result['job_id']\n",
    "    else:\n",
    "        with db.begin() as transaction:\n",
    "            company_id = select_or_insert_company(company_name, company_url, company_logo_url, transaction)\n",
    "            job_id = add_job(company_id, type_str, title, description, how_to_apply, transaction)\n",
    "            add_github_metadata(job_id, github_id, github_url, github_created_at_str, transaction)\n",
    "            add_location(job_id, location_description, transaction)\n",
    "            \n",
    "        return job_id\n",
    "    "
   ]
  },
  {
   "cell_type": "code",
   "execution_count": 50,
   "metadata": {
    "collapsed": false
   },
   "outputs": [
    {
     "name": "stdout",
     "output_type": "stream",
     "text": [
      "what's json response.. [{'id': '587a1d78-0428-11e7-8752-4c031c8e4a89', 'created_at': 'Wed Mar 08 17:57:18 UTC 2017', 'title': 'Senior Back-End Engineer, Stealth VC-Backed Fitness Technology Company', 'location': 'New York, NY', 'type': 'Full Time', 'description': '<p>About Us</p>\\n\\n<p>Our company is a stealth fit-tech concept being launched by an established leader in the NYC boutique fitness space with a team of experienced hardware and software engineers. We’re building a hybrid hardware/software product to bring high-quality, personalized fitness content into people’s homes across the country. Team includes experienced IOT engineers and developers, as well as top tier seed investors and advisors, with extensive background in launching premier consumer brands.</p>\\n\\n<p>Role</p>\\n\\n<p>Development of our core backend services and web applications, deployed on AWS, using PostgreSQL, Python and various front-end JS frameworks (React, etc.)\\nMaintain an automated test suite to ensure the application behaves as expected in production\\nManage media content and core user data in AWS and interact with multiple front ends by providing RESTful API’s</p>\\n\\n<p>About You</p>\\n\\n<p>Undergraduate or Graduate degree in Computer Science or equivalent experience\\n4+ years experience working in a hands-on capacity building backend services in Python\\nHeavy experience with SQL (PostgreSQL experience preferred)\\nExperience deploying on AWS and using services like S3, EC2 and DynamoDB\\nExperience with at least one popular front end framework (React.js preferred)</p>\\n\\n<p>You don’t need to be a fitness buff, but you should be excited to build technology that is going to change how people sweat!</p>\\n\\n<p>To apply, send an email to <a href=\"mailto:jobs@getthemirror.com\">jobs@getthemirror.com</a> with the subject “Back-End Engineer.” Attach your CV and/or a link to your LinkedIn profile. Feel free to add your GitHub or any code examples you think are relevant, and let us know what makes you tick as an engineer.</p>\\n', 'how_to_apply': '<p>To apply, send an email to <a href=\"mailto:jobs@getthemirror.com\">jobs@getthemirror.com</a> with the subject “Back-End Engineer.” Attach your CV and/or a link to your LinkedIn profile. Feel free to add your GitHub or any code examples you think are relevant, and let us know what makes you tick as an engineer.</p>\\n', 'company': 'Curiouser Products', 'company_url': None, 'company_logo': 'http://github-jobs.s3.amazonaws.com/03ccd9a2-0421-11e7-9f13-e62a2bafb67e.jpg', 'url': 'http://jobs.github.com/positions/587a1d78-0428-11e7-8752-4c031c8e4a89'}, {'id': '0b6b0a38-0428-11e7-87e3-69c380153781', 'created_at': 'Wed Mar 08 17:54:50 UTC 2017', 'title': 'Back-End Engineer, Stealth VC-Backed Fitness Technology Company', 'location': 'New York, NY', 'type': 'Full Time', 'description': '<p>About Us</p>\\n\\n<p>Our company is a stealth fit-tech concept being launched by an established leader in the NYC boutique fitness space with a team of experienced hardware and software engineers. We’re building a hybrid hardware/software product to bring high-quality, personalized fitness content into people’s homes across the country. Team includes experienced IOT engineers and developers, as well as top tier seed investors and advisors, with extensive background in launching premier consumer brands.</p>\\n\\n<p>Role</p>\\n\\n<p>Development of our core backend services and web applications, deployed on AWS, using PostgreSQL, Python and various front-end JS frameworks (React, etc.)\\nMaintain an automated test suite to ensure the application behaves as expected in production\\nManage media content and core user data in AWS and interact with multiple front ends by providing RESTful API’s</p>\\n\\n<p>About You</p>\\n\\n<p>Undergraduate or Graduate degree in Computer Science or equivalent experience\\n2+ years experience working in a hands-on capacity building backend services in Python\\nHeavy experience with SQL (PostgreSQL experience preferred)\\nExperience deploying on AWS and using services like S3, EC2 and DynamoDB\\nExperience with at least one popular front end framework (React.js preferred)</p>\\n\\n<p>You don’t need to be a fitness buff, but you should be excited to build technology that is going to change how people sweat!</p>\\n\\n<p>To apply, send an email to <a href=\"mailto:jobs@getthemirror.com\">jobs@getthemirror.com</a> with the subject “Back-End Engineer.” Attach your CV and/or a link to your LinkedIn profile. Feel free to add your GitHub or any code examples you think are relevant, and let us know what makes you tick as an engineer.</p>\\n', 'how_to_apply': '<p>To apply, send an email to <a href=\"mailto:jobs@getthemirror.com\">jobs@getthemirror.com</a> with the subject “Back-End Engineer.” Attach your CV and/or a link to your LinkedIn profile. Feel free to add your GitHub or any code examples you think are relevant, and let us know what makes you tick as an engineer.</p>\\n', 'company': 'Curiouser Products', 'company_url': None, 'company_logo': 'http://github-jobs.s3.amazonaws.com/212fb244-0421-11e7-97a4-13e57e096744.jpg', 'url': 'http://jobs.github.com/positions/0b6b0a38-0428-11e7-87e3-69c380153781'}, {'id': '529b9d4c-0373-11e7-93ef-382981ce9f73', 'created_at': 'Tue Mar 07 20:19:45 UTC 2017', 'title': 'Android Engineer, Stealth VC-backed Fitness Technology Co.', 'location': 'New York', 'type': 'Full Time', 'description': '<p>About Us</p>\\n\\n<p>Our company is a stealth fit-tech concept being launched by an established leader in the NYC boutique fitness space with a team of experienced hardware and software engineers. We’re building a hybrid hardware/software product to bring high-quality, personalized fitness content into people’s homes across the country. Team includes experienced IOT engineers and developers, as well as top tier seed investors and advisors, with extensive background in launching premier consumer brands.</p>\\n\\n<p>Role</p>\\n\\n<p>Software development of our embedded Android applications\\nFocus on video and audio media, as well as UI elements displayed on the hardware’s screen\\nOccasionally, get your hands dirty working in other parts of our stack (Python, Postgres, AWS, etc.)</p>\\n\\n<p>About You</p>\\n\\n<p>Undergraduate or Graduate degree in Computer Science or equivalent experience\\n2+ years experience working in a hands-on capacity building Android applications and services\\nExperience with Bluetooth and WiFi API’s on Android\\nExperience with WebRTC and/or Video Streaming on Android are a huge plus\\nYou don’t need to be a fitness buff, but you should be excited to build technology that is going to change how people sweat!</p>\\n\\n<p>To apply please send an email to <a href=\"mailto:jobs@getthemirror.com\">jobs@getthemirror.com</a> with the subject ‘Android Engineer’. Attach your CV and/or a link to your LinkedIn profile. Feel free to add your GitHub or any code examples you think are relevant, and let us know what makes you tick as an engineer.</p>\\n', 'how_to_apply': '<p>Please send an email to <a href=\"mailto:jobs@getthemirror.com\">jobs@getthemirror.com</a> with the subject ‘Android Engineer’. Attach your CV and/or a link to your LinkedIn profile. Feel free to add your GitHub or any code examples you think are relevant, and let us know what makes you tick as an engineer.</p>\\n', 'company': 'Curiouser Products', 'company_url': None, 'company_logo': 'http://github-jobs.s3.amazonaws.com/3709b0e6-0373-11e7-8edb-4c3821357f18.jpg', 'url': 'http://jobs.github.com/positions/529b9d4c-0373-11e7-93ef-382981ce9f73'}, {'id': '9aee7e4e-0372-11e7-830c-5631a851436c', 'created_at': 'Tue Mar 07 20:15:02 UTC 2017', 'title': 'Senior Android Engineer, Stealth VC-backed Fitness Technology Co.', 'location': 'New York, NY', 'type': 'Full Time', 'description': '<p>About Us</p>\\n\\n<p>Our company is a stealth fittech concept being launched by an established leader in the NYC boutique fitness space with a team of experienced hardware and software engineers. We’re building a hybrid hardware/software product to bring high-quality, personalized fitness content into people’s homes across the country. Team includes experienced IOT engineers and developers, as well as top tier seed investors and advisors, with extensive background in launching premier consumer brands.</p>\\n\\n<p>Role</p>\\n\\n<p>Software development of our embedded Android applications\\nFocus on video and audio media, as well as UI elements displayed on the hardware’s screen\\nOccasionally, get your hands dirty working in other parts of our stack (Python, Postgres, AWS, etc.)</p>\\n\\n<p>About You</p>\\n\\n<p>Undergraduate or Graduate degree in Computer Science or equivalent experience\\n5++ years experience working in a hands-on capacity building Android applications and services\\nExperience with Bluetooth and WiFi API’s on Android\\nExperience with WebRTC and/or Video Streaming on Android are a huge plus\\nYou don’t need to be a fitness buff, but you should be excited to build technology that is going to change how people sweat!</p>\\n\\n<p>To apply please send an email to <a href=\"mailto:jobs@getthemirror.com\">jobs@getthemirror.com</a> with the subject ‘Android Engineer’. Attach your CV and/or a link to your LinkedIn profile. Feel free to add your GitHub or any code examples you think are relevant, and let us know what makes you tick as an engineer.</p>\\n', 'how_to_apply': '<p>To apply please send an email to <a href=\"mailto:jobs@getthemirror.com\">jobs@getthemirror.com</a> with the subject ‘Android Engineer’. Attach your CV and/or a link to your LinkedIn profile. Feel free to add your GitHub or any code examples you think are relevant, and let us know what makes you tick as an engineer.</p>\\n', 'company': 'Curiouser Products', 'company_url': None, 'company_logo': 'http://github-jobs.s3.amazonaws.com/7d530094-0372-11e7-88fa-788378af1c10.jpg', 'url': 'http://jobs.github.com/positions/9aee7e4e-0372-11e7-830c-5631a851436c'}, {'id': '05c9af4a-ff72-11e6-9e4c-4ee727b55195', 'created_at': 'Thu Mar 02 18:09:06 UTC 2017', 'title': 'Full Stack Engineers - PRICELINE.COM', 'location': 'New York CIty and Norwalk CT', 'type': 'Full Time', 'description': '<p>&quot;Build Products that help People Experience the World&quot;\\nOur Teams\\nJoin an Agile team of professionals dedicated to building the next generation of travel applications.  Priceline.com provides a unique opportunity for Developers to solve for every requirement that makes for a great trip.  From booking a flight anywhere in the world to renting that convertible for a cross country road trip, our teams thrive on providing the best life experiences for millions of customers – and at a great price.\\nOur Technology\\nJavascript has dominated the language sphere and with the continued strength of Node.js Priceline.com has placed Node.js at the forefront of what we use to build our customer-facing applications.  Our Developer culture dictates what we use and when.  Our teams build products that we expect to stick around for a long period of time.  We celebrate codebases that employ patterns as traditional as MVVM and as modern as Redux. You will work on systems that serve hundreds of millions of searches a day, generate billions of events, and are monitored 24x7 using the best of the big data technologies. Code is our product, and at Priceline.com we will look to you to help us maintain, evolve, extend and modernize the products we build that help people experience the world. \\nOur Culture\\nThe Priceline.com culture is one of collaboration and leadership.  Self-starters are encouraged to explore, fail fast and build new things.  Set goals and achieve them through collaboration with your team.  Join in various Developer forums lead by Developers of all levels.  Build or attend a program and explore the benefits of modern technology.  Find places that lack ownership and own them.\\nCollaboration, ownership and innovation are our primary tenets.\\nSo what are you waiting for?\\nApply for a position on one of our lean, agile and innovative teams.  Build the next exciting new product or feature that will ultimately help millions of people experience the world.\\nTechnical Specs of our Full Stack Developers\\nCommon Skills</p>\\n\\n<ul>\\n<li>Bachelor&#39;s degree in Computer Science.</li>\\n<li>Experience with Javascript, Java, Golang and/or Python.</li>\\n<li>Software development patterns like OOP, Flux/Redux, Modular, MVVM, MVC and Observer.</li>\\n<li>ES2015 and functional JavaScript is a plus.  Using methods like map, reduce and filter.</li>\\n<li>Webservices and API development is a plus using solutions such as Cassandra, Hadoop, Spark, Kafka, Elastic Search and Solr.</li>\\n<li>A healthy discipline of test driven development (TDD).\\nFront End Chops\\nFront end at Priceline.com means building applications that millions of customers will use and interact with.  Some things we look for in front end skills include:</li>\\n<li>Proficiency with JavaScript core language features and functionality.  String manipulation, working on collections, build and destroying DOM elements, event-based development, AJAX etc...</li>\\n<li>Experience building and maintaining front end applications with modern frameworks and tools like Angular.js, React.js, Ember.js or Vue.js.</li>\\n<li>Being familiar with terms like &quot;partials&quot; and &quot;components&quot;.</li>\\n<li>Ability to author and maintain semantic and accessible markup.</li>\\n<li>At Priceline.com we are all about style, so CSS is a must for front end development.  Understanding of practical uses of responsive design, the use of tools like SASS, and the authoring modular CSS.\\nThe Server Side and the Services Layer\\nFull stack development of course requires that we know something about the server, databases and how they work.  At Priceline.com we employ a number of technologies on our servers so having expertise in these topics is something we look for.</li>\\n<li>Understanding of Node.js and how it works. Experience with common libraries like Express.js and routing. The prevention and detection of memory leaks, security, logging, middleware and the use of templates.</li>\\n<li>You will need to have strong object-oriented design and development skills and working knowledge of core Java or similar programming languages.  Knowledge and experience with third party libraries, frameworks, and technologies is a plus.</li>\\n<li>Development and maintenance of micro-services as it applies to API development and orchestration.  An example would be GraphQL, or content services.</li>\\n<li>You will need to have strong SQL composition skills.  Knowledge of big data and NoSQL databases is a plus.  We not only write software that collects and queries data, but we also compose queries for investigation and analysis. We collect a lot of data in real time from our applications and being able to compose ad hoc queries is necessary to develop and support our products.</li>\\n</ul>\\n', 'how_to_apply': '<p><a href=\"mailto:careers@cameronkinston.com\">careers@cameronkinston.com</a></p>\\n', 'company': 'PRICELINE.COM', 'company_url': 'http://www.priceline.com ', 'company_logo': 'http://github-jobs.s3.amazonaws.com/26a50ccc-ff73-11e6-8e44-fa883eb76813.jpg', 'url': 'http://jobs.github.com/positions/05c9af4a-ff72-11e6-9e4c-4ee727b55195'}, {'id': 'fb093958-fe00-11e6-8fa5-72df12fc8186', 'created_at': 'Tue Feb 28 21:58:46 UTC 2017', 'title': 'Backend Engineer', 'location': 'New York', 'type': 'Full Time', 'description': '<p>About Moat\\nWe help brands and media companies push the envelope on privacy-friendly models of advertising, help them make sound product decisions that involve running fewer ads, help make their ads load faster, fight botnets, and strive to de-fund fake news. We are a New York City-headquartered startup with a mission to help the world&#39;s top publishers and marketers make smarter decisions through real-\\xadtime data. Our analytics and intelligence software is used by The New York Times, Condé Nast, Kellogg&#39;s, P&amp;G, Spotify, and hundreds of other major platforms and advertisers, and we have unique measurement integrations into Facebook, Instagram, Twitter, Snapchat, and YouTube.</p>\\n\\n<p>About the Opportunity \\nWe&#39;re looking for a Backend Engineer who can help architect robust backend systems that support our product offerings, including a real-time analytics system as well as an industry search engine that play a mission-critical role for some of the world&#39;s largest publishers, media companies, and technology companies.</p>\\n\\n<ul>\\n<li>Take part in pushing billions of transactions per day through probabilistic data structures.</li>\\n<li>Working with columnar databases and advanced PostgreSQL features to improve performance of analytical workloads.</li>\\n<li>Collaborating with Amazon developers and helping to shape the product roadmap of several AWS services.</li>\\n<li>Build backend services and interfacing with other APIs.</li>\\n<li>Scaling a global web crawler to help transform unstructured web data to structured data.</li>\\n<li>Managing thousands of EC2 instances</li>\\n<li>Help design and engineer the architecture for scalability, high availability, performance, flexibility, operational efficiency, security and maintainability.</li>\\n</ul>\\n\\n<p>About You</p>\\n\\n<ul>\\n<li>2-4 years of professional experience.</li>\\n<li>BS, MS, or PhD in computer science, engineering, or other related field.</li>\\n<li>Experience with multiple languages, web frameworks, and datastores.</li>\\n<li>Extensive experience with one (or all) -  Python, C, C++, Shell, and Unix.</li>\\n<li>Depth experience in one or more of the following areas:  distributed data processing, complex web-app design, and/or cloud infrastructure design (AWS).</li>\\n</ul>\\n\\n<p>About the Team</p>\\n\\n<ul>\\n<li>We are passionate, excited, and thrive in a fast paced culture.</li>\\n<li>We love sharing our knowledge and learning about new technologies.</li>\\n<li>We are the type of people who take risks when looking for novel and creative solutions to complex problems.</li>\\n<li>We care about solving big-picture, systemic problems—looking beyond the surface to understand root causes so that we can build complete and long-term solutions.</li>\\n</ul>\\n', 'how_to_apply': '<p><a href=\"https://moat.com/jobs/job-description?gh_jid=72468\">https://moat.com/jobs/job-description?gh_jid=72468</a></p>\\n', 'company': 'Moat', 'company_url': 'http://Moat.com', 'company_logo': 'http://github-jobs.s3.amazonaws.com/f18b3f34-fe00-11e6-8fd6-3237d03f3de5.png', 'url': 'http://jobs.github.com/positions/fb093958-fe00-11e6-8fa5-72df12fc8186'}, {'id': '0a09c6de-fae6-11e6-849a-628f7d5ba12b', 'created_at': 'Fri Feb 24 23:08:28 UTC 2017', 'title': 'Software Engineer', 'location': 'New York, NY', 'type': 'Full Time', 'description': '<p>SOFTWARE ENGINEER, ENVOY\\nENIGMA NYC</p>\\n\\n<p>The mission of the Envoy Engineering team is to help transform how leading Fortune 500 companies do business and integrate data into their decision-making, broadly expanding how data is accessed and applied within an organization. By applying Enigma technologies to real-world industry challenges, this team is responsible for enabling next-generation business processes for blue chip clients, one workflow, process, or team at a time. Our work varies with every client engagement, but past work has included: Helping financial services organizations develop compliance practices that cut off funding to terrorists and human traffickers, Allowing top quantitative hedge funds to integrate high-caliber data into their investment decision-making, Enabling pharmaceutical companies to get contaminated medications off the shelves more quickly.</p>\\n\\n<p>The Role:\\nAs a Software Engineer on the Envoy team, you’ll work alongside a brilliant team of other curious, data obsessed co-workers, who want to share the magic that Enigma products can bring to a customer. On a given day, you’ll interact with your project team, as well as with representatives from Enigma&#39;s Commercial, Product, and Data Science teams. You’ll be up against a variety of engineering challenges since every client context and method of product adoption comes with its own flavor of both people and technical work.</p>\\n\\n<p>You’ll work closely with our client stakeholders as we deploy our products, keeping our ears to the ground for valuable nuggets about product value and end user needs that we can convey to our product managers and business strategists to ensure our roadmaps are actively listening to our customers.  The ideal candidate will find incredibly rewarding the ability to contribute to a start-to-finish experience for clients that doubles as the key driver of growth for Enigma as a business as well.</p>\\n\\n<p>Qualities we value:\\nCan demonstrate competence in one or more of {Python, Go, C, C++, Java, JavaScript, Ruby}\\nHas exposure to or experience building distributed systems.\\nPassion for being an empathetic solutions oriented engineer, with a desire for educating and successfully deploying our broad range of products across the Fortune 500 clients that we engage with.\\nIs motivated by working closely with our customers, and will do whatever it takes to find the optimal solution for the task.\\nYou enjoy learning and sharing your valuable feedback to our Product team, so we can continue to iterate and improve.\\nYou are highly motivated, results oriented, are a problem solver, and have a keen sense of empathy when working in a client-facing setting.</p>\\n\\n<p>Our Story:\\nFounded in 2012, Enigma is a rapidly growing team based in the Flatiron neighborhood of New York City. We are Series B funded startup backed by an amazing roster of investors including NEA Ventures, Two Sigma Ventures, American Express Ventures, and The New York Times Company.\\nEnigma grew out of an effort to retrieve, normalize, and host public data. Fun fact, our big coming out party was winning TechCrunch Disrupt&#39;s 2013 Battlefield. Our vision is to empower people to interpret, and improve, the world around them. We place data in the context of the real world and make it connected, open and actionable. Enigma has one of the world’s largest repositories of public data and a powerful infrastructure for operationalizing data in the enterprise. We help global-scale companies tackle some of their hardest problems by driving public data and enterprise ontologies in mission-critical workflows.</p>\\n', 'how_to_apply': '<p>Apply here: <a href=\"http://grnh.se/6oi4d71\">http://grnh.se/6oi4d71</a></p>\\n', 'company': 'Enigma', 'company_url': 'http://enigma.io/', 'company_logo': None, 'url': 'http://jobs.github.com/positions/0a09c6de-fae6-11e6-849a-628f7d5ba12b'}, {'id': '9be122ea-f3ad-11e6-8431-a9395bc39ff4', 'created_at': 'Wed Feb 15 18:36:06 UTC 2017', 'title': 'Lead Rich Media Ad Developer', 'location': 'New York, NY, US', 'type': 'Full Time', 'description': '<p><p>We are looking for you!</p><p>Have you always dreamed of joining a team of quirky, smart, funny, pizza lovers? Then you might be our next Lead Display Ad Developer! But what will you do? You will work closely with our producers, designers, and other developers to create innovative and exciting digital products.</p><p>Please read and consider the responsibilities and qualifications thoroughly before applying.</p><p><strong>Description:</strong></p><p>We are looking for an experienced Display Ad Developer to join our New York team. You’ll be working with our producers and design team to concept, design, and implement creative for brands, other agencies, publishers and technology providers.\\xa0</p><p>Please read and consider the responsibilities and qualifications thoroughly before applying.</p><p><strong>Job Qualifications:</strong></p><ul>   <li>    <p>Expert in Javascript, HTML5, and CSS</p> </li>   <li>    <p>Experience in Ad building platforms (DoubleClick, Sizmek, Celtra, etc)</p>   </li>   <li>    <p>Strong Javascript and CSS3 Animation chops</p>   </li>   <li>    <p>Wild about Responsive Design</p> </li>   <li>    <p>Knowledge of digital advertising technology (Desktop and Mobile)</p> </li>   <li>    <p>Knowledge of available front end and back end frameworks and web dev tools</p>   </li>   <li>    <p>Experience with Git or other version control</p> </li>   <li>    <p>A passion for learning and using emerging technologies (WegGL, Web Audio API, Unity3D)</p>   </li>   <li>    <p>Familiarity with various APIs like Facebook, Twitter, Instagram, Google Maps. G+, etc.</p>   </li>   <li>    <p>Some familiarity with either PHP, Python, Rails or Node.js</p>   </li>   <li>    <p>Wants to have a job that they are passionate about wants to push the limits of what has been done on the web.</p>    </li></ul><p><strong>Competencies:</strong></p><ul> <li>    <p>Excellent verbal and written communication skills.</p>   </li>   <li>    <p>Prior experience within an Agency environment.</p>   </li></ul><p><strong>A Strong Preference will be given to Developers who have:</strong></p><ul> <li>    <p>Competent design skills on top of being a killer coder</p>   </li>   <li>    <p>A proven passion for coding, and solving problems</p>    </li>   <li>    <p>Personal projects that they developed in their own free time</p> </li>   <li>    <p>Contributed code to an open source project</p>   </li>   <li>    <p>Contributed to a development community</p>   </li>   <li>    <p>Self motivated and Independent Learners</p>  </li></ul><p><strong>About Us:</strong></p><p>Joystick Interactive is a digital, creative agency with a strong focus on rich media and online advertising. We work with some of the world&#39;s biggest brands and have a solid reputation in the industry by working with brands directly as well as through agencies, publishers and technology providers. With offices in New York, Los Angeles, and London we are expanding our team to keep up with increased demand. As you can see from our website, we have a wide range of capabilities and play different roles to different clients. We are looking for people who are interested in growing with the company across both our New York and Los Angeles-based teams. These are great opportunities for anyone with an entrepreneurial spirit who is looking to grow with an independently owned company.</p><p>****</p><p><strong>Qualifications:</strong></p><ul>    <li>    <p>3-5 years of experience building HTML5 banners or digital agency experience</p>  </li>   <li>    <p>Bachelor’s degree</p>  </li>   <li>    <p>Experience managing people</p>   </li>   <li>    <p>Track record of leadership, coaching and mentoring abilities</p> </li></ul><p><strong>Benefits:</strong></p><ul> <li>    <p>This is a full-time opportunity</p>  </li>   <li>    <p>Health, dental and vision insurance</p>  </li>   <li>    <p>401k</p> </li>   <li>    <p>Potential for this position to be remote, but candidate must be willing to work New York hours.</p>  </li></ul><p><strong>Please send the following to apply for the position:</strong></p><ul>  <li>    <p>Cover letter explaining why you are qualified and feel that this position is a good fit for you</p>  </li>   <li>    <p>Portfolio with examples of your banner work</p>  </li></ul><p>\\xa0</p> <img src=\"https://www.applytracking.com/track.aspx/7Lh1l\"/></p>\\n', 'how_to_apply': '<p><a href=\"https://www.applytracking.com/track.aspx/7Lh1v\">https://www.applytracking.com/track.aspx/7Lh1v</a></p>\\n', 'company': 'Joystick Interactive', 'company_url': None, 'company_logo': None, 'url': 'http://jobs.github.com/positions/9be122ea-f3ad-11e6-8431-a9395bc39ff4'}, {'id': '4c92573c-f352-11e6-9aee-36169161ab0c', 'created_at': 'Wed Feb 15 07:43:08 UTC 2017', 'title': 'Senior Software Engineer', 'location': 'New York', 'type': 'Full Time', 'description': '<p>Arcesium is a post-trade technology and professional services firm. We offer a new way for hedge fund managers to scale their business while maintaining control of critical non-investment activities. Arcesium combines a comprehensive and fully-integrated technology platform with a team of experienced hedge fund professionals to solve the most complex post-trade challenges of asset managers. </p>\\n\\n<p>Building on a platform developed and tested by one of the world’s leading hedge funds, the D. E. Shaw group launched Arcesium as an independent company in 2015. We received additional equity backing from our second seed client, Blackstone Alternative Asset Management, the world’s largest discretionary allocator to hedge funds.</p>\\n\\n<p>Arcesium seeks an exceptional Software Engineer to join our Technology team. This developer will be responsible for building next generation software used by some of the most sophisticated hedge funds in the world, as well as architecting solutions to support new technical and business initiatives. He or she will lead the way in reducing complexity at the most fundamental layers of our technology and data stack, while building core functionality for in-house systems and frameworks. This person will have a demonstrated passion for technology, and be an innovative problem solver.</p>\\n\\n<p>The ideal candidate will have a strong academic background in computer science and approximately 5-8 years of relevant experience as a software engineer at a top startup or technology firm. He or she must possess exceptional verbal and written communication skills and the ability to construct rigorous arguments. Exceptional programming ability and experience in server-side systems, databases (relational and otherwise), and messaging technology are a must. Experience with coding in Python, Java, or other object-oriented language is a must; a familiarity with AWS is highly desired.</p>\\n\\n<p>The Company is an equal employment opportunity employer. We do not discriminate against any applicant, employee, or former employee on the basis of race, color, religion, gender, gender identity, pregnancy, national origin, age, military service eligibility, veteran status, sexual orientation, marital status, disability, or other category protected by law. All employment-related decisions are based solely on legitimate non-discriminatory business reasons.</p>\\n', 'how_to_apply': '<p>To be considered, please send your resume to <a href=\"https://www.deshaw.com/recruit/jobs/Arcesium/Ad/GitHub/SSE\">https://www.deshaw.com/recruit/jobs/Arcesium/Ad/GitHub/SSE</a></p>\\n', 'company': 'Arcesium LLC', 'company_url': 'http://www.arcesium.com/index.shtml', 'company_logo': None, 'url': 'http://jobs.github.com/positions/4c92573c-f352-11e6-9aee-36169161ab0c'}, {'id': '17ab31dc-f24a-11e6-8837-cb3b59399d20', 'created_at': 'Tue Feb 14 00:12:28 UTC 2017', 'title': 'Sr. Java/AEM Developer', 'location': 'New York, NY', 'type': 'Full Time', 'description': '<p>If you want to revolutionize the way people build, manage and use digital content on the web and on mobile apps, you have no better place to work than here.  </p>\\n\\n<p>Our team within the EY National Advisory - Digital and Emerging Technology practice builds enterprise digital platforms to support and transform user experiences and interactions across web, mobile, and social touch points – helping organizations drive the outcomes to which they aspire. Our expertise spans the entire project lifecycle from business strategy and experience design to digital platform architecture and implementation (including CMS, Search, eCommerce, and mobile apps). Our goal is to help organizations optimize their digital and mobile presence through a perfect blend of strategy, experience, and technology.</p>\\n\\n<p>We currently have a career opportunity for a Senior Consultant level candidate. The successful Senior Consultant will work with and through our EY area offices and client sites to assist clients with a variety of needs focused on our Digital and Emerging Technology solution offerings. </p>\\n\\n<p><strong>Responsibilities:</strong></p>\\n\\n<ul>\\n<li>Provide Senior Java level analysis, architecture, design and web development skills</li>\\n<li>Function as Sr. Technical resource and guarantee the technical delivery of all work you and your team are directly involved in</li>\\n<li>Learn new technologies and skills, and display ability to work independently</li>\\n<li>Communicate effectively with clients</li>\\n</ul>\\n\\n<p><strong>Requirements:</strong> </p>\\n\\n<ul>\\n<li>3 year minimum programming and development experience in JEE</li>\\n<li>Candidates should possess a strong foundation in JEE and one additional language (e.g. Python, C++, Ruby, Scala)</li>\\n<li>2 Years minimum technical experience with content management systems (Adobe AEM/CQ5 strongly preferred)</li>\\n<li>Strong background in scalability and automation</li>\\n<li>Professional, polished, client facing, consulting experience</li>\\n<li>Ability to think critically about problems and arrive at a practical solution with a sound architectural foundation</li>\\n<li>Sound CS background particularly in data structures, optimization algorithms, and object oriented design</li>\\n<li>End-to-end knowledge of the web application space including web server configuration, tuning, proxies, and load balancing</li>\\n<li>An understanding of general system administration in Unix/Linux environments, network security, database administration and tuning, and Apache web server configuration, 3rd party services and API configuration and integration</li>\\n</ul>\\n', 'how_to_apply': '<p>Email - <a href=\"mailto:jana.salamanca@ey.cm\">jana.salamanca@ey.cm</a></p>\\n', 'company': 'EY', 'company_url': None, 'company_logo': 'http://github-jobs.s3.amazonaws.com/d1d0bad8-f249-11e6-8942-ce435b235022.jpg', 'url': 'http://jobs.github.com/positions/17ab31dc-f24a-11e6-8837-cb3b59399d20'}, {'id': 'ab85b6c0-eef8-11e6-9c07-e82811d45f16', 'created_at': 'Thu Feb 09 18:51:34 UTC 2017', 'title': 'Software Engineer', 'location': 'New York', 'type': 'Full Time', 'description': '<p>Clarke.ai&#39;s goal is to be everyone’s assistant at work by outlining conversations and carrying out various tasks discussed for them.<br>\\nAs a software engineer at Clarke.ai, you&#39;ll be essential in building and scaling the products, services and APIs that help us achieve this vision. You could be working on our customer facing interface, internal systems, help spec and design new products and features, or improve our core abilities. Most of our systems are written in Python.<br>\\nYou would be an early hire working closely with the founders, with opportunities to grow and shape the company. As a small team, we are conscious of encouraging a productive and rewarding culture of inclusivity, diversity and fun!</p>\\n\\n<p>What we&#39;re looking for: </p>\\n\\n<ul>\\n<li>Product focused engineer with a solid grasp of core fundamentals </li>\\n<li>Experience with Python, AWS, &amp; Docker </li>\\n<li>Someone who is comfortable with wearing many hats without sacrificing quality </li>\\n<li>A background in engineering or another related field and a strong track record of building interesting projects </li>\\n<li>Comfortable with basic HTML / CSS / JS </li>\\n<li>Experience writing test-driven software for a startup or large tech company is a plus</li>\\n</ul>\\n', 'how_to_apply': '<p>Email resume with github / bitbucket profile to <a href=\"mailto:jobs@clarke.ai\">jobs@clarke.ai</a></p>\\n\\n<p>Bonus points talking about your passions, be it surfing, or making toasters talk to your phone.</p>\\n', 'company': 'clarke.ai', 'company_url': 'https://clarke.ai', 'company_logo': 'http://github-jobs.s3.amazonaws.com/622c05a6-eef8-11e6-82df-a35f873fae05.png', 'url': 'http://jobs.github.com/positions/ab85b6c0-eef8-11e6-9c07-e82811d45f16'}]\n"
     ]
    }
   ],
   "source": [
    "print (\"what's json response..\", response_github)"
   ]
  },
  {
   "cell_type": "code",
   "execution_count": 58,
   "metadata": {
    "collapsed": false
   },
   "outputs": [
    {
     "name": "stdout",
     "output_type": "stream",
     "text": [
      "2017-03-10 21:19:55,584 INFO sqlalchemy.engine.base.Engine SELECT github_metadata.job_id, github_metadata.github_id, github_metadata.url, github_metadata.created_at \n",
      "FROM github_metadata \n",
      "WHERE github_metadata.github_id = ?\n",
      "2017-03-10 21:19:55,586 INFO sqlalchemy.engine.base.Engine ('587a1d78-0428-11e7-8752-4c031c8e4a89',)\n",
      "ID 1\n",
      "2017-03-10 21:19:55,588 INFO sqlalchemy.engine.base.Engine SELECT github_metadata.job_id, github_metadata.github_id, github_metadata.url, github_metadata.created_at \n",
      "FROM github_metadata \n",
      "WHERE github_metadata.github_id = ?\n",
      "2017-03-10 21:19:55,589 INFO sqlalchemy.engine.base.Engine ('0b6b0a38-0428-11e7-87e3-69c380153781',)\n",
      "ID 2\n",
      "2017-03-10 21:19:55,591 INFO sqlalchemy.engine.base.Engine SELECT github_metadata.job_id, github_metadata.github_id, github_metadata.url, github_metadata.created_at \n",
      "FROM github_metadata \n",
      "WHERE github_metadata.github_id = ?\n",
      "2017-03-10 21:19:55,592 INFO sqlalchemy.engine.base.Engine ('529b9d4c-0373-11e7-93ef-382981ce9f73',)\n",
      "ID 3\n",
      "2017-03-10 21:19:55,594 INFO sqlalchemy.engine.base.Engine SELECT github_metadata.job_id, github_metadata.github_id, github_metadata.url, github_metadata.created_at \n",
      "FROM github_metadata \n",
      "WHERE github_metadata.github_id = ?\n",
      "2017-03-10 21:19:55,594 INFO sqlalchemy.engine.base.Engine ('9aee7e4e-0372-11e7-830c-5631a851436c',)\n",
      "ID 4\n",
      "2017-03-10 21:19:55,596 INFO sqlalchemy.engine.base.Engine SELECT github_metadata.job_id, github_metadata.github_id, github_metadata.url, github_metadata.created_at \n",
      "FROM github_metadata \n",
      "WHERE github_metadata.github_id = ?\n",
      "2017-03-10 21:19:55,597 INFO sqlalchemy.engine.base.Engine ('05c9af4a-ff72-11e6-9e4c-4ee727b55195',)\n",
      "ID 5\n",
      "2017-03-10 21:19:55,598 INFO sqlalchemy.engine.base.Engine SELECT github_metadata.job_id, github_metadata.github_id, github_metadata.url, github_metadata.created_at \n",
      "FROM github_metadata \n",
      "WHERE github_metadata.github_id = ?\n",
      "2017-03-10 21:19:55,599 INFO sqlalchemy.engine.base.Engine ('fb093958-fe00-11e6-8fa5-72df12fc8186',)\n",
      "ID 6\n",
      "2017-03-10 21:19:55,602 INFO sqlalchemy.engine.base.Engine SELECT github_metadata.job_id, github_metadata.github_id, github_metadata.url, github_metadata.created_at \n",
      "FROM github_metadata \n",
      "WHERE github_metadata.github_id = ?\n",
      "2017-03-10 21:19:55,603 INFO sqlalchemy.engine.base.Engine ('0a09c6de-fae6-11e6-849a-628f7d5ba12b',)\n",
      "ID 7\n",
      "2017-03-10 21:19:55,604 INFO sqlalchemy.engine.base.Engine SELECT github_metadata.job_id, github_metadata.github_id, github_metadata.url, github_metadata.created_at \n",
      "FROM github_metadata \n",
      "WHERE github_metadata.github_id = ?\n",
      "2017-03-10 21:19:55,606 INFO sqlalchemy.engine.base.Engine ('9be122ea-f3ad-11e6-8431-a9395bc39ff4',)\n",
      "ID 8\n",
      "2017-03-10 21:19:55,607 INFO sqlalchemy.engine.base.Engine SELECT github_metadata.job_id, github_metadata.github_id, github_metadata.url, github_metadata.created_at \n",
      "FROM github_metadata \n",
      "WHERE github_metadata.github_id = ?\n",
      "2017-03-10 21:19:55,608 INFO sqlalchemy.engine.base.Engine ('4c92573c-f352-11e6-9aee-36169161ab0c',)\n",
      "ID 9\n",
      "2017-03-10 21:19:55,610 INFO sqlalchemy.engine.base.Engine SELECT github_metadata.job_id, github_metadata.github_id, github_metadata.url, github_metadata.created_at \n",
      "FROM github_metadata \n",
      "WHERE github_metadata.github_id = ?\n",
      "2017-03-10 21:19:55,611 INFO sqlalchemy.engine.base.Engine ('17ab31dc-f24a-11e6-8837-cb3b59399d20',)\n",
      "ID 10\n",
      "2017-03-10 21:19:55,613 INFO sqlalchemy.engine.base.Engine SELECT github_metadata.job_id, github_metadata.github_id, github_metadata.url, github_metadata.created_at \n",
      "FROM github_metadata \n",
      "WHERE github_metadata.github_id = ?\n",
      "2017-03-10 21:19:55,614 INFO sqlalchemy.engine.base.Engine ('ab85b6c0-eef8-11e6-9c07-e82811d45f16',)\n",
      "ID 11\n"
     ]
    }
   ],
   "source": [
    "for job in response_github:\n",
    "    print (\"ID\", select_or_insert_job(\n",
    "        job['company'],\n",
    "        job['company_url'],\n",
    "        job['company_logo'],\n",
    "        job['id'],\n",
    "        job['url'],\n",
    "        job['created_at'],\n",
    "        job['type'],\n",
    "        job['title'],\n",
    "        job['description'],\n",
    "        job['how_to_apply'],\n",
    "        job['location']\n",
    "    ))\n"
   ]
  },
  {
   "cell_type": "markdown",
   "metadata": {},
   "source": [
    "## Assignment\n",
    "- Execute simple SQL queries in each table and make sure everything looks as was intended.\n",
    "- Create queries the following queries:\n",
    "    - Find out how many jobs have the phrase \"Data Science\" and how many have the word \"Python\" in the description\n",
    "    - Find out how many were created in the past 7 days\n",
    "    - Find out how are \"Remote Ok\" and which companies those are with"
   ]
  },
  {
   "cell_type": "markdown",
   "metadata": {
    "collapsed": true
   },
   "source": [
    "**Find out how many jobs have the phrase \"Data Science\" and how many have the word \"Python\" in the description**"
   ]
  },
  {
   "cell_type": "code",
   "execution_count": 52,
   "metadata": {
    "collapsed": false
   },
   "outputs": [
    {
     "name": "stdout",
     "output_type": "stream",
     "text": [
      "2017-03-10 21:15:33,507 INFO sqlalchemy.engine.base.Engine SELECT COUNT() FROM job\n",
      "2017-03-10 21:15:33,509 INFO sqlalchemy.engine.base.Engine ()\n",
      "what is total 11\n",
      "2017-03-10 21:15:33,511 INFO sqlalchemy.engine.base.Engine SELECT COUNT() FROM job WHERE description LIKE '%python%'\n",
      "2017-03-10 21:15:33,512 INFO sqlalchemy.engine.base.Engine ()\n",
      "there are 11 jobs with 'Data Science' term, and 100.0 percent of them have 'Python' in the description\n"
     ]
    }
   ],
   "source": [
    "s = text(\"SELECT COUNT() \"\n",
    "         \"FROM job\")\n",
    "total, = conn.execute(s).fetchone()\n",
    "\n",
    "print (\"what is total\", total)\n",
    "\n",
    "s = text(\"SELECT COUNT() \"\n",
    "         \"FROM job \"\n",
    "         \"WHERE description LIKE '%python%'\")\n",
    "python, = conn.execute(s).fetchone()\n",
    "\n",
    "print (\"there are {0} jobs with 'Data Science' term, and {1} percent of them have 'Python' in the description\".format(total, 100*python/total))\n"
   ]
  },
  {
   "cell_type": "markdown",
   "metadata": {},
   "source": [
    "**Find out how many were created in the past 7 days**"
   ]
  },
  {
   "cell_type": "code",
   "execution_count": 53,
   "metadata": {
    "collapsed": false
   },
   "outputs": [
    {
     "name": "stdout",
     "output_type": "stream",
     "text": [
      "2017-03-10 21:15:33,519 INFO sqlalchemy.engine.base.Engine SELECT COUNT() FROM github_metadata WHERE created_at >= ?\n",
      "2017-03-10 21:15:33,521 INFO sqlalchemy.engine.base.Engine (datetime.datetime(2017, 3, 3, 21, 15, 33, 519593),)\n",
      "36.36363636363637 percent of them have been created in the past 7 days\n"
     ]
    }
   ],
   "source": [
    "from datetime import datetime, timedelta\n",
    "\n",
    "s = text(\"SELECT COUNT() \"\n",
    "         \"FROM github_metadata \"\n",
    "         \"WHERE created_at >= :week_ago\")\n",
    "last_week, = conn.execute(s, week_ago=datetime.today() - timedelta(days=7)).fetchone()\n",
    "\n",
    "# # \"First argument: {0}, second one: {1}\".format(47,11) \n",
    "print (\"{0} percent of them have been created in the past 7 days\".format(100 * last_week/total))\n"
   ]
  },
  {
   "cell_type": "markdown",
   "metadata": {},
   "source": [
    "**Find out how are \"Remote Ok\" and which companies those are with**"
   ]
  },
  {
   "cell_type": "code",
   "execution_count": 56,
   "metadata": {
    "collapsed": false
   },
   "outputs": [
    {
     "name": "stdout",
     "output_type": "stream",
     "text": [
      "2017-03-10 21:17:21,214 INFO sqlalchemy.engine.base.Engine SELECT COUNT() FROM job JOIN location ON job.id = location.job_id WHERE remote_ok = ?\n",
      "2017-03-10 21:17:21,216 INFO sqlalchemy.engine.base.Engine (1,)\n",
      "remote_jobs 0\n"
     ]
    }
   ],
   "source": [
    "s = text(\"SELECT COUNT() \"\n",
    "         \"FROM job \"\n",
    "         \"JOIN location ON job.id = location.job_id \"\n",
    "         \"WHERE remote_ok = :true\")\n",
    "remote_jobs, = conn.execute(s, true=int(True)).fetchone()\n",
    "print (\"remote_jobs\", remote_jobs)\n",
    "if remote_jobs > 0:\n",
    "    s = text(\"SELECT name \"\n",
    "             \"FROM company \"\n",
    "             \"JOIN job ON company.id = job.company_id \"\n",
    "             \"JOIN location ON job.id = location.job_id \"\n",
    "             \"WHERE location.remote_ok = :true\")\n",
    "    remote_companies = conn.execute(s, true=int(True)).fetchall()\n",
    "    \n",
    "    #if len(remote_companies)==1:\n",
    "        \n",
    "    \n",
    "    print (\"The number of company(s) ok with remote job is {0} and the names are: {1}\".format(len(remote_companies), remote_companies))\n",
    "\n",
    "    for company in remote_companies:\n",
    "        print (\"company: \", company)\n",
    "\n",
    "    print(message.format(remote_jobs, \" ;\".join(str(company) for company, in remote_companies)))"
   ]
  },
  {
   "cell_type": "code",
   "execution_count": null,
   "metadata": {
    "collapsed": true
   },
   "outputs": [],
   "source": []
  }
 ],
 "metadata": {
  "anaconda-cloud": {},
  "kernelspec": {
   "display_name": "Python 3",
   "language": "python",
   "name": "python3"
  },
  "language_info": {
   "codemirror_mode": {
    "name": "ipython",
    "version": 3
   },
   "file_extension": ".py",
   "mimetype": "text/x-python",
   "name": "python",
   "nbconvert_exporter": "python",
   "pygments_lexer": "ipython3",
   "version": "3.6.0"
  }
 },
 "nbformat": 4,
 "nbformat_minor": 1
}
