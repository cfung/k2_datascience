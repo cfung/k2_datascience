{
 "cells": [
  {
   "cell_type": "markdown",
   "metadata": {},
   "source": [
    "## Introduction\n",
    "In order to do Data Science we have to be able to gather data. Oftentimes we get data from an API, sometimes from a database. This Jupyter notebook we'll guide you through a project that will involve getting data from an API, storing it in a relational database and performing some SQL queries to do some basic data analysis.\n",
    "\n",
    "Our API of choice for this project will be [GitHub Jobs](https://jobs.github.com). Besides being simple to use, it could be a useful resource to job-hunt. "
   ]
  },
  {
   "cell_type": "markdown",
   "metadata": {},
   "source": [
    "## Assingment\n",
    "- Get acquainted with the GitHub Jobs web interface and read through their API page.\n",
    "- Import the Requests package and call the API with the parameters of your choice.\n",
    "- Print the status code to make sure it went well."
   ]
  },
  {
   "cell_type": "code",
   "execution_count": 2,
   "metadata": {
    "collapsed": false
   },
   "outputs": [
    {
     "name": "stdout",
     "output_type": "stream",
     "text": [
      "200\n"
     ]
    }
   ],
   "source": [
    "import requests\n",
    "resp = requests.get('https://jobs.github.com/positions.json?description=python&location=new+york')\n",
    "print resp.status_code\n"
   ]
  },
  {
   "cell_type": "markdown",
   "metadata": {},
   "source": [
    "## Assignment\n",
    "- Import json and print the whole json response with the json.dumps() function. See what kind of data it contains.\n",
    "- Get the dictionary of the first job and call the method keys() to have a better idea of the data at hand.\n",
    "- Print some of the first job's content, including images and HTML. You might need to import the IPython package."
   ]
  },
  {
   "cell_type": "code",
   "execution_count": 18,
   "metadata": {
    "collapsed": false
   },
   "outputs": [
    {
     "name": "stdout",
     "output_type": "stream",
     "text": [
      " \n",
      "\n",
      "******using .dumps() ********\n",
      "\n",
      "<type 'str'>\n",
      "\"[{\\\"id\\\":\\\"33906b56-de68-11e6-905d-1d7ca493c0de\\\",\\\"created_at\\\":\\\"Thu Jan 19 16:58:10 UTC 2017\\\",\\\"title\\\":\\\"Junior Developer Advocate\\\",\\\"location\\\":\\\"New York City\\\",\\\"type\\\":\\\"Full Time\\\",\\\"description\\\":\\\"<p>Code Ocean is a Cornell Tech incubated startup company on a mission to make the world\\\\u2019s algorithmic and scientific code executable, accessible, and everlasting. We are building a cloud-based platform that enables academic researchers and software engineers to share, discover and run code published in scientific journals. Based in Midtown Manhattan, we are recruiting a Junior Developer Advocate to join our team.</p>\\\\n\\\\n<p>Your main responsibility would be helping our users get their code working on our platform. While we don&#39;t expect you to know each and every programming language under the sun (although that sure would be awesome), you should be able and eager to quickly familiarize yourself and dive straight into any of the following as needed; Python, R, MATLAB/Octave, C/C++, Julia, Lua, Java, shell scripting -  whatever we throw at you, really. Don\\\\u2019t worry, we\\\\u2019ve got your back if you\\\\u2019re ever stuck!</p>\\\\n\\\\n<p>You&#39;ll be spending most of your time interacting with users, holding their hand and encouraging them as they encounter the platform for the first time. The majority will be academic researchers, so familiarity with scientific research and academia in general is a huge plus.</p>\\\\n\\\",\\\"how_to_apply\\\":\\\"<p>Email your resume to <a href=\\\\\\\"mailto:contact@codeocean.com\\\\\\\">contact@codeocean.com</a> with the title: &quot;Junior Developer Advocate&quot;.</p>\\\\n\\\",\\\"company\\\":\\\"Code Ocean\\\",\\\"company_url\\\":null,\\\"company_logo\\\":\\\"http://github-jobs.s3.amazonaws.com/25f38622-de68-11e6-8632-dc9434be878e.png\\\",\\\"url\\\":\\\"http://jobs.github.com/positions/33906b56-de68-11e6-905d-1d7ca493c0de\\\"},{\\\"id\\\":\\\"3a0b3f36-ddd4-11e6-9d78-c14aecfb9943\\\",\\\"created_at\\\":\\\"Wed Jan 18 23:17:34 UTC 2017\\\",\\\"title\\\":\\\"Back-End Developer (Python, Web Crawling)\\\",\\\"location\\\":\\\"New York, NY\\\",\\\"type\\\":\\\"Full Time\\\",\\\"description\\\":\\\"<p>We are seeking a skilled Python developer to work on web crawling projects, along with API implementations and other data analytics tasks.</p>\\\\n\\\\n<p>At Quovo, there are many opportunities to develop, explore, and grow your skills. Learning is encouraged by our company culture with hackathons, workshops, classes, and more. We offer fun group activities, including team lunches at some of Zagat\\\\u2019s best restaurants, after work drinks, and film debates around the water cooler.</p>\\\\n\\\\n<p>If you\\\\u2019ve ever enjoyed feeling like a hacker or data detective, this might be the job for you. To tackle big assignments, we work in teams, often bridging multiple departments in the company. Having strong problem solving skills and a positive attitude will go a long way in this role.</p>\\\\n\\\\n<p>Skills and experience:</p>\\\\n\\\\n<ul>\\\\n<li>Extensive experience with Python (at least 2-3 years) </li>\\\\n<li>Strong understanding of HTTP and webservers </li>\\\\n<li>Website crawling, DOM parsing, other data mining/retrieval experience</li>\\\\n</ul>\\\\n\\\\n<p>Nice to haves:</p>\\\\n\\\\n<ul>\\\\n<li>Familiarity with common crawling, extracting, and data processing technologies/techniques </li>\\\\n<li>Basic database experience, e.g. SQL </li>\\\\n<li>Excellent communication skills in both verbal and written English</li>\\\\n</ul>\\\\n\\\\n<p>Please apply below, and include some examples of your code (a github link works great!) and be prepared to receive a coding challenge if you continue through the application process.</p>\\\\n\\\",\\\"how_to_apply\\\":\\\"<p><a href=\\\\\\\"http://grnh.se/0i8w521\\\\\\\">http://grnh.se/0i8w521</a></p>\\\\n\\\",\\\"company\\\":\\\"Quovo\\\",\\\"company_url\\\":\\\"http://www.quovo.com\\\",\\\"company_logo\\\":null,\\\"url\\\":\\\"http://jobs.github.com/positions/3a0b3f36-ddd4-11e6-9d78-c14aecfb9943\\\"},{\\\"id\\\":\\\"dd4d806a-ddd3-11e6-9175-a7635296371d\\\",\\\"created_at\\\":\\\"Wed Jan 18 23:14:52 UTC 2017\\\",\\\"title\\\":\\\"Platform Engineer\\\",\\\"location\\\":\\\"New York, NY\\\",\\\"type\\\":\\\"Full Time\\\",\\\"description\\\":\\\"<p>The Platform Team is responsible for designing and building the core services and APIs that power Quovo\\\\u2019s products and applications. Quovo is the leading provider of account aggregation and data analytics technology for finance. Hundreds of financial institutions, advisors, and fintech companies utilize Quovo technology as the foundation for their service offerings, aggregating and integrating millions of daily transactions. Engineers on the Platform Team must work across team boundaries, ensuring that all parts of our codebase are scalable, maintainable, and robust.</p>\\\\n\\\\n<p>Our beautiful new office is located in the heart of Manhattan and we offer a full range of benefits including health, vision, dental, 401(k), and commuter benefits.</p>\\\\n\\\\n<p>Responsibilities:</p>\\\\n\\\\n<ul>\\\\n<li>Design, build, and maintain core services and APIs, using languages like Python, Javascript, and SQL. </li>\\\\n<li>Re-architect existing core services and systems with an eye towards maintainability and scalability. </li>\\\\n<li>Research and prototype newer technologies to be utilized in our systems and products. </li>\\\\n<li>Provide feedback to other engineers through code reviews and design reviews.</li>\\\\n</ul>\\\\n\\\\n<p>Skills and experience:</p>\\\\n\\\\n<ul>\\\\n<li>Experience designing scalable, testable, production-ready systems. </li>\\\\n<li>Experience operating and maintaining large, federated database systems. </li>\\\\n<li>4+ years of full stack engineering experience in a professional environment. </li>\\\\n<li>Experience with Python, Javascript, SQL, or comparable languages. </li>\\\\n<li>B.S. or M.S. in Computer Science, or equivalent work experience. </li>\\\\n<li>Excellent communication and collaboration skills. Able to work across multiple teams and discuss technical concepts to business development, operations, and other engineers.</li>\\\\n</ul>\\\\n\\\",\\\"how_to_apply\\\":\\\"<p><a href=\\\\\\\"http://grnh.se/taxvh41\\\\\\\">http://grnh.se/taxvh41</a></p>\\\\n\\\",\\\"company\\\":\\\"Quovo\\\",\\\"company_url\\\":\\\"http://www.quovo.com\\\",\\\"company_logo\\\":null,\\\"url\\\":\\\"http://jobs.github.com/positions/dd4d806a-ddd3-11e6-9175-a7635296371d\\\"},{\\\"id\\\":\\\"c300adb0-dc41-11e6-808f-095ecc72b7af\\\",\\\"created_at\\\":\\\"Mon Jan 16 23:18:08 UTC 2017\\\",\\\"title\\\":\\\"Senior Backend Engineer\\\",\\\"location\\\":\\\"New York\\\",\\\"type\\\":\\\"Full Time\\\",\\\"description\\\":\\\"<p>We&#39;re looking for an experienced backend developer to join us to help create new features and manage our infrastructure. As we continue to expand and add new products, you will completely own your product and be empowered to make the major architectural decisions that go with releasing any product.</p>\\\\n\\\\n<p>We move very quickly and will expect the same from you. We have a strong focus on continuous deployment\\\\u2014you&#39;ll be expected to deploy on your first day here, and we love to get feedback from users and iterate quickly. You&#39;ll have a ton of responsibility and lots of ownership over your work.</p>\\\\n\\\\n<p>Responsibilities:</p>\\\\n\\\\n<p>Designing and building from end to end a product for launch later this year\\\\nCollaborating with the mobile team on API integration\\\\nAnalyzing page load and database bottlenecks to optimize page speed\\\\nMaking strategic infrastructure decisions to prepare the site for scale\\\\nWorking on some awesome side projects, including:\\\\nResume parsing and natural language processing\\\\nComplex data integrations with strategic partners</p>\\\\n\\\\n<p>Requirements:</p>\\\\n\\\\n<p>Back-end - You should have significant experience with Python, as well as familiarity with some combination of SQL, Elasticsearch, worker processes, and Memcached/Redis\\\\nWeb frameworks - You have experienced with web frameworks and ORMs (Django ideal but not required)\\\\nWork experience - At least 2 years&#39; work experience as an engineer at a startup or tech company</p>\\\\n\\\\n<p>Great to have:</p>\\\\n\\\\n<p>Familiarity with Django Rest Framework\\\\nPrevious experience building REST APIs\\\\nSome front-end development experience, particularly with AngularJS</p>\\\\n\\\",\\\"how_to_apply\\\":\\\"<p>Please submit your application here:</p>\\\\n\\\\n<p><a href=\\\\\\\"https://www.wayup.com/joinus/#120804\\\\\\\">https://www.wayup.com/joinus/#120804</a></p>\\\\n\\\",\\\"company\\\":\\\"WayUp\\\",\\\"company_url\\\":\\\"http://www.wayup.com\\\",\\\"company_logo\\\":\\\"http://github-jobs.s3.amazonaws.com/ba5211b8-dc41-11e6-9dd4-c0eba4f34ae0.png\\\",\\\"url\\\":\\\"http://jobs.github.com/positions/c300adb0-dc41-11e6-808f-095ecc72b7af\\\"},{\\\"id\\\":\\\"a13f44b4-89be-11e6-9bf8-3e9e2acdd34a\\\",\\\"created_at\\\":\\\"Tue Jan 10 18:17:23 UTC 2017\\\",\\\"title\\\":\\\"Senior Software Engineer\\\",\\\"location\\\":\\\"New York, NY OR REMOTE\\\",\\\"type\\\":\\\"Full Time\\\",\\\"description\\\":\\\"<p>Who are we?\\\\nJOOR (<a href=\\\\\\\"http://www.jooraccess.com\\\\\\\">www.jooraccess.com</a>) seeks to revolutionize the wholesale industry. Founded in 2010 and backed by top VC firms, JOOR&#39;s innovative mobile and web marketplace improves the way brands and retailers do business. JOOR has developed cutting-edge technology to facilitate wholesale transactions, attracting the best brand and retailers - creating the wholesale industry standard</p>\\\\n\\\\n<p>Who are you?\\\\nYou are a passionate full stack developer who writes beautiful, advanced, readable, re-usable code.\\\\nYou focus on long-term best practices and coding standards.\\\\nYou test your own code before it gets to a QA engineer.\\\\nYou improve legacy code and optimize code (yours and others\\\\u2019) for application performance.\\\\nYou recognize the importance of usability and focus on consistency.\\\\nYou know your users and always build with them in mind.\\\\nYou work well with others.\\\\nYou are comfortable working in an Agile environment.\\\\nYou have a strong attention to detail.\\\\nYou love to learn.\\\\nYou know how to get things done.</p>\\\\n\\\\n<p>What will you do?\\\\nApply functional &amp; OO programming techniques to build high-quality and reusable services.\\\\nYou\\\\u2019ll tackle complex problems and identify new ways to build extensible technology platforms that will support global transactions.\\\\nYou\\\\u2019ll recommend system solutions by comparing advantages and disadvantages of custom development and existing alternatives.\\\\nYou\\\\u2019ll complete applications development by coordinating requirements, schedules, and activities, contributing to team meetings, troubleshooting development and production problems across multiple environments and operating platforms.\\\\nYou\\\\u2019ll push code to production within weeks of completion and QA testing.</p>\\\\n\\\\n<p>What skills do you have?\\\\n4+ years extensive experience in full stack development \\\\nDegree in CS or related field\\\\nAbility to develop in PHP (cakePHP), Python (Django), JavaScript (Angular), SQL (PostgreSQL)\\\\nExperience with API design, and working with complex data structures. \\\\nStrong knowledge of current web technologies, OOP, and functional programming\\\\nInterest in solving real-world business problems\\\\nExtremely resourceful\\\\nCurious</p>\\\\n\\\\n<p>Note - This job can either be full time in NYC OR Full Time Remote</p>\\\\n\\\",\\\"how_to_apply\\\":\\\"<p>Hello!!</p>\\\\n\\\\n<p>Please email your resume to <a href=\\\\\\\"mailto:joortech@jooraccess.com\\\\\\\">joortech@jooraccess.com</a>.</p>\\\\n\\\\n<p>Many thanks,\\\\nJOOR Tech Team</p>\\\\n\\\",\\\"company\\\":\\\"JOOR, Inc.\\\",\\\"company_url\\\":\\\"http://www.jooraccess.com\\\",\\\"company_logo\\\":\\\"http://github-jobs.s3.amazonaws.com/1a74f218-89bd-11e6-8ee7-08c52b362350.png\\\",\\\"url\\\":\\\"http://jobs.github.com/positions/a13f44b4-89be-11e6-9bf8-3e9e2acdd34a\\\"},{\\\"id\\\":\\\"91191db6-cdb2-11e6-8b74-fa37b6f28443\\\",\\\"created_at\\\":\\\"Thu Dec 29 10:36:43 UTC 2016\\\",\\\"title\\\":\\\"Lead Software Engineer\\\",\\\"location\\\":\\\"Rockland County, NY\\\",\\\"type\\\":\\\"Full Time\\\",\\\"description\\\":\\\"<p><strong>Why We Need You:</strong></p>\\\\n\\\\n<p>We got awesome hardware and need software to match it!  WAZER isn\\\\u2019t just the world\\\\u2019s first desktop waterjet cutter but the world\\\\u2019s first solution that allows any computer-literate user to go from their idea to cutting any material within minutes. So software is a critical piece of WAZER\\\\u2019s offering. The WAZER multiplatform application will allow a user to define exact cutting paths on their source materials. To do this the software will need to be able to upload and convert drawing files into a rendered interactive format that is presented to the user. The user will be able to adjust and tune their cutting paths based on their uploaded 2D drawings and will be guided through the basic setup of the machine. Lastly, the software will need to be able to convert all the adjusted paths into a WAZER machine readable format (already defined) which will produce the consumer\\\\u2019s desired cut. You will lead the charge in building this functionality with an intuitive, waterjet-specific workflow.</p>\\\\n\\\\n<p><strong>Your Daily Role:</strong></p>\\\\n\\\\n<p>Lead full stack software engineer that will be responsible for the technical leadership of the entire - WAZER software product including:</p>\\\\n\\\\n<ul>\\\\n<li>Determining application architecture</li>\\\\n<li>Make language and framework choices</li>\\\\n<li>Executing on numerous elements of the build</li>\\\\n<li>Managing elements of the build that are not within your capability by means of contractors</li>\\\\n<li>Writing modular maintainable code which is well tested</li>\\\\n<li>Practicing modern development workflows of code reviews and iteration planning to accurately scope out features and deliver them in a timely manner</li>\\\\n</ul>\\\\n\\\\n<p><strong>Must Have Qualifications:</strong></p>\\\\n\\\\n<ul>\\\\n<li>You have deployed consumer facing applications</li>\\\\n<li>You are a software generalist that is familiar with numerous modern frameworks</li>\\\\n<li>You are proficient in a set of client-side and server-side languages (ie. JS, Ruby, Python, Go, etc.)</li>\\\\n<li>You have a professional application management approach to continuous integration, testing, and pushing builds to various staging and production environments</li>\\\\n<li>You have a great eye for design, an appetite to build ambitious products and an ability to prioritize in order to deliver on time</li>\\\\n<li>You can work with the product development team to add meaningful feature sets over time to the overall WAZER solution. This could include integration of vision algorithms, path optimizations, new software manipulated hardware systems, etc.</li>\\\\n</ul>\\\\n\\\\n<p><strong>Nice to Have Qualifications:</strong></p>\\\\n\\\\n<ul>\\\\n<li>You have engineering team leadership experience while remaining in a code contributor role</li>\\\\n<li>You have solo product experience that went from concept to shipping to maintenance</li>\\\\n<li>You are a participant in the open source community</li>\\\\n<li>You have design experience and can use tools such as sketch or illustrator to communicate application design direction</li>\\\\n<li>You are a participant in the maker community</li>\\\\n</ul>\\\\n\\\\n<p><strong>What We Offer You:</strong></p>\\\\n\\\\n<ul>\\\\n<li>\\\\u200bA team of highly motivated, dedicated individuals working together without ego</li>\\\\n<li>Competitive equity, salary, and benefit package</li>\\\\n<li>Access to tools, machines, and space to make whatever projects you may have come to life</li>\\\\n<li>Opportunity to bring an awesome piece of hardware to a variety of markets and individuals</li>\\\\n</ul>\\\\n\\\\n<p><strong>Location &amp; Environment:</strong></p>\\\\n\\\\n<p>Our facility becomes a playground in the off hours. You are encouraged to design, make, and work on whatever personal projects you may have at the time. You may see brewing equipment, race car parts, plants, and art pieces around the office. Who knows what inspiration we use for the next problem we need to solve!</p>\\\\n\\\\n<p>As an early-stage startup, you\\\\u2019ll inherently spend more time at work than your traditional 9-5. Thus, we\\\\u2019ve located ourselves in Rockland County, NY, which is a part of the beautiful and outdoorsy Hudson River Valley but at the same time only 45 minutes from NYC, so you\\\\u2019ll be able to find whatever it is you enjoy doing not too far away!</p>\\\\n\\\\n<p>Furthermore, and our personal favorite perk, you\\\\u2019ll be working in an environment that is simultaneously our office, ideation studio, research lab, workshop, and final product assembly center, all under one roof.  This allows us to collaborate and learn each other\\\\u2019s area of expertise, providing better solutions to our customers.</p>\\\\n\\\",\\\"how_to_apply\\\":\\\"<p>Email, <a href=\\\\\\\"mailto:careers@wazer.com\\\\\\\">careers@wazer.com</a>, with your resume and brief note about why you&#39;re interested in joining WAZER.  Please include &quot;Lead Software Engineer&quot; in the subject line.</p>\\\\n\\\",\\\"company\\\":\\\"WAZER\\\",\\\"company_url\\\":\\\"http://www.wazer.com\\\",\\\"company_logo\\\":\\\"http://github-jobs.s3.amazonaws.com/7b266fa4-cdb2-11e6-81ff-b67c5c643260.jpg\\\",\\\"url\\\":\\\"http://jobs.github.com/positions/91191db6-cdb2-11e6-8b74-fa37b6f28443\\\"},{\\\"id\\\":\\\"78a2d622-c92b-11e6-9a18-57f12c447595\\\",\\\"created_at\\\":\\\"Fri Dec 23 16:19:18 UTC 2016\\\",\\\"title\\\":\\\"Senior Full Stack Engineer\\\",\\\"location\\\":\\\"New York, NY\\\",\\\"type\\\":\\\"Full Time\\\",\\\"description\\\":\\\"<p>Noom\\\\u2019s applications combat chronic and pre-chronic conditions with structured programs and human coaches. Our technology engages users and improves health outcomes by combining the best technologies and human coaching in a single powerful platform. Coaches are given a detailed dashboard of the data our users provide in Noom Health, thus giving them the information necessary to help our users reach their health goals, whether it\\\\u2019s to lower their blood sugar and sodium, lose weight, or prevent Type-II Diabetes or Hypertension.</p>\\\\n\\\\n<p>The full stack engineer we are seeking will be the go-to person and core contributor to the development of our coaching tools platform and dashboard app. This person will view the web architecture of our dashboard critically, with a keen eye on improving its development flow. Their goal is to ultimately increase the efficiency and effectiveness of our coaches, allowing them to make smarter and more impactful recommendations when working with our user base. Even further, this person stays on the cutting edge of the latest web development tools and technologies (e.g. React), trying and testing them out, weighing the pros and cons, and making informed choices about which are best to integrate into our engineering environment.</p>\\\\n\\\\n<p>What We\\\\u2019re Looking For:</p>\\\\n\\\\n<ul>\\\\n<li>4+ years of full stack web development experience in Django, node.js, Rails, or something similar </li>\\\\n<li>Experience with, and interest in, Javascript, React (or backbone.js, angular.js, ember.js), Python, HTML5, CSS </li>\\\\n<li>Good communicator: comfortable explaining technical problems in person and in writing </li>\\\\n<li>Team player: has fun teaching people new concepts, enjoys collaborating with a team </li>\\\\n<li>They should own what they do, and not just throw code out. Sense of responsibility and ownership. They would have to come from an environment in which people are responsible for their own code </li>\\\\n<li>Has developed and shipped a dynamic web app successfully in a team environment </li>\\\\n<li>Rock-solid coding skills: writes code that is well structured, idiomatic, reusable, and easy to understand </li>\\\\n<li>Capacity to take requirements, and break them down into actionable tech tasks</li>\\\\n</ul>\\\\n\\\",\\\"how_to_apply\\\":\\\"<p><a href=\\\\\\\"http://grnh.se/5nhrv41\\\\\\\">http://grnh.se/5nhrv41</a></p>\\\\n\\\",\\\"company\\\":\\\"Noom\\\",\\\"company_url\\\":\\\"http://www.noom.com\\\",\\\"company_logo\\\":null,\\\"url\\\":\\\"http://jobs.github.com/positions/78a2d622-c92b-11e6-9a18-57f12c447595\\\"}]\"\n",
      "\n",
      "\n",
      "******using .json() ********\n",
      "\n",
      "[{u'description': u'<p>Code Ocean is a Cornell Tech incubated startup company on a mission to make the world\\u2019s algorithmic and scientific code executable, accessible, and everlasting. We are building a cloud-based platform that enables academic researchers and software engineers to share, discover and run code published in scientific journals. Based in Midtown Manhattan, we are recruiting a Junior Developer Advocate to join our team.</p>\\n\\n<p>Your main responsibility would be helping our users get their code working on our platform. While we don&#39;t expect you to know each and every programming language under the sun (although that sure would be awesome), you should be able and eager to quickly familiarize yourself and dive straight into any of the following as needed; Python, R, MATLAB/Octave, C/C++, Julia, Lua, Java, shell scripting -  whatever we throw at you, really. Don\\u2019t worry, we\\u2019ve got your back if you\\u2019re ever stuck!</p>\\n\\n<p>You&#39;ll be spending most of your time interacting with users, holding their hand and encouraging them as they encounter the platform for the first time. The majority will be academic researchers, so familiarity with scientific research and academia in general is a huge plus.</p>\\n', u'title': u'Junior Developer Advocate', u'company_url': None, u'company_logo': u'http://github-jobs.s3.amazonaws.com/25f38622-de68-11e6-8632-dc9434be878e.png', u'created_at': u'Thu Jan 19 16:58:10 UTC 2017', u'company': u'Code Ocean', u'how_to_apply': u'<p>Email your resume to <a href=\"mailto:contact@codeocean.com\">contact@codeocean.com</a> with the title: &quot;Junior Developer Advocate&quot;.</p>\\n', u'location': u'New York City', u'url': u'http://jobs.github.com/positions/33906b56-de68-11e6-905d-1d7ca493c0de', u'type': u'Full Time', u'id': u'33906b56-de68-11e6-905d-1d7ca493c0de'}, {u'description': u'<p>We are seeking a skilled Python developer to work on web crawling projects, along with API implementations and other data analytics tasks.</p>\\n\\n<p>At Quovo, there are many opportunities to develop, explore, and grow your skills. Learning is encouraged by our company culture with hackathons, workshops, classes, and more. We offer fun group activities, including team lunches at some of Zagat\\u2019s best restaurants, after work drinks, and film debates around the water cooler.</p>\\n\\n<p>If you\\u2019ve ever enjoyed feeling like a hacker or data detective, this might be the job for you. To tackle big assignments, we work in teams, often bridging multiple departments in the company. Having strong problem solving skills and a positive attitude will go a long way in this role.</p>\\n\\n<p>Skills and experience:</p>\\n\\n<ul>\\n<li>Extensive experience with Python (at least 2-3 years) </li>\\n<li>Strong understanding of HTTP and webservers </li>\\n<li>Website crawling, DOM parsing, other data mining/retrieval experience</li>\\n</ul>\\n\\n<p>Nice to haves:</p>\\n\\n<ul>\\n<li>Familiarity with common crawling, extracting, and data processing technologies/techniques </li>\\n<li>Basic database experience, e.g. SQL </li>\\n<li>Excellent communication skills in both verbal and written English</li>\\n</ul>\\n\\n<p>Please apply below, and include some examples of your code (a github link works great!) and be prepared to receive a coding challenge if you continue through the application process.</p>\\n', u'title': u'Back-End Developer (Python, Web Crawling)', u'company_url': u'http://www.quovo.com', u'company_logo': None, u'created_at': u'Wed Jan 18 23:17:34 UTC 2017', u'company': u'Quovo', u'how_to_apply': u'<p><a href=\"http://grnh.se/0i8w521\">http://grnh.se/0i8w521</a></p>\\n', u'location': u'New York, NY', u'url': u'http://jobs.github.com/positions/3a0b3f36-ddd4-11e6-9d78-c14aecfb9943', u'type': u'Full Time', u'id': u'3a0b3f36-ddd4-11e6-9d78-c14aecfb9943'}, {u'description': u'<p>The Platform Team is responsible for designing and building the core services and APIs that power Quovo\\u2019s products and applications. Quovo is the leading provider of account aggregation and data analytics technology for finance. Hundreds of financial institutions, advisors, and fintech companies utilize Quovo technology as the foundation for their service offerings, aggregating and integrating millions of daily transactions. Engineers on the Platform Team must work across team boundaries, ensuring that all parts of our codebase are scalable, maintainable, and robust.</p>\\n\\n<p>Our beautiful new office is located in the heart of Manhattan and we offer a full range of benefits including health, vision, dental, 401(k), and commuter benefits.</p>\\n\\n<p>Responsibilities:</p>\\n\\n<ul>\\n<li>Design, build, and maintain core services and APIs, using languages like Python, Javascript, and SQL. </li>\\n<li>Re-architect existing core services and systems with an eye towards maintainability and scalability. </li>\\n<li>Research and prototype newer technologies to be utilized in our systems and products. </li>\\n<li>Provide feedback to other engineers through code reviews and design reviews.</li>\\n</ul>\\n\\n<p>Skills and experience:</p>\\n\\n<ul>\\n<li>Experience designing scalable, testable, production-ready systems. </li>\\n<li>Experience operating and maintaining large, federated database systems. </li>\\n<li>4+ years of full stack engineering experience in a professional environment. </li>\\n<li>Experience with Python, Javascript, SQL, or comparable languages. </li>\\n<li>B.S. or M.S. in Computer Science, or equivalent work experience. </li>\\n<li>Excellent communication and collaboration skills. Able to work across multiple teams and discuss technical concepts to business development, operations, and other engineers.</li>\\n</ul>\\n', u'title': u'Platform Engineer', u'company_url': u'http://www.quovo.com', u'company_logo': None, u'created_at': u'Wed Jan 18 23:14:52 UTC 2017', u'company': u'Quovo', u'how_to_apply': u'<p><a href=\"http://grnh.se/taxvh41\">http://grnh.se/taxvh41</a></p>\\n', u'location': u'New York, NY', u'url': u'http://jobs.github.com/positions/dd4d806a-ddd3-11e6-9175-a7635296371d', u'type': u'Full Time', u'id': u'dd4d806a-ddd3-11e6-9175-a7635296371d'}, {u'description': u'<p>We&#39;re looking for an experienced backend developer to join us to help create new features and manage our infrastructure. As we continue to expand and add new products, you will completely own your product and be empowered to make the major architectural decisions that go with releasing any product.</p>\\n\\n<p>We move very quickly and will expect the same from you. We have a strong focus on continuous deployment\\u2014you&#39;ll be expected to deploy on your first day here, and we love to get feedback from users and iterate quickly. You&#39;ll have a ton of responsibility and lots of ownership over your work.</p>\\n\\n<p>Responsibilities:</p>\\n\\n<p>Designing and building from end to end a product for launch later this year\\nCollaborating with the mobile team on API integration\\nAnalyzing page load and database bottlenecks to optimize page speed\\nMaking strategic infrastructure decisions to prepare the site for scale\\nWorking on some awesome side projects, including:\\nResume parsing and natural language processing\\nComplex data integrations with strategic partners</p>\\n\\n<p>Requirements:</p>\\n\\n<p>Back-end - You should have significant experience with Python, as well as familiarity with some combination of SQL, Elasticsearch, worker processes, and Memcached/Redis\\nWeb frameworks - You have experienced with web frameworks and ORMs (Django ideal but not required)\\nWork experience - At least 2 years&#39; work experience as an engineer at a startup or tech company</p>\\n\\n<p>Great to have:</p>\\n\\n<p>Familiarity with Django Rest Framework\\nPrevious experience building REST APIs\\nSome front-end development experience, particularly with AngularJS</p>\\n', u'title': u'Senior Backend Engineer', u'company_url': u'http://www.wayup.com', u'company_logo': u'http://github-jobs.s3.amazonaws.com/ba5211b8-dc41-11e6-9dd4-c0eba4f34ae0.png', u'created_at': u'Mon Jan 16 23:18:08 UTC 2017', u'company': u'WayUp', u'how_to_apply': u'<p>Please submit your application here:</p>\\n\\n<p><a href=\"https://www.wayup.com/joinus/#120804\">https://www.wayup.com/joinus/#120804</a></p>\\n', u'location': u'New York', u'url': u'http://jobs.github.com/positions/c300adb0-dc41-11e6-808f-095ecc72b7af', u'type': u'Full Time', u'id': u'c300adb0-dc41-11e6-808f-095ecc72b7af'}, {u'description': u'<p>Who are we?\\nJOOR (<a href=\"http://www.jooraccess.com\">www.jooraccess.com</a>) seeks to revolutionize the wholesale industry. Founded in 2010 and backed by top VC firms, JOOR&#39;s innovative mobile and web marketplace improves the way brands and retailers do business. JOOR has developed cutting-edge technology to facilitate wholesale transactions, attracting the best brand and retailers - creating the wholesale industry standard</p>\\n\\n<p>Who are you?\\nYou are a passionate full stack developer who writes beautiful, advanced, readable, re-usable code.\\nYou focus on long-term best practices and coding standards.\\nYou test your own code before it gets to a QA engineer.\\nYou improve legacy code and optimize code (yours and others\\u2019) for application performance.\\nYou recognize the importance of usability and focus on consistency.\\nYou know your users and always build with them in mind.\\nYou work well with others.\\nYou are comfortable working in an Agile environment.\\nYou have a strong attention to detail.\\nYou love to learn.\\nYou know how to get things done.</p>\\n\\n<p>What will you do?\\nApply functional &amp; OO programming techniques to build high-quality and reusable services.\\nYou\\u2019ll tackle complex problems and identify new ways to build extensible technology platforms that will support global transactions.\\nYou\\u2019ll recommend system solutions by comparing advantages and disadvantages of custom development and existing alternatives.\\nYou\\u2019ll complete applications development by coordinating requirements, schedules, and activities, contributing to team meetings, troubleshooting development and production problems across multiple environments and operating platforms.\\nYou\\u2019ll push code to production within weeks of completion and QA testing.</p>\\n\\n<p>What skills do you have?\\n4+ years extensive experience in full stack development \\nDegree in CS or related field\\nAbility to develop in PHP (cakePHP), Python (Django), JavaScript (Angular), SQL (PostgreSQL)\\nExperience with API design, and working with complex data structures. \\nStrong knowledge of current web technologies, OOP, and functional programming\\nInterest in solving real-world business problems\\nExtremely resourceful\\nCurious</p>\\n\\n<p>Note - This job can either be full time in NYC OR Full Time Remote</p>\\n', u'title': u'Senior Software Engineer', u'company_url': u'http://www.jooraccess.com', u'company_logo': u'http://github-jobs.s3.amazonaws.com/1a74f218-89bd-11e6-8ee7-08c52b362350.png', u'created_at': u'Tue Jan 10 18:17:23 UTC 2017', u'company': u'JOOR, Inc.', u'how_to_apply': u'<p>Hello!!</p>\\n\\n<p>Please email your resume to <a href=\"mailto:joortech@jooraccess.com\">joortech@jooraccess.com</a>.</p>\\n\\n<p>Many thanks,\\nJOOR Tech Team</p>\\n', u'location': u'New York, NY OR REMOTE', u'url': u'http://jobs.github.com/positions/a13f44b4-89be-11e6-9bf8-3e9e2acdd34a', u'type': u'Full Time', u'id': u'a13f44b4-89be-11e6-9bf8-3e9e2acdd34a'}, {u'description': u'<p><strong>Why We Need You:</strong></p>\\n\\n<p>We got awesome hardware and need software to match it!  WAZER isn\\u2019t just the world\\u2019s first desktop waterjet cutter but the world\\u2019s first solution that allows any computer-literate user to go from their idea to cutting any material within minutes. So software is a critical piece of WAZER\\u2019s offering. The WAZER multiplatform application will allow a user to define exact cutting paths on their source materials. To do this the software will need to be able to upload and convert drawing files into a rendered interactive format that is presented to the user. The user will be able to adjust and tune their cutting paths based on their uploaded 2D drawings and will be guided through the basic setup of the machine. Lastly, the software will need to be able to convert all the adjusted paths into a WAZER machine readable format (already defined) which will produce the consumer\\u2019s desired cut. You will lead the charge in building this functionality with an intuitive, waterjet-specific workflow.</p>\\n\\n<p><strong>Your Daily Role:</strong></p>\\n\\n<p>Lead full stack software engineer that will be responsible for the technical leadership of the entire - WAZER software product including:</p>\\n\\n<ul>\\n<li>Determining application architecture</li>\\n<li>Make language and framework choices</li>\\n<li>Executing on numerous elements of the build</li>\\n<li>Managing elements of the build that are not within your capability by means of contractors</li>\\n<li>Writing modular maintainable code which is well tested</li>\\n<li>Practicing modern development workflows of code reviews and iteration planning to accurately scope out features and deliver them in a timely manner</li>\\n</ul>\\n\\n<p><strong>Must Have Qualifications:</strong></p>\\n\\n<ul>\\n<li>You have deployed consumer facing applications</li>\\n<li>You are a software generalist that is familiar with numerous modern frameworks</li>\\n<li>You are proficient in a set of client-side and server-side languages (ie. JS, Ruby, Python, Go, etc.)</li>\\n<li>You have a professional application management approach to continuous integration, testing, and pushing builds to various staging and production environments</li>\\n<li>You have a great eye for design, an appetite to build ambitious products and an ability to prioritize in order to deliver on time</li>\\n<li>You can work with the product development team to add meaningful feature sets over time to the overall WAZER solution. This could include integration of vision algorithms, path optimizations, new software manipulated hardware systems, etc.</li>\\n</ul>\\n\\n<p><strong>Nice to Have Qualifications:</strong></p>\\n\\n<ul>\\n<li>You have engineering team leadership experience while remaining in a code contributor role</li>\\n<li>You have solo product experience that went from concept to shipping to maintenance</li>\\n<li>You are a participant in the open source community</li>\\n<li>You have design experience and can use tools such as sketch or illustrator to communicate application design direction</li>\\n<li>You are a participant in the maker community</li>\\n</ul>\\n\\n<p><strong>What We Offer You:</strong></p>\\n\\n<ul>\\n<li>\\u200bA team of highly motivated, dedicated individuals working together without ego</li>\\n<li>Competitive equity, salary, and benefit package</li>\\n<li>Access to tools, machines, and space to make whatever projects you may have come to life</li>\\n<li>Opportunity to bring an awesome piece of hardware to a variety of markets and individuals</li>\\n</ul>\\n\\n<p><strong>Location &amp; Environment:</strong></p>\\n\\n<p>Our facility becomes a playground in the off hours. You are encouraged to design, make, and work on whatever personal projects you may have at the time. You may see brewing equipment, race car parts, plants, and art pieces around the office. Who knows what inspiration we use for the next problem we need to solve!</p>\\n\\n<p>As an early-stage startup, you\\u2019ll inherently spend more time at work than your traditional 9-5. Thus, we\\u2019ve located ourselves in Rockland County, NY, which is a part of the beautiful and outdoorsy Hudson River Valley but at the same time only 45 minutes from NYC, so you\\u2019ll be able to find whatever it is you enjoy doing not too far away!</p>\\n\\n<p>Furthermore, and our personal favorite perk, you\\u2019ll be working in an environment that is simultaneously our office, ideation studio, research lab, workshop, and final product assembly center, all under one roof.  This allows us to collaborate and learn each other\\u2019s area of expertise, providing better solutions to our customers.</p>\\n', u'title': u'Lead Software Engineer', u'company_url': u'http://www.wazer.com', u'company_logo': u'http://github-jobs.s3.amazonaws.com/7b266fa4-cdb2-11e6-81ff-b67c5c643260.jpg', u'created_at': u'Thu Dec 29 10:36:43 UTC 2016', u'company': u'WAZER', u'how_to_apply': u'<p>Email, <a href=\"mailto:careers@wazer.com\">careers@wazer.com</a>, with your resume and brief note about why you&#39;re interested in joining WAZER.  Please include &quot;Lead Software Engineer&quot; in the subject line.</p>\\n', u'location': u'Rockland County, NY', u'url': u'http://jobs.github.com/positions/91191db6-cdb2-11e6-8b74-fa37b6f28443', u'type': u'Full Time', u'id': u'91191db6-cdb2-11e6-8b74-fa37b6f28443'}, {u'description': u'<p>Noom\\u2019s applications combat chronic and pre-chronic conditions with structured programs and human coaches. Our technology engages users and improves health outcomes by combining the best technologies and human coaching in a single powerful platform. Coaches are given a detailed dashboard of the data our users provide in Noom Health, thus giving them the information necessary to help our users reach their health goals, whether it\\u2019s to lower their blood sugar and sodium, lose weight, or prevent Type-II Diabetes or Hypertension.</p>\\n\\n<p>The full stack engineer we are seeking will be the go-to person and core contributor to the development of our coaching tools platform and dashboard app. This person will view the web architecture of our dashboard critically, with a keen eye on improving its development flow. Their goal is to ultimately increase the efficiency and effectiveness of our coaches, allowing them to make smarter and more impactful recommendations when working with our user base. Even further, this person stays on the cutting edge of the latest web development tools and technologies (e.g. React), trying and testing them out, weighing the pros and cons, and making informed choices about which are best to integrate into our engineering environment.</p>\\n\\n<p>What We\\u2019re Looking For:</p>\\n\\n<ul>\\n<li>4+ years of full stack web development experience in Django, node.js, Rails, or something similar </li>\\n<li>Experience with, and interest in, Javascript, React (or backbone.js, angular.js, ember.js), Python, HTML5, CSS </li>\\n<li>Good communicator: comfortable explaining technical problems in person and in writing </li>\\n<li>Team player: has fun teaching people new concepts, enjoys collaborating with a team </li>\\n<li>They should own what they do, and not just throw code out. Sense of responsibility and ownership. They would have to come from an environment in which people are responsible for their own code </li>\\n<li>Has developed and shipped a dynamic web app successfully in a team environment </li>\\n<li>Rock-solid coding skills: writes code that is well structured, idiomatic, reusable, and easy to understand </li>\\n<li>Capacity to take requirements, and break them down into actionable tech tasks</li>\\n</ul>\\n', u'title': u'Senior Full Stack Engineer', u'company_url': u'http://www.noom.com', u'company_logo': None, u'created_at': u'Fri Dec 23 16:19:18 UTC 2016', u'company': u'Noom', u'how_to_apply': u'<p><a href=\"http://grnh.se/5nhrv41\">http://grnh.se/5nhrv41</a></p>\\n', u'location': u'New York, NY', u'url': u'http://jobs.github.com/positions/78a2d622-c92b-11e6-9a18-57f12c447595', u'type': u'Full Time', u'id': u'78a2d622-c92b-11e6-9a18-57f12c447595'}]\n",
      "\n",
      "\n"
     ]
    }
   ],
   "source": [
    "import json\n",
    "resp_dict = json.dumps(resp.content)\n",
    "print \"\\n\"\n",
    "print \"******using .dumps() ********\\n\"\n",
    "print type(resp_dict)\n",
    "print resp_dict\n",
    "print \"\\n\"\n",
    "print \"******using .json() ********\\n\"\n",
    "response_github = resp.json()\n",
    "print response_github\n",
    "print \"\\n\"\n",
    "\n"
   ]
  },
  {
   "cell_type": "code",
   "execution_count": 4,
   "metadata": {
    "collapsed": false
   },
   "outputs": [
    {
     "name": "stdout",
     "output_type": "stream",
     "text": [
      "********keys of the 1st job******\n",
      "\n",
      "[u'description', u'title', u'company_url', u'company_logo', u'created_at', u'company', u'how_to_apply', u'location', u'url', u'type', u'id']\n",
      "\n",
      "\n"
     ]
    }
   ],
   "source": [
    "print \"********keys of the 1st job******\\n\"\n",
    "print resp.json()[0].keys()\n",
    "print \"\\n\""
   ]
  },
  {
   "cell_type": "code",
   "execution_count": 5,
   "metadata": {
    "collapsed": false
   },
   "outputs": [
    {
     "name": "stdout",
     "output_type": "stream",
     "text": [
      "********content of the 1st job******\n",
      "\n",
      "{u'description': u'<p>Code Ocean is a Cornell Tech incubated startup company on a mission to make the world\\u2019s algorithmic and scientific code executable, accessible, and everlasting. We are building a cloud-based platform that enables academic researchers and software engineers to share, discover and run code published in scientific journals. Based in Midtown Manhattan, we are recruiting a Junior Developer Advocate to join our team.</p>\\n\\n<p>Your main responsibility would be helping our users get their code working on our platform. While we don&#39;t expect you to know each and every programming language under the sun (although that sure would be awesome), you should be able and eager to quickly familiarize yourself and dive straight into any of the following as needed; Python, R, MATLAB/Octave, C/C++, Julia, Lua, Java, shell scripting -  whatever we throw at you, really. Don\\u2019t worry, we\\u2019ve got your back if you\\u2019re ever stuck!</p>\\n\\n<p>You&#39;ll be spending most of your time interacting with users, holding their hand and encouraging them as they encounter the platform for the first time. The majority will be academic researchers, so familiarity with scientific research and academia in general is a huge plus.</p>\\n', u'title': u'Junior Developer Advocate', u'company_url': None, u'company_logo': u'http://github-jobs.s3.amazonaws.com/25f38622-de68-11e6-8632-dc9434be878e.png', u'created_at': u'Thu Jan 19 16:58:10 UTC 2017', u'company': u'Code Ocean', u'how_to_apply': u'<p>Email your resume to <a href=\"mailto:contact@codeocean.com\">contact@codeocean.com</a> with the title: &quot;Junior Developer Advocate&quot;.</p>\\n', u'location': u'New York City', u'url': u'http://jobs.github.com/positions/33906b56-de68-11e6-905d-1d7ca493c0de', u'type': u'Full Time', u'id': u'33906b56-de68-11e6-905d-1d7ca493c0de'}\n"
     ]
    }
   ],
   "source": [
    "print \"********content of the 1st job******\\n\"\n",
    "\n",
    "print resp.json()[0]"
   ]
  },
  {
   "cell_type": "code",
   "execution_count": 6,
   "metadata": {
    "collapsed": false
   },
   "outputs": [
    {
     "data": {
      "text/html": [
       "<img src=\"http://github-jobs.s3.amazonaws.com/25f38622-de68-11e6-8632-dc9434be878e.png\"/>"
      ],
      "text/plain": [
       "<IPython.core.display.Image object>"
      ]
     },
     "execution_count": 6,
     "metadata": {},
     "output_type": "execute_result"
    }
   ],
   "source": [
    "from IPython.display import Image\n",
    "image_url = resp.json()[0]['company_logo']\n",
    "Image(url=image_url) "
   ]
  },
  {
   "cell_type": "code",
   "execution_count": 7,
   "metadata": {
    "collapsed": false
   },
   "outputs": [
    {
     "data": {
      "text/html": [
       "<p>Email your resume to <a href=\"mailto:contact@codeocean.com\">contact@codeocean.com</a> with the title: &quot;Junior Developer Advocate&quot;.</p>\n"
      ],
      "text/plain": [
       "<IPython.core.display.HTML object>"
      ]
     },
     "metadata": {},
     "output_type": "display_data"
    }
   ],
   "source": [
    "from IPython.core.display import display, HTML\n",
    "display(HTML(resp.json()[0]['how_to_apply']))"
   ]
  },
  {
   "cell_type": "markdown",
   "metadata": {},
   "source": [
    "## Assignment\n",
    "- Import SQLAlchemy and configure a SQLite database.\n",
    "- Create 4 tables: company, job, location, github_metadata. Pay sppecial attention on primary and foreign keys as well as unique and non-nullable columns.\n",
    "- Make sure you store 'created_at' as a datetime and not a string."
   ]
  },
  {
   "cell_type": "code",
   "execution_count": 8,
   "metadata": {
    "collapsed": false
   },
   "outputs": [
    {
     "name": "stdout",
     "output_type": "stream",
     "text": [
      "2017-01-19 16:56:03,287 INFO sqlalchemy.engine.base.Engine SELECT CAST('test plain returns' AS VARCHAR(60)) AS anon_1\n",
      "2017-01-19 16:56:03,288 INFO sqlalchemy.engine.base.Engine ()\n",
      "2017-01-19 16:56:03,289 INFO sqlalchemy.engine.base.Engine SELECT CAST('test unicode returns' AS VARCHAR(60)) AS anon_1\n",
      "2017-01-19 16:56:03,290 INFO sqlalchemy.engine.base.Engine ()\n",
      "2017-01-19 16:56:03,292 INFO sqlalchemy.engine.base.Engine PRAGMA table_info(\"github_metadata\")\n",
      "2017-01-19 16:56:03,292 INFO sqlalchemy.engine.base.Engine ()\n",
      "2017-01-19 16:56:03,294 INFO sqlalchemy.engine.base.Engine PRAGMA table_info(\"company\")\n",
      "2017-01-19 16:56:03,294 INFO sqlalchemy.engine.base.Engine ()\n",
      "2017-01-19 16:56:03,295 INFO sqlalchemy.engine.base.Engine PRAGMA table_info(\"job\")\n",
      "2017-01-19 16:56:03,295 INFO sqlalchemy.engine.base.Engine ()\n",
      "2017-01-19 16:56:03,296 INFO sqlalchemy.engine.base.Engine PRAGMA table_info(\"location\")\n",
      "2017-01-19 16:56:03,297 INFO sqlalchemy.engine.base.Engine ()\n",
      "2017-01-19 16:56:03,298 INFO sqlalchemy.engine.base.Engine \n",
      "CREATE TABLE company (\n",
      "\tid INTEGER NOT NULL, \n",
      "\tname VARCHAR NOT NULL, \n",
      "\turl VARCHAR, \n",
      "\tlogo_url VARCHAR, \n",
      "\tPRIMARY KEY (id), \n",
      "\tUNIQUE (url)\n",
      ")\n",
      "\n",
      "\n",
      "2017-01-19 16:56:03,299 INFO sqlalchemy.engine.base.Engine ()\n",
      "2017-01-19 16:56:03,299 INFO sqlalchemy.engine.base.Engine COMMIT\n",
      "2017-01-19 16:56:03,300 INFO sqlalchemy.engine.base.Engine \n",
      "CREATE TABLE job (\n",
      "\tid INTEGER NOT NULL, \n",
      "\tcompany_id INTEGER NOT NULL, \n",
      "\ttype_ INTEGER, \n",
      "\ttitle VARCHAR NOT NULL, \n",
      "\tdescription VARCHAR, \n",
      "\thow_to_apply VARCHAR, \n",
      "\tPRIMARY KEY (id), \n",
      "\tFOREIGN KEY(company_id) REFERENCES company (id)\n",
      ")\n",
      "\n",
      "\n",
      "2017-01-19 16:56:03,301 INFO sqlalchemy.engine.base.Engine ()\n",
      "2017-01-19 16:56:03,302 INFO sqlalchemy.engine.base.Engine COMMIT\n",
      "2017-01-19 16:56:03,303 INFO sqlalchemy.engine.base.Engine \n",
      "CREATE TABLE github_metadata (\n",
      "\tjob_id INTEGER NOT NULL, \n",
      "\tgithub_id VARCHAR, \n",
      "\turl VARCHAR NOT NULL, \n",
      "\tcreated_at DATETIME NOT NULL, \n",
      "\tPRIMARY KEY (job_id), \n",
      "\tFOREIGN KEY(job_id) REFERENCES job (id), \n",
      "\tUNIQUE (github_id)\n",
      ")\n",
      "\n",
      "\n",
      "2017-01-19 16:56:03,304 INFO sqlalchemy.engine.base.Engine ()\n",
      "2017-01-19 16:56:03,304 INFO sqlalchemy.engine.base.Engine COMMIT\n",
      "2017-01-19 16:56:03,305 INFO sqlalchemy.engine.base.Engine \n",
      "CREATE TABLE location (\n",
      "\tjob_id INTEGER NOT NULL, \n",
      "\tdescription VARCHAR, \n",
      "\tremote_ok INTEGER, \n",
      "\tPRIMARY KEY (job_id), \n",
      "\tFOREIGN KEY(job_id) REFERENCES job (id)\n",
      ")\n",
      "\n",
      "\n",
      "2017-01-19 16:56:03,306 INFO sqlalchemy.engine.base.Engine ()\n",
      "2017-01-19 16:56:03,307 INFO sqlalchemy.engine.base.Engine COMMIT\n"
     ]
    }
   ],
   "source": [
    "import sqlalchemy\n",
    "from sqlalchemy import * #create_engine, Table, MetaData\n",
    "db = create_engine('sqlite:///:memory:', echo=True)\n",
    "\n",
    "metadata = MetaData()\n",
    "'''\n",
    "jobs = Table('', Base.metadata,\n",
    "    Column('job_id', Integer, ForeignKey('jobs.id'))\n",
    "    \n",
    ")\n",
    "'''\n",
    "company_table = Table('company', metadata,\n",
    "                      Column('id', Integer, primary_key=True),\n",
    "                      Column('name', String, nullable=False),\n",
    "                      Column('url', String, unique=True),\n",
    "                      Column('logo_url', String))\n",
    "\n",
    "job_table = Table('job', metadata,\n",
    "                  Column('id', Integer, primary_key=True),\n",
    "                  Column('company_id', None, ForeignKey('company.id'), nullable=False),\n",
    "                  Column('type_', Integer),\n",
    "                  Column('title', String, nullable=False),\n",
    "                  Column('description', String),\n",
    "                  Column('how_to_apply', String))\n",
    "\n",
    "location_table = Table('location', metadata,\n",
    "                      Column('job_id', None, ForeignKey('job.id'), primary_key=True),\n",
    "                      Column('description', String),\n",
    "                      Column('remote_ok', Integer))\n",
    "\n",
    "github_metadata_table = Table('github_metadata', metadata,\n",
    "                              Column('job_id', None, ForeignKey('job.id'), primary_key=True),\n",
    "                              Column('github_id', String, unique=True),\n",
    "                              Column('url', String, nullable=False),\n",
    "                              Column('created_at', DateTime, nullable=False))\n",
    "\n",
    "metadata.create_all(db)\n",
    "conn = db.connect()\n"
   ]
  },
  {
   "cell_type": "markdown",
   "metadata": {},
   "source": [
    "## Assignment\n",
    "- Store the data you got from the API request in the database.\n",
    "- Make sure you create a transaction (i.e., if an error occurs while saving a job's location data the database should rollback on all statements regarding that job)."
   ]
  },
  {
   "cell_type": "code",
   "execution_count": 27,
   "metadata": {
    "collapsed": true
   },
   "outputs": [],
   "source": [
    "from enum import Enum\n",
    "\n",
    "class JobType(Enum):\n",
    "    full_time = 1\n",
    "    part_time = 2\n",
    "\n",
    "    @staticmethod\n",
    "    def from_string(string):\n",
    "        if string.lower() == 'full time' or string.lower() == 'full-time':\n",
    "            return JobType.full_time\n",
    "        elif string.lower() == 'part time' or string.lower() == 'part-time':\n",
    "            return JobType.part_time\n",
    "        else:\n",
    "            raise RuntimeError('JobType not supported: {}'.format(string))"
   ]
  },
  {
   "cell_type": "code",
   "execution_count": 28,
   "metadata": {
    "collapsed": false
   },
   "outputs": [],
   "source": [
    "def add_company(name, url, logo_url, connection=conn):\n",
    "\n",
    "    insert = company_table.insert().values(name=name, url=url, logo_url=logo_url)\n",
    "    result = connection.execute(insert)\n",
    "    return result.inserted_primary_key[0]\n",
    "\n",
    "def add_job(company_id, type_str, title, description, how_to_apply, connection=conn):\n",
    "\n",
    "    insert = job_table.insert().values(company_id=company_id, \n",
    "                                       type_=JobType.from_string(type_str).value, \n",
    "                                       title=title, description=description, how_to_apply=how_to_apply) \n",
    "    result = connection.execute(insert)\n",
    "    return result.inserted_primary_key[0]\n",
    "\n",
    "def add_location(job_id, description, connection=conn):\n",
    "\n",
    "    insert = location_table.insert().values(job_id=job_id, description=description, \n",
    "                                       remote_ok=int('remote' in description.lower() \n",
    "                                                     or 'telecommute' in description.lower())) \n",
    "    result = connection.execute(insert)\n",
    "    return result.inserted_primary_key[0]\n",
    "\n",
    "import datetime\n",
    "created_at_pattern = '%a %b %d %X %Z %Y'\n",
    "\n",
    "def add_github_metadata(job_id, github_id, url, created_at_str, connection=conn):\n",
    "\n",
    "    insert = github_metadata_table.insert().values(job_id=job_id, github_id=github_id, url=url,\n",
    "                                       created_at=datetime.datetime.strptime(created_at_str, created_at_pattern))\n",
    "    result = connection.execute(insert)\n",
    "    return result.inserted_primary_key[0]"
   ]
  },
  {
   "cell_type": "code",
   "execution_count": 29,
   "metadata": {
    "collapsed": true
   },
   "outputs": [],
   "source": [
    "from sqlalchemy.sql import select\n",
    "\n",
    "def select_or_insert_company(name, url, logo_url, connection=conn):\n",
    "\n",
    "    s = select([company_table]).where(company_table.c.url == url)\n",
    "    result = connection.execute(s).fetchone()\n",
    "    if result is not None:\n",
    "        return result['id']\n",
    "    else:\n",
    "        new_id = insert_company(name, url, logo_url, connection)\n",
    "        return new_id"
   ]
  },
  {
   "cell_type": "code",
   "execution_count": 30,
   "metadata": {
    "collapsed": true
   },
   "outputs": [],
   "source": [
    "def select_or_insert_job(company_name, company_url, company_logo_url, \n",
    "                         github_id, github_url, github_created_at_str,\n",
    "                         type_str, title, description, how_to_apply,\n",
    "                         location_description):\n",
    "    \"\"\"\n",
    "    Returns the job id either by selecting from or inserting in job_table.\n",
    "    \n",
    "    This function might also insert new location, github_metadata and company entries.\n",
    "    \"\"\"\n",
    "    s = select([github_metadata_table]).where(github_metadata_table.c.github_id == github_id)\n",
    "    result = conn.execute(s).fetchone()\n",
    "    if result is not None:\n",
    "        return result['job_id']\n",
    "    else:\n",
    "        with db.begin() as transaction:\n",
    "            company_id = select_or_insert_company(company_name, company_url, company_logo_url, transaction)\n",
    "            job_id = add_job(company_id, type_str, title, description, how_to_apply, transaction)\n",
    "            add_github_metadata(job_id, github_id, github_url, github_created_at_str, transaction)\n",
    "            add_location(job_id, location_description, transaction)\n",
    "            \n",
    "        return job_id\n",
    "    "
   ]
  },
  {
   "cell_type": "code",
   "execution_count": 31,
   "metadata": {
    "collapsed": false
   },
   "outputs": [
    {
     "name": "stdout",
     "output_type": "stream",
     "text": [
      "what's json response.. [{u'description': u'<p>Code Ocean is a Cornell Tech incubated startup company on a mission to make the world\\u2019s algorithmic and scientific code executable, accessible, and everlasting. We are building a cloud-based platform that enables academic researchers and software engineers to share, discover and run code published in scientific journals. Based in Midtown Manhattan, we are recruiting a Junior Developer Advocate to join our team.</p>\\n\\n<p>Your main responsibility would be helping our users get their code working on our platform. While we don&#39;t expect you to know each and every programming language under the sun (although that sure would be awesome), you should be able and eager to quickly familiarize yourself and dive straight into any of the following as needed; Python, R, MATLAB/Octave, C/C++, Julia, Lua, Java, shell scripting -  whatever we throw at you, really. Don\\u2019t worry, we\\u2019ve got your back if you\\u2019re ever stuck!</p>\\n\\n<p>You&#39;ll be spending most of your time interacting with users, holding their hand and encouraging them as they encounter the platform for the first time. The majority will be academic researchers, so familiarity with scientific research and academia in general is a huge plus.</p>\\n', u'title': u'Junior Developer Advocate', u'company_url': None, u'company_logo': u'http://github-jobs.s3.amazonaws.com/25f38622-de68-11e6-8632-dc9434be878e.png', u'created_at': u'Thu Jan 19 16:58:10 UTC 2017', u'company': u'Code Ocean', u'how_to_apply': u'<p>Email your resume to <a href=\"mailto:contact@codeocean.com\">contact@codeocean.com</a> with the title: &quot;Junior Developer Advocate&quot;.</p>\\n', u'location': u'New York City', u'url': u'http://jobs.github.com/positions/33906b56-de68-11e6-905d-1d7ca493c0de', u'type': u'Full Time', u'id': u'33906b56-de68-11e6-905d-1d7ca493c0de'}, {u'description': u'<p>We are seeking a skilled Python developer to work on web crawling projects, along with API implementations and other data analytics tasks.</p>\\n\\n<p>At Quovo, there are many opportunities to develop, explore, and grow your skills. Learning is encouraged by our company culture with hackathons, workshops, classes, and more. We offer fun group activities, including team lunches at some of Zagat\\u2019s best restaurants, after work drinks, and film debates around the water cooler.</p>\\n\\n<p>If you\\u2019ve ever enjoyed feeling like a hacker or data detective, this might be the job for you. To tackle big assignments, we work in teams, often bridging multiple departments in the company. Having strong problem solving skills and a positive attitude will go a long way in this role.</p>\\n\\n<p>Skills and experience:</p>\\n\\n<ul>\\n<li>Extensive experience with Python (at least 2-3 years) </li>\\n<li>Strong understanding of HTTP and webservers </li>\\n<li>Website crawling, DOM parsing, other data mining/retrieval experience</li>\\n</ul>\\n\\n<p>Nice to haves:</p>\\n\\n<ul>\\n<li>Familiarity with common crawling, extracting, and data processing technologies/techniques </li>\\n<li>Basic database experience, e.g. SQL </li>\\n<li>Excellent communication skills in both verbal and written English</li>\\n</ul>\\n\\n<p>Please apply below, and include some examples of your code (a github link works great!) and be prepared to receive a coding challenge if you continue through the application process.</p>\\n', u'title': u'Back-End Developer (Python, Web Crawling)', u'company_url': u'http://www.quovo.com', u'company_logo': None, u'created_at': u'Wed Jan 18 23:17:34 UTC 2017', u'company': u'Quovo', u'how_to_apply': u'<p><a href=\"http://grnh.se/0i8w521\">http://grnh.se/0i8w521</a></p>\\n', u'location': u'New York, NY', u'url': u'http://jobs.github.com/positions/3a0b3f36-ddd4-11e6-9d78-c14aecfb9943', u'type': u'Full Time', u'id': u'3a0b3f36-ddd4-11e6-9d78-c14aecfb9943'}, {u'description': u'<p>The Platform Team is responsible for designing and building the core services and APIs that power Quovo\\u2019s products and applications. Quovo is the leading provider of account aggregation and data analytics technology for finance. Hundreds of financial institutions, advisors, and fintech companies utilize Quovo technology as the foundation for their service offerings, aggregating and integrating millions of daily transactions. Engineers on the Platform Team must work across team boundaries, ensuring that all parts of our codebase are scalable, maintainable, and robust.</p>\\n\\n<p>Our beautiful new office is located in the heart of Manhattan and we offer a full range of benefits including health, vision, dental, 401(k), and commuter benefits.</p>\\n\\n<p>Responsibilities:</p>\\n\\n<ul>\\n<li>Design, build, and maintain core services and APIs, using languages like Python, Javascript, and SQL. </li>\\n<li>Re-architect existing core services and systems with an eye towards maintainability and scalability. </li>\\n<li>Research and prototype newer technologies to be utilized in our systems and products. </li>\\n<li>Provide feedback to other engineers through code reviews and design reviews.</li>\\n</ul>\\n\\n<p>Skills and experience:</p>\\n\\n<ul>\\n<li>Experience designing scalable, testable, production-ready systems. </li>\\n<li>Experience operating and maintaining large, federated database systems. </li>\\n<li>4+ years of full stack engineering experience in a professional environment. </li>\\n<li>Experience with Python, Javascript, SQL, or comparable languages. </li>\\n<li>B.S. or M.S. in Computer Science, or equivalent work experience. </li>\\n<li>Excellent communication and collaboration skills. Able to work across multiple teams and discuss technical concepts to business development, operations, and other engineers.</li>\\n</ul>\\n', u'title': u'Platform Engineer', u'company_url': u'http://www.quovo.com', u'company_logo': None, u'created_at': u'Wed Jan 18 23:14:52 UTC 2017', u'company': u'Quovo', u'how_to_apply': u'<p><a href=\"http://grnh.se/taxvh41\">http://grnh.se/taxvh41</a></p>\\n', u'location': u'New York, NY', u'url': u'http://jobs.github.com/positions/dd4d806a-ddd3-11e6-9175-a7635296371d', u'type': u'Full Time', u'id': u'dd4d806a-ddd3-11e6-9175-a7635296371d'}, {u'description': u'<p>We&#39;re looking for an experienced backend developer to join us to help create new features and manage our infrastructure. As we continue to expand and add new products, you will completely own your product and be empowered to make the major architectural decisions that go with releasing any product.</p>\\n\\n<p>We move very quickly and will expect the same from you. We have a strong focus on continuous deployment\\u2014you&#39;ll be expected to deploy on your first day here, and we love to get feedback from users and iterate quickly. You&#39;ll have a ton of responsibility and lots of ownership over your work.</p>\\n\\n<p>Responsibilities:</p>\\n\\n<p>Designing and building from end to end a product for launch later this year\\nCollaborating with the mobile team on API integration\\nAnalyzing page load and database bottlenecks to optimize page speed\\nMaking strategic infrastructure decisions to prepare the site for scale\\nWorking on some awesome side projects, including:\\nResume parsing and natural language processing\\nComplex data integrations with strategic partners</p>\\n\\n<p>Requirements:</p>\\n\\n<p>Back-end - You should have significant experience with Python, as well as familiarity with some combination of SQL, Elasticsearch, worker processes, and Memcached/Redis\\nWeb frameworks - You have experienced with web frameworks and ORMs (Django ideal but not required)\\nWork experience - At least 2 years&#39; work experience as an engineer at a startup or tech company</p>\\n\\n<p>Great to have:</p>\\n\\n<p>Familiarity with Django Rest Framework\\nPrevious experience building REST APIs\\nSome front-end development experience, particularly with AngularJS</p>\\n', u'title': u'Senior Backend Engineer', u'company_url': u'http://www.wayup.com', u'company_logo': u'http://github-jobs.s3.amazonaws.com/ba5211b8-dc41-11e6-9dd4-c0eba4f34ae0.png', u'created_at': u'Mon Jan 16 23:18:08 UTC 2017', u'company': u'WayUp', u'how_to_apply': u'<p>Please submit your application here:</p>\\n\\n<p><a href=\"https://www.wayup.com/joinus/#120804\">https://www.wayup.com/joinus/#120804</a></p>\\n', u'location': u'New York', u'url': u'http://jobs.github.com/positions/c300adb0-dc41-11e6-808f-095ecc72b7af', u'type': u'Full Time', u'id': u'c300adb0-dc41-11e6-808f-095ecc72b7af'}, {u'description': u'<p>Who are we?\\nJOOR (<a href=\"http://www.jooraccess.com\">www.jooraccess.com</a>) seeks to revolutionize the wholesale industry. Founded in 2010 and backed by top VC firms, JOOR&#39;s innovative mobile and web marketplace improves the way brands and retailers do business. JOOR has developed cutting-edge technology to facilitate wholesale transactions, attracting the best brand and retailers - creating the wholesale industry standard</p>\\n\\n<p>Who are you?\\nYou are a passionate full stack developer who writes beautiful, advanced, readable, re-usable code.\\nYou focus on long-term best practices and coding standards.\\nYou test your own code before it gets to a QA engineer.\\nYou improve legacy code and optimize code (yours and others\\u2019) for application performance.\\nYou recognize the importance of usability and focus on consistency.\\nYou know your users and always build with them in mind.\\nYou work well with others.\\nYou are comfortable working in an Agile environment.\\nYou have a strong attention to detail.\\nYou love to learn.\\nYou know how to get things done.</p>\\n\\n<p>What will you do?\\nApply functional &amp; OO programming techniques to build high-quality and reusable services.\\nYou\\u2019ll tackle complex problems and identify new ways to build extensible technology platforms that will support global transactions.\\nYou\\u2019ll recommend system solutions by comparing advantages and disadvantages of custom development and existing alternatives.\\nYou\\u2019ll complete applications development by coordinating requirements, schedules, and activities, contributing to team meetings, troubleshooting development and production problems across multiple environments and operating platforms.\\nYou\\u2019ll push code to production within weeks of completion and QA testing.</p>\\n\\n<p>What skills do you have?\\n4+ years extensive experience in full stack development \\nDegree in CS or related field\\nAbility to develop in PHP (cakePHP), Python (Django), JavaScript (Angular), SQL (PostgreSQL)\\nExperience with API design, and working with complex data structures. \\nStrong knowledge of current web technologies, OOP, and functional programming\\nInterest in solving real-world business problems\\nExtremely resourceful\\nCurious</p>\\n\\n<p>Note - This job can either be full time in NYC OR Full Time Remote</p>\\n', u'title': u'Senior Software Engineer', u'company_url': u'http://www.jooraccess.com', u'company_logo': u'http://github-jobs.s3.amazonaws.com/1a74f218-89bd-11e6-8ee7-08c52b362350.png', u'created_at': u'Tue Jan 10 18:17:23 UTC 2017', u'company': u'JOOR, Inc.', u'how_to_apply': u'<p>Hello!!</p>\\n\\n<p>Please email your resume to <a href=\"mailto:joortech@jooraccess.com\">joortech@jooraccess.com</a>.</p>\\n\\n<p>Many thanks,\\nJOOR Tech Team</p>\\n', u'location': u'New York, NY OR REMOTE', u'url': u'http://jobs.github.com/positions/a13f44b4-89be-11e6-9bf8-3e9e2acdd34a', u'type': u'Full Time', u'id': u'a13f44b4-89be-11e6-9bf8-3e9e2acdd34a'}, {u'description': u'<p><strong>Why We Need You:</strong></p>\\n\\n<p>We got awesome hardware and need software to match it!  WAZER isn\\u2019t just the world\\u2019s first desktop waterjet cutter but the world\\u2019s first solution that allows any computer-literate user to go from their idea to cutting any material within minutes. So software is a critical piece of WAZER\\u2019s offering. The WAZER multiplatform application will allow a user to define exact cutting paths on their source materials. To do this the software will need to be able to upload and convert drawing files into a rendered interactive format that is presented to the user. The user will be able to adjust and tune their cutting paths based on their uploaded 2D drawings and will be guided through the basic setup of the machine. Lastly, the software will need to be able to convert all the adjusted paths into a WAZER machine readable format (already defined) which will produce the consumer\\u2019s desired cut. You will lead the charge in building this functionality with an intuitive, waterjet-specific workflow.</p>\\n\\n<p><strong>Your Daily Role:</strong></p>\\n\\n<p>Lead full stack software engineer that will be responsible for the technical leadership of the entire - WAZER software product including:</p>\\n\\n<ul>\\n<li>Determining application architecture</li>\\n<li>Make language and framework choices</li>\\n<li>Executing on numerous elements of the build</li>\\n<li>Managing elements of the build that are not within your capability by means of contractors</li>\\n<li>Writing modular maintainable code which is well tested</li>\\n<li>Practicing modern development workflows of code reviews and iteration planning to accurately scope out features and deliver them in a timely manner</li>\\n</ul>\\n\\n<p><strong>Must Have Qualifications:</strong></p>\\n\\n<ul>\\n<li>You have deployed consumer facing applications</li>\\n<li>You are a software generalist that is familiar with numerous modern frameworks</li>\\n<li>You are proficient in a set of client-side and server-side languages (ie. JS, Ruby, Python, Go, etc.)</li>\\n<li>You have a professional application management approach to continuous integration, testing, and pushing builds to various staging and production environments</li>\\n<li>You have a great eye for design, an appetite to build ambitious products and an ability to prioritize in order to deliver on time</li>\\n<li>You can work with the product development team to add meaningful feature sets over time to the overall WAZER solution. This could include integration of vision algorithms, path optimizations, new software manipulated hardware systems, etc.</li>\\n</ul>\\n\\n<p><strong>Nice to Have Qualifications:</strong></p>\\n\\n<ul>\\n<li>You have engineering team leadership experience while remaining in a code contributor role</li>\\n<li>You have solo product experience that went from concept to shipping to maintenance</li>\\n<li>You are a participant in the open source community</li>\\n<li>You have design experience and can use tools such as sketch or illustrator to communicate application design direction</li>\\n<li>You are a participant in the maker community</li>\\n</ul>\\n\\n<p><strong>What We Offer You:</strong></p>\\n\\n<ul>\\n<li>\\u200bA team of highly motivated, dedicated individuals working together without ego</li>\\n<li>Competitive equity, salary, and benefit package</li>\\n<li>Access to tools, machines, and space to make whatever projects you may have come to life</li>\\n<li>Opportunity to bring an awesome piece of hardware to a variety of markets and individuals</li>\\n</ul>\\n\\n<p><strong>Location &amp; Environment:</strong></p>\\n\\n<p>Our facility becomes a playground in the off hours. You are encouraged to design, make, and work on whatever personal projects you may have at the time. You may see brewing equipment, race car parts, plants, and art pieces around the office. Who knows what inspiration we use for the next problem we need to solve!</p>\\n\\n<p>As an early-stage startup, you\\u2019ll inherently spend more time at work than your traditional 9-5. Thus, we\\u2019ve located ourselves in Rockland County, NY, which is a part of the beautiful and outdoorsy Hudson River Valley but at the same time only 45 minutes from NYC, so you\\u2019ll be able to find whatever it is you enjoy doing not too far away!</p>\\n\\n<p>Furthermore, and our personal favorite perk, you\\u2019ll be working in an environment that is simultaneously our office, ideation studio, research lab, workshop, and final product assembly center, all under one roof.  This allows us to collaborate and learn each other\\u2019s area of expertise, providing better solutions to our customers.</p>\\n', u'title': u'Lead Software Engineer', u'company_url': u'http://www.wazer.com', u'company_logo': u'http://github-jobs.s3.amazonaws.com/7b266fa4-cdb2-11e6-81ff-b67c5c643260.jpg', u'created_at': u'Thu Dec 29 10:36:43 UTC 2016', u'company': u'WAZER', u'how_to_apply': u'<p>Email, <a href=\"mailto:careers@wazer.com\">careers@wazer.com</a>, with your resume and brief note about why you&#39;re interested in joining WAZER.  Please include &quot;Lead Software Engineer&quot; in the subject line.</p>\\n', u'location': u'Rockland County, NY', u'url': u'http://jobs.github.com/positions/91191db6-cdb2-11e6-8b74-fa37b6f28443', u'type': u'Full Time', u'id': u'91191db6-cdb2-11e6-8b74-fa37b6f28443'}, {u'description': u'<p>Noom\\u2019s applications combat chronic and pre-chronic conditions with structured programs and human coaches. Our technology engages users and improves health outcomes by combining the best technologies and human coaching in a single powerful platform. Coaches are given a detailed dashboard of the data our users provide in Noom Health, thus giving them the information necessary to help our users reach their health goals, whether it\\u2019s to lower their blood sugar and sodium, lose weight, or prevent Type-II Diabetes or Hypertension.</p>\\n\\n<p>The full stack engineer we are seeking will be the go-to person and core contributor to the development of our coaching tools platform and dashboard app. This person will view the web architecture of our dashboard critically, with a keen eye on improving its development flow. Their goal is to ultimately increase the efficiency and effectiveness of our coaches, allowing them to make smarter and more impactful recommendations when working with our user base. Even further, this person stays on the cutting edge of the latest web development tools and technologies (e.g. React), trying and testing them out, weighing the pros and cons, and making informed choices about which are best to integrate into our engineering environment.</p>\\n\\n<p>What We\\u2019re Looking For:</p>\\n\\n<ul>\\n<li>4+ years of full stack web development experience in Django, node.js, Rails, or something similar </li>\\n<li>Experience with, and interest in, Javascript, React (or backbone.js, angular.js, ember.js), Python, HTML5, CSS </li>\\n<li>Good communicator: comfortable explaining technical problems in person and in writing </li>\\n<li>Team player: has fun teaching people new concepts, enjoys collaborating with a team </li>\\n<li>They should own what they do, and not just throw code out. Sense of responsibility and ownership. They would have to come from an environment in which people are responsible for their own code </li>\\n<li>Has developed and shipped a dynamic web app successfully in a team environment </li>\\n<li>Rock-solid coding skills: writes code that is well structured, idiomatic, reusable, and easy to understand </li>\\n<li>Capacity to take requirements, and break them down into actionable tech tasks</li>\\n</ul>\\n', u'title': u'Senior Full Stack Engineer', u'company_url': u'http://www.noom.com', u'company_logo': None, u'created_at': u'Fri Dec 23 16:19:18 UTC 2016', u'company': u'Noom', u'how_to_apply': u'<p><a href=\"http://grnh.se/5nhrv41\">http://grnh.se/5nhrv41</a></p>\\n', u'location': u'New York, NY', u'url': u'http://jobs.github.com/positions/78a2d622-c92b-11e6-9a18-57f12c447595', u'type': u'Full Time', u'id': u'78a2d622-c92b-11e6-9a18-57f12c447595'}]\n"
     ]
    }
   ],
   "source": [
    "print \"what's json response..\", response_github"
   ]
  },
  {
   "cell_type": "code",
   "execution_count": 32,
   "metadata": {
    "collapsed": false
   },
   "outputs": [
    {
     "name": "stdout",
     "output_type": "stream",
     "text": [
      "2017-01-19 17:23:45,519 INFO sqlalchemy.engine.base.Engine SELECT github_metadata.job_id, github_metadata.github_id, github_metadata.url, github_metadata.created_at \n",
      "FROM github_metadata \n",
      "WHERE github_metadata.github_id = ?\n",
      "2017-01-19 17:23:45,520 INFO sqlalchemy.engine.base.Engine (u'33906b56-de68-11e6-905d-1d7ca493c0de',)\n",
      "2017-01-19 17:23:45,521 INFO sqlalchemy.engine.base.Engine BEGIN (implicit)\n",
      "2017-01-19 17:23:45,523 INFO sqlalchemy.engine.base.Engine SELECT company.id, company.name, company.url, company.logo_url \n",
      "FROM company \n",
      "WHERE company.url IS NULL\n",
      "2017-01-19 17:23:45,524 INFO sqlalchemy.engine.base.Engine ()\n",
      "2017-01-19 17:23:45,525 INFO sqlalchemy.engine.base.Engine INSERT INTO company (name, url, logo_url) VALUES (?, ?, ?)\n",
      "2017-01-19 17:23:45,525 INFO sqlalchemy.engine.base.Engine (u'Code Ocean', None, u'http://github-jobs.s3.amazonaws.com/25f38622-de68-11e6-8632-dc9434be878e.png')\n",
      "2017-01-19 17:23:45,527 INFO sqlalchemy.engine.base.Engine INSERT INTO job (company_id, type_, title, description, how_to_apply) VALUES (?, ?, ?, ?, ?)\n",
      "2017-01-19 17:23:45,528 INFO sqlalchemy.engine.base.Engine (1, 1, u'Junior Developer Advocate', u'<p>Code Ocean is a Cornell Tech incubated startup company on a mission to make the world\\u2019s algorithmic and scientific code executable, accessible, and everlasting. We are building a cloud-based platform that enables academic researchers and software engineers to share, discover and run code published in scientific journals. Based in Midtown Manhattan, we are recruiting a Junior Developer Advocate to join our team.</p>\\n\\n<p>Your main responsibility would be helping our users get their code working on our platform. While we don&#39;t expect you to know each and every programming language under the sun (although that sure would be awesome), you should be able and eager to quickly familiarize yourself and dive straight into any of the following as needed; Python, R, MATLAB/Octave, C/C++, Julia, Lua, Java, shell scripting -  whatever we throw at you, really. Don\\u2019t worry, we\\u2019ve got your back if you\\u2019re ever stuck!</p>\\n\\n<p>You&#39;ll be spending most of your time interacting with users, holding their hand and encouraging them as they encounter the platform for the first time. The majority will be academic researchers, so familiarity with scientific research and academia in general is a huge plus.</p>\\n', u'<p>Email your resume to <a href=\"mailto:contact@codeocean.com\">contact@codeocean.com</a> with the title: &quot;Junior Developer Advocate&quot;.</p>\\n')\n",
      "2017-01-19 17:23:45,533 INFO sqlalchemy.engine.base.Engine INSERT INTO github_metadata (job_id, github_id, url, created_at) VALUES (?, ?, ?, ?)\n",
      "2017-01-19 17:23:45,534 INFO sqlalchemy.engine.base.Engine (1, u'33906b56-de68-11e6-905d-1d7ca493c0de', u'http://jobs.github.com/positions/33906b56-de68-11e6-905d-1d7ca493c0de', '2017-01-19 16:58:10.000000')\n",
      "2017-01-19 17:23:45,535 INFO sqlalchemy.engine.base.Engine INSERT INTO location (job_id, description, remote_ok) VALUES (?, ?, ?)\n",
      "2017-01-19 17:23:45,536 INFO sqlalchemy.engine.base.Engine (1, u'New York City', 0)\n",
      "2017-01-19 17:23:45,537 INFO sqlalchemy.engine.base.Engine COMMIT\n",
      "2017-01-19 17:23:45,538 INFO sqlalchemy.engine.base.Engine SELECT github_metadata.job_id, github_metadata.github_id, github_metadata.url, github_metadata.created_at \n",
      "FROM github_metadata \n",
      "WHERE github_metadata.github_id = ?\n",
      "2017-01-19 17:23:45,539 INFO sqlalchemy.engine.base.Engine (u'3a0b3f36-ddd4-11e6-9d78-c14aecfb9943',)\n",
      "2017-01-19 17:23:45,539 INFO sqlalchemy.engine.base.Engine BEGIN (implicit)\n",
      "2017-01-19 17:23:45,540 INFO sqlalchemy.engine.base.Engine SELECT company.id, company.name, company.url, company.logo_url \n",
      "FROM company \n",
      "WHERE company.url = ?\n",
      "2017-01-19 17:23:45,541 INFO sqlalchemy.engine.base.Engine (u'http://www.quovo.com',)\n",
      "2017-01-19 17:23:45,542 INFO sqlalchemy.engine.base.Engine INSERT INTO company (name, url, logo_url) VALUES (?, ?, ?)\n",
      "2017-01-19 17:23:45,543 INFO sqlalchemy.engine.base.Engine (u'Quovo', u'http://www.quovo.com', None)\n",
      "2017-01-19 17:23:45,544 INFO sqlalchemy.engine.base.Engine INSERT INTO job (company_id, type_, title, description, how_to_apply) VALUES (?, ?, ?, ?, ?)\n",
      "2017-01-19 17:23:45,544 INFO sqlalchemy.engine.base.Engine (2, 1, u'Back-End Developer (Python, Web Crawling)', u'<p>We are seeking a skilled Python developer to work on web crawling projects, along with API implementations and other data analytics tasks.</p>\\n\\n<p>At Quovo, there are many opportunities to develop, explore, and grow your skills. Learning is encouraged by our company culture with hackathons, workshops, classes, and more. We offer fun group activities, including team lunches at some of Zagat\\u2019s best restaurants, after work drinks, and film debates around the water cooler.</p>\\n\\n<p>If you\\u2019ve ever enjoyed feeling like a hacker or data detective, this might be the job for you. To tackle big assignments, we work in teams, often bridging multiple departments in the company. Having strong problem solving skills and a positive attitude will go a long way in this role.</p>\\n\\n<p>Skills and experience:</p>\\n\\n<ul>\\n<li>Extensive experience with Python (at least 2-3 years) </li>\\n<li>Strong understanding of HTTP and webservers </li>\\n<li>Website crawling, DOM parsing, other data mining/retrieval experience</li>\\n</ul>\\n\\n<p>Nice to haves:</p>\\n\\n<ul>\\n<li>Familiarity with common crawling, extracting, and data processing technologies/techniques </li>\\n<li>Basic database experience, e.g. SQL </li>\\n<li>Excellent communication skills in both verbal and written English</li>\\n</ul>\\n\\n<p>Please apply below, and include some examples of your code (a github link works great!) and be prepared to receive a coding challenge if you continue through the application process.</p>\\n', u'<p><a href=\"http://grnh.se/0i8w521\">http://grnh.se/0i8w521</a></p>\\n')\n",
      "2017-01-19 17:23:45,545 INFO sqlalchemy.engine.base.Engine INSERT INTO github_metadata (job_id, github_id, url, created_at) VALUES (?, ?, ?, ?)\n",
      "2017-01-19 17:23:45,546 INFO sqlalchemy.engine.base.Engine (2, u'3a0b3f36-ddd4-11e6-9d78-c14aecfb9943', u'http://jobs.github.com/positions/3a0b3f36-ddd4-11e6-9d78-c14aecfb9943', '2017-01-18 23:17:34.000000')\n",
      "2017-01-19 17:23:45,547 INFO sqlalchemy.engine.base.Engine INSERT INTO location (job_id, description, remote_ok) VALUES (?, ?, ?)\n",
      "2017-01-19 17:23:45,550 INFO sqlalchemy.engine.base.Engine (2, u'New York, NY', 0)\n",
      "2017-01-19 17:23:45,551 INFO sqlalchemy.engine.base.Engine COMMIT\n",
      "2017-01-19 17:23:45,552 INFO sqlalchemy.engine.base.Engine SELECT github_metadata.job_id, github_metadata.github_id, github_metadata.url, github_metadata.created_at \n",
      "FROM github_metadata \n",
      "WHERE github_metadata.github_id = ?\n",
      "2017-01-19 17:23:45,552 INFO sqlalchemy.engine.base.Engine (u'dd4d806a-ddd3-11e6-9175-a7635296371d',)\n",
      "2017-01-19 17:23:45,553 INFO sqlalchemy.engine.base.Engine BEGIN (implicit)\n",
      "2017-01-19 17:23:45,554 INFO sqlalchemy.engine.base.Engine SELECT company.id, company.name, company.url, company.logo_url \n",
      "FROM company \n",
      "WHERE company.url = ?\n",
      "2017-01-19 17:23:45,555 INFO sqlalchemy.engine.base.Engine (u'http://www.quovo.com',)\n",
      "2017-01-19 17:23:45,556 INFO sqlalchemy.engine.base.Engine INSERT INTO job (company_id, type_, title, description, how_to_apply) VALUES (?, ?, ?, ?, ?)\n",
      "2017-01-19 17:23:45,557 INFO sqlalchemy.engine.base.Engine (2, 1, u'Platform Engineer', u'<p>The Platform Team is responsible for designing and building the core services and APIs that power Quovo\\u2019s products and applications. Quovo is the leading provider of account aggregation and data analytics technology for finance. Hundreds of financial institutions, advisors, and fintech companies utilize Quovo technology as the foundation for their service offerings, aggregating and integrating millions of daily transactions. Engineers on the Platform Team must work across team boundaries, ensuring that all parts of our codebase are scalable, maintainable, and robust.</p>\\n\\n<p>Our beautiful new office is located in the heart of Manhattan and we offer a full range of benefits including health, vision, dental, 401(k), and commuter benefits.</p>\\n\\n<p>Responsibilities:</p>\\n\\n<ul>\\n<li>Design, build, and maintain core services and APIs, using languages like Python, Javascript, and SQL. </li>\\n<li>Re-architect existing core services and systems with an eye towards maintainability and scalability. </li>\\n<li>Research and prototype newer technologies to be utilized in our systems and products. </li>\\n<li>Provide feedback to other engineers through code reviews and design reviews.</li>\\n</ul>\\n\\n<p>Skills and experience:</p>\\n\\n<ul>\\n<li>Experience designing scalable, testable, production-ready systems. </li>\\n<li>Experience operating and maintaining large, federated database systems. </li>\\n<li>4+ years of full stack engineering experience in a professional environment. </li>\\n<li>Experience with Python, Javascript, SQL, or comparable languages. </li>\\n<li>B.S. or M.S. in Computer Science, or equivalent work experience. </li>\\n<li>Excellent communication and collaboration skills. Able to work across multiple teams and discuss technical concepts to business development, operations, and other engineers.</li>\\n</ul>\\n', u'<p><a href=\"http://grnh.se/taxvh41\">http://grnh.se/taxvh41</a></p>\\n')\n",
      "2017-01-19 17:23:45,558 INFO sqlalchemy.engine.base.Engine INSERT INTO github_metadata (job_id, github_id, url, created_at) VALUES (?, ?, ?, ?)\n",
      "2017-01-19 17:23:45,558 INFO sqlalchemy.engine.base.Engine (3, u'dd4d806a-ddd3-11e6-9175-a7635296371d', u'http://jobs.github.com/positions/dd4d806a-ddd3-11e6-9175-a7635296371d', '2017-01-18 23:14:52.000000')\n",
      "2017-01-19 17:23:45,559 INFO sqlalchemy.engine.base.Engine INSERT INTO location (job_id, description, remote_ok) VALUES (?, ?, ?)\n",
      "2017-01-19 17:23:45,560 INFO sqlalchemy.engine.base.Engine (3, u'New York, NY', 0)\n",
      "2017-01-19 17:23:45,561 INFO sqlalchemy.engine.base.Engine COMMIT\n",
      "2017-01-19 17:23:45,562 INFO sqlalchemy.engine.base.Engine SELECT github_metadata.job_id, github_metadata.github_id, github_metadata.url, github_metadata.created_at \n",
      "FROM github_metadata \n",
      "WHERE github_metadata.github_id = ?\n",
      "2017-01-19 17:23:45,562 INFO sqlalchemy.engine.base.Engine (u'c300adb0-dc41-11e6-808f-095ecc72b7af',)\n",
      "2017-01-19 17:23:45,563 INFO sqlalchemy.engine.base.Engine BEGIN (implicit)\n",
      "2017-01-19 17:23:45,564 INFO sqlalchemy.engine.base.Engine SELECT company.id, company.name, company.url, company.logo_url \n",
      "FROM company \n",
      "WHERE company.url = ?\n",
      "2017-01-19 17:23:45,565 INFO sqlalchemy.engine.base.Engine (u'http://www.wayup.com',)\n",
      "2017-01-19 17:23:45,566 INFO sqlalchemy.engine.base.Engine INSERT INTO company (name, url, logo_url) VALUES (?, ?, ?)\n",
      "2017-01-19 17:23:45,567 INFO sqlalchemy.engine.base.Engine (u'WayUp', u'http://www.wayup.com', u'http://github-jobs.s3.amazonaws.com/ba5211b8-dc41-11e6-9dd4-c0eba4f34ae0.png')\n",
      "2017-01-19 17:23:45,568 INFO sqlalchemy.engine.base.Engine INSERT INTO job (company_id, type_, title, description, how_to_apply) VALUES (?, ?, ?, ?, ?)\n",
      "2017-01-19 17:23:45,568 INFO sqlalchemy.engine.base.Engine (3, 1, u'Senior Backend Engineer', u'<p>We&#39;re looking for an experienced backend developer to join us to help create new features and manage our infrastructure. As we continue to expand and add new products, you will completely own your product and be empowered to make the major architectural decisions that go with releasing any product.</p>\\n\\n<p>We move very quickly and will expect the same from you. We have a strong focus on continuous deployment\\u2014you&#39;ll be expected to deploy on your first day here, and we love to get feedback from users and iterate quickly. You&#39;ll have a ton of responsibility and lots of ownership over your work.</p>\\n\\n<p>Responsibilities:</p>\\n\\n<p>Designing and building from end to end a product for launch later this year\\nCollaborating with the mobile team on API integration\\nAnalyzing page load and database bottlenecks to optimize page speed\\nMaking strategic infrastructure decisions to prepare the site for scale\\nWorking on some awesome side projects, including:\\nResume parsing and natural language processing\\nComplex data integrations with strategic partners</p>\\n\\n<p>Requirements:</p>\\n\\n<p>Back-end - You should have significant experience with Python, as well as familiarity with some combination of SQL, Elasticsearch, worker processes, and Memcached/Redis\\nWeb frameworks - You have experienced with web frameworks and ORMs (Django ideal but not required)\\nWork experience - At least 2 years&#39; work experience as an engineer at a startup or tech company</p>\\n\\n<p>Great to have:</p>\\n\\n<p>Familiarity with Django Rest Framework\\nPrevious experience building REST APIs\\nSome front-end development experience, particularly with AngularJS</p>\\n', u'<p>Please submit your application here:</p>\\n\\n<p><a href=\"https://www.wayup.com/joinus/#120804\">https://www.wayup.com/joinus/#120804</a></p>\\n')\n",
      "2017-01-19 17:23:45,569 INFO sqlalchemy.engine.base.Engine INSERT INTO github_metadata (job_id, github_id, url, created_at) VALUES (?, ?, ?, ?)\n",
      "2017-01-19 17:23:45,570 INFO sqlalchemy.engine.base.Engine (4, u'c300adb0-dc41-11e6-808f-095ecc72b7af', u'http://jobs.github.com/positions/c300adb0-dc41-11e6-808f-095ecc72b7af', '2017-01-16 23:18:08.000000')\n",
      "2017-01-19 17:23:45,571 INFO sqlalchemy.engine.base.Engine INSERT INTO location (job_id, description, remote_ok) VALUES (?, ?, ?)\n",
      "2017-01-19 17:23:45,572 INFO sqlalchemy.engine.base.Engine (4, u'New York', 0)\n",
      "2017-01-19 17:23:45,573 INFO sqlalchemy.engine.base.Engine COMMIT\n",
      "2017-01-19 17:23:45,575 INFO sqlalchemy.engine.base.Engine SELECT github_metadata.job_id, github_metadata.github_id, github_metadata.url, github_metadata.created_at \n",
      "FROM github_metadata \n",
      "WHERE github_metadata.github_id = ?\n",
      "2017-01-19 17:23:45,576 INFO sqlalchemy.engine.base.Engine (u'a13f44b4-89be-11e6-9bf8-3e9e2acdd34a',)\n",
      "2017-01-19 17:23:45,577 INFO sqlalchemy.engine.base.Engine BEGIN (implicit)\n",
      "2017-01-19 17:23:45,578 INFO sqlalchemy.engine.base.Engine SELECT company.id, company.name, company.url, company.logo_url \n",
      "FROM company \n",
      "WHERE company.url = ?\n",
      "2017-01-19 17:23:45,579 INFO sqlalchemy.engine.base.Engine (u'http://www.jooraccess.com',)\n",
      "2017-01-19 17:23:45,580 INFO sqlalchemy.engine.base.Engine INSERT INTO company (name, url, logo_url) VALUES (?, ?, ?)\n",
      "2017-01-19 17:23:45,580 INFO sqlalchemy.engine.base.Engine (u'JOOR, Inc.', u'http://www.jooraccess.com', u'http://github-jobs.s3.amazonaws.com/1a74f218-89bd-11e6-8ee7-08c52b362350.png')\n",
      "2017-01-19 17:23:45,582 INFO sqlalchemy.engine.base.Engine INSERT INTO job (company_id, type_, title, description, how_to_apply) VALUES (?, ?, ?, ?, ?)\n",
      "2017-01-19 17:23:45,583 INFO sqlalchemy.engine.base.Engine (4, 1, u'Senior Software Engineer', u'<p>Who are we?\\nJOOR (<a href=\"http://www.jooraccess.com\">www.jooraccess.com</a>) seeks to revolutionize the wholesale industry. Founded in 2010 and backed by top VC firms, JOOR&#39;s innovative mobile and web marketplace improves the way brands and retailers do business. JOOR has developed cutting-edge technology to facilitate wholesale transactions, attracting the best brand and retailers - creating the wholesale industry standard</p>\\n\\n<p>Who are you?\\nYou are a passionate full stack developer who writes beautiful, advanced, readable, re-usable code.\\nYou focus on long-term best practices and coding standards.\\nYou test your own code before it gets to a QA engineer.\\nYou improve legacy code and optimize code (yours and others\\u2019) for application performance.\\nYou recognize the importance of usability and focus on consistency.\\nYou know your users and always build with them in mind.\\nYou work well with others.\\nYou are comfortable working in an Agile environment.\\nYou have a strong attention to detail.\\nYou love to learn.\\nYou know how to get things done.</p>\\n\\n<p>What will you do?\\nApply functional &amp; OO programming techniques to build high-quality and reusable services.\\nYou\\u2019ll tackle complex problems and identify new ways to build extensible technology platforms that will support global transactions.\\nYou\\u2019ll recommend system solutions by comparing advantages and disadvantages of custom development and existing alternatives.\\nYou\\u2019ll complete applications development by coordinating requirements, schedules, and activities, contributing to team meetings, troubleshooting development and production problems across multiple environments and operating platforms.\\nYou\\u2019ll push code to production within weeks of completion and QA testing.</p>\\n\\n<p>What skills do you have?\\n4+ years extensive experience in full stack development \\nDegree in CS or related field\\nAbility to develop in PHP (cakePHP), Python (Django), JavaScript (Angular), SQL (PostgreSQL)\\nExperience with API design, and working with complex data structures. \\nStrong knowledge of current web technologies, OOP, and functional programming\\nInterest in solving real-world business problems\\nExtremely resourceful\\nCurious</p>\\n\\n<p>Note - This job can either be full time in NYC OR Full Time Remote</p>\\n', u'<p>Hello!!</p>\\n\\n<p>Please email your resume to <a href=\"mailto:joortech@jooraccess.com\">joortech@jooraccess.com</a>.</p>\\n\\n<p>Many thanks,\\nJOOR Tech Team</p>\\n')\n",
      "2017-01-19 17:23:45,584 INFO sqlalchemy.engine.base.Engine INSERT INTO github_metadata (job_id, github_id, url, created_at) VALUES (?, ?, ?, ?)\n",
      "2017-01-19 17:23:45,585 INFO sqlalchemy.engine.base.Engine (5, u'a13f44b4-89be-11e6-9bf8-3e9e2acdd34a', u'http://jobs.github.com/positions/a13f44b4-89be-11e6-9bf8-3e9e2acdd34a', '2017-01-10 18:17:23.000000')\n",
      "2017-01-19 17:23:45,586 INFO sqlalchemy.engine.base.Engine INSERT INTO location (job_id, description, remote_ok) VALUES (?, ?, ?)\n",
      "2017-01-19 17:23:45,587 INFO sqlalchemy.engine.base.Engine (5, u'New York, NY OR REMOTE', 1)\n",
      "2017-01-19 17:23:45,588 INFO sqlalchemy.engine.base.Engine COMMIT\n",
      "2017-01-19 17:23:45,589 INFO sqlalchemy.engine.base.Engine SELECT github_metadata.job_id, github_metadata.github_id, github_metadata.url, github_metadata.created_at \n",
      "FROM github_metadata \n",
      "WHERE github_metadata.github_id = ?\n",
      "2017-01-19 17:23:45,590 INFO sqlalchemy.engine.base.Engine (u'91191db6-cdb2-11e6-8b74-fa37b6f28443',)\n",
      "2017-01-19 17:23:45,591 INFO sqlalchemy.engine.base.Engine BEGIN (implicit)\n",
      "2017-01-19 17:23:45,593 INFO sqlalchemy.engine.base.Engine SELECT company.id, company.name, company.url, company.logo_url \n",
      "FROM company \n",
      "WHERE company.url = ?\n",
      "2017-01-19 17:23:45,593 INFO sqlalchemy.engine.base.Engine (u'http://www.wazer.com',)\n",
      "2017-01-19 17:23:45,594 INFO sqlalchemy.engine.base.Engine INSERT INTO company (name, url, logo_url) VALUES (?, ?, ?)\n",
      "2017-01-19 17:23:45,595 INFO sqlalchemy.engine.base.Engine (u'WAZER', u'http://www.wazer.com', u'http://github-jobs.s3.amazonaws.com/7b266fa4-cdb2-11e6-81ff-b67c5c643260.jpg')\n",
      "2017-01-19 17:23:45,596 INFO sqlalchemy.engine.base.Engine INSERT INTO job (company_id, type_, title, description, how_to_apply) VALUES (?, ?, ?, ?, ?)\n",
      "2017-01-19 17:23:45,597 INFO sqlalchemy.engine.base.Engine (5, 1, u'Lead Software Engineer', u'<p><strong>Why We Need You:</strong></p>\\n\\n<p>We got awesome hardware and need software to match it!  WAZER isn\\u2019t just the world\\u2019s first desktop waterjet cutter but the world\\u2019s first solution that allows any computer-literate user to go from their idea to cutting any material within minutes. So software is a critical piece of WAZER\\u2019s offering. The WAZER multiplatform application will allow a user to define exact cutting paths on their source materials. To do this the software will need to be able to upload and convert drawing files into a rendered interactive format that is presented to the user. The user will be able to adjust and tune their cutting paths based on their uploaded 2D drawings and will be guided through the basic setup of the machine. Lastly, the software will need to be able to convert all the adjusted paths into a WAZER machine readable format (already defined) which will produce the consumer\\u2019s desired cut. You will lead the charge in building this functionality with an intuitive, waterjet-specific workflow.</p>\\n\\n<p><strong>Your Daily Role:</strong></p>\\n\\n<p>Lead full stack software engineer that will be responsible for the technical leadership of the entire - WAZER software product including:</p>\\n\\n<ul>\\n<li>Determining application architecture</li>\\n<li>Make language and framework choices</li>\\n<li>Executing on numerous elements of the build</li>\\n<li>Managing elements of the build that are not within your capability by means of contractors</li>\\n<li>Writing modular maintainable code which is well tested</li>\\n<li>Practicing modern development workflows of code reviews and iteration planning to accurately scope out features and deliver them in a timely manner</li>\\n</ul>\\n\\n<p><strong>Must Have Qualifications:</strong></p>\\n\\n<ul>\\n<li>You have deployed consumer facing applications</li>\\n<li>You are a software generalist that is familiar with numerous modern frameworks</li>\\n<li>You are proficient in a set of client-side and server-side languages (ie. JS, Ruby, Python, Go, etc.)</li>\\n<li>You have a professional application management approach to continuous integration, testing, and pushing builds to various staging and production environments</li>\\n<li>You have a great eye for design, an appetite to build ambitious products and an ability to prioritize in order to deliver on time</li>\\n<li>You can work with the product development team to add meaningful feature sets over time to the overall WAZER solution. This could include integration of vision algorithms, path optimizations, new software manipulated hardware systems, etc.</li>\\n</ul>\\n\\n<p><strong>Nice to Have Qualifications:</strong></p>\\n\\n<ul>\\n<li>You have engineering team leadership experience while remaining in a code contributor role</li>\\n<li>You have solo product experience that went from concept to shipping to maintenance</li>\\n<li>You are a participant in the open source community</li>\\n<li>You have design experience and can use tools such as sketch or illustrator to communicate application design direction</li>\\n<li>You are a participant in the maker community</li>\\n</ul>\\n\\n<p><strong>What We Offer You:</strong></p>\\n\\n<ul>\\n<li>\\u200bA team of highly motivated, dedicated individuals working together without ego</li>\\n<li>Competitive equity, salary, and benefit package</li>\\n<li>Access to tools, machines, and space to make whatever projects you may have come to life</li>\\n<li>Opportunity to bring an awesome piece of hardware to a variety of markets and individuals</li>\\n</ul>\\n\\n<p><strong>Location &amp; Environment:</strong></p>\\n\\n<p>Our facility becomes a playground in the off hours. You are encouraged to design, make, and work on whatever personal projects you may have at the time. You may see brewing equipment, race car parts, plants, and art pieces around the office. Who knows what inspiration we use for the next problem we need to solve!</p>\\n\\n<p>As an early-stage startup, you\\u2019ll inherently spend more time at work than your traditional 9-5. Thus, we\\u2019ve located ourselves in Rockland County, NY, which is a part of the beautiful and outdoorsy Hudson River Valley but at the same time only 45 minutes from NYC, so you\\u2019ll be able to find whatever it is you enjoy doing not too far away!</p>\\n\\n<p>Furthermore, and our personal favorite perk, you\\u2019ll be working in an environment that is simultaneously our office, ideation studio, research lab, workshop, and final product assembly center, all under one roof.  This allows us to collaborate and learn each other\\u2019s area of expertise, providing better solutions to our customers.</p>\\n', u'<p>Email, <a href=\"mailto:careers@wazer.com\">careers@wazer.com</a>, with your resume and brief note about why you&#39;re interested in joining WAZER.  Please include &quot;Lead Software Engineer&quot; in the subject line.</p>\\n')\n",
      "2017-01-19 17:23:45,598 INFO sqlalchemy.engine.base.Engine INSERT INTO github_metadata (job_id, github_id, url, created_at) VALUES (?, ?, ?, ?)\n",
      "2017-01-19 17:23:45,599 INFO sqlalchemy.engine.base.Engine (6, u'91191db6-cdb2-11e6-8b74-fa37b6f28443', u'http://jobs.github.com/positions/91191db6-cdb2-11e6-8b74-fa37b6f28443', '2016-12-29 10:36:43.000000')\n",
      "2017-01-19 17:23:45,600 INFO sqlalchemy.engine.base.Engine INSERT INTO location (job_id, description, remote_ok) VALUES (?, ?, ?)\n",
      "2017-01-19 17:23:45,601 INFO sqlalchemy.engine.base.Engine (6, u'Rockland County, NY', 0)\n",
      "2017-01-19 17:23:45,602 INFO sqlalchemy.engine.base.Engine COMMIT\n",
      "2017-01-19 17:23:45,603 INFO sqlalchemy.engine.base.Engine SELECT github_metadata.job_id, github_metadata.github_id, github_metadata.url, github_metadata.created_at \n",
      "FROM github_metadata \n",
      "WHERE github_metadata.github_id = ?\n",
      "2017-01-19 17:23:45,604 INFO sqlalchemy.engine.base.Engine (u'78a2d622-c92b-11e6-9a18-57f12c447595',)\n",
      "2017-01-19 17:23:45,605 INFO sqlalchemy.engine.base.Engine BEGIN (implicit)\n",
      "2017-01-19 17:23:45,606 INFO sqlalchemy.engine.base.Engine SELECT company.id, company.name, company.url, company.logo_url \n",
      "FROM company \n",
      "WHERE company.url = ?\n",
      "2017-01-19 17:23:45,607 INFO sqlalchemy.engine.base.Engine (u'http://www.noom.com',)\n",
      "2017-01-19 17:23:45,608 INFO sqlalchemy.engine.base.Engine INSERT INTO company (name, url, logo_url) VALUES (?, ?, ?)\n",
      "2017-01-19 17:23:45,608 INFO sqlalchemy.engine.base.Engine (u'Noom', u'http://www.noom.com', None)\n",
      "2017-01-19 17:23:45,610 INFO sqlalchemy.engine.base.Engine INSERT INTO job (company_id, type_, title, description, how_to_apply) VALUES (?, ?, ?, ?, ?)\n",
      "2017-01-19 17:23:45,610 INFO sqlalchemy.engine.base.Engine (6, 1, u'Senior Full Stack Engineer', u'<p>Noom\\u2019s applications combat chronic and pre-chronic conditions with structured programs and human coaches. Our technology engages users and improves health outcomes by combining the best technologies and human coaching in a single powerful platform. Coaches are given a detailed dashboard of the data our users provide in Noom Health, thus giving them the information necessary to help our users reach their health goals, whether it\\u2019s to lower their blood sugar and sodium, lose weight, or prevent Type-II Diabetes or Hypertension.</p>\\n\\n<p>The full stack engineer we are seeking will be the go-to person and core contributor to the development of our coaching tools platform and dashboard app. This person will view the web architecture of our dashboard critically, with a keen eye on improving its development flow. Their goal is to ultimately increase the efficiency and effectiveness of our coaches, allowing them to make smarter and more impactful recommendations when working with our user base. Even further, this person stays on the cutting edge of the latest web development tools and technologies (e.g. React), trying and testing them out, weighing the pros and cons, and making informed choices about which are best to integrate into our engineering environment.</p>\\n\\n<p>What We\\u2019re Looking For:</p>\\n\\n<ul>\\n<li>4+ years of full stack web development experience in Django, node.js, Rails, or something similar </li>\\n<li>Experience with, and interest in, Javascript, React (or backbone.js, angular.js, ember.js), Python, HTML5, CSS </li>\\n<li>Good communicator: comfortable explaining technical problems in person and in writing </li>\\n<li>Team player: has fun teaching people new concepts, enjoys collaborating with a team </li>\\n<li>They should own what they do, and not just throw code out. Sense of responsibility and ownership. They would have to come from an environment in which people are responsible for their own code </li>\\n<li>Has developed and shipped a dynamic web app successfully in a team environment </li>\\n<li>Rock-solid coding skills: writes code that is well structured, idiomatic, reusable, and easy to understand </li>\\n<li>Capacity to take requirements, and break them down into actionable tech tasks</li>\\n</ul>\\n', u'<p><a href=\"http://grnh.se/5nhrv41\">http://grnh.se/5nhrv41</a></p>\\n')\n",
      "2017-01-19 17:23:45,611 INFO sqlalchemy.engine.base.Engine INSERT INTO github_metadata (job_id, github_id, url, created_at) VALUES (?, ?, ?, ?)\n",
      "2017-01-19 17:23:45,612 INFO sqlalchemy.engine.base.Engine (7, u'78a2d622-c92b-11e6-9a18-57f12c447595', u'http://jobs.github.com/positions/78a2d622-c92b-11e6-9a18-57f12c447595', '2016-12-23 16:19:18.000000')\n",
      "2017-01-19 17:23:45,613 INFO sqlalchemy.engine.base.Engine INSERT INTO location (job_id, description, remote_ok) VALUES (?, ?, ?)\n",
      "2017-01-19 17:23:45,613 INFO sqlalchemy.engine.base.Engine (7, u'New York, NY', 0)\n",
      "2017-01-19 17:23:45,614 INFO sqlalchemy.engine.base.Engine COMMIT\n"
     ]
    }
   ],
   "source": [
    "for job in response_github:\n",
    "    select_or_insert_job(\n",
    "        job['company'],\n",
    "        job['company_url'],\n",
    "        job['company_logo'],\n",
    "        job['id'],\n",
    "        job['url'],\n",
    "        job['created_at'],\n",
    "        job['type'],\n",
    "        job['title'],\n",
    "        job['description'],\n",
    "        job['how_to_apply'],\n",
    "        job['location']\n",
    "    )\n"
   ]
  },
  {
   "cell_type": "markdown",
   "metadata": {},
   "source": [
    "## Assignment\n",
    "- Execute simple SQL queries in each table and make sure everything looks as was intended.\n",
    "- Create queries the following queries:\n",
    "    - Find out how many jobs have the phrase \"Data Science\" and how many have the word \"Python\" in the description\n",
    "    - Find out how many were created in the past 7 days\n",
    "    - Find out how are \"Remote Ok\" and which companies those are with"
   ]
  },
  {
   "cell_type": "markdown",
   "metadata": {
    "collapsed": true
   },
   "source": [
    "**Find out how many jobs have the phrase \"Data Science\" and how many have the word \"Python\" in the description**"
   ]
  },
  {
   "cell_type": "code",
   "execution_count": 42,
   "metadata": {
    "collapsed": false
   },
   "outputs": [
    {
     "name": "stdout",
     "output_type": "stream",
     "text": [
      "2017-01-19 17:31:01,431 INFO sqlalchemy.engine.base.Engine SELECT COUNT() FROM job\n",
      "2017-01-19 17:31:01,432 INFO sqlalchemy.engine.base.Engine ()\n",
      "2017-01-19 17:31:01,433 INFO sqlalchemy.engine.base.Engine SELECT COUNT() FROM job WHERE description LIKE '%python%'\n",
      "2017-01-19 17:31:01,434 INFO sqlalchemy.engine.base.Engine ()\n",
      "there are 7 jobs with 'Data Science' term, and 100 percent of them have 'Python' in the description\n"
     ]
    }
   ],
   "source": [
    "s = text(\"SELECT COUNT() \"\n",
    "         \"FROM job\")\n",
    "total, = conn.execute(s).fetchone()\n",
    "\n",
    "s = text(\"SELECT COUNT() \"\n",
    "         \"FROM job \"\n",
    "         \"WHERE description LIKE '%python%'\")\n",
    "python, = conn.execute(s).fetchone()\n",
    "\n",
    "print (\"there are %i jobs with 'Data Science' term, and %i percent of them have 'Python' in the description\")%(total, 100*python/total)\n"
   ]
  },
  {
   "cell_type": "markdown",
   "metadata": {},
   "source": [
    "**Find out how many were created in the past 7 days**"
   ]
  },
  {
   "cell_type": "code",
   "execution_count": 45,
   "metadata": {
    "collapsed": false
   },
   "outputs": [
    {
     "name": "stdout",
     "output_type": "stream",
     "text": [
      "2017-01-19 17:32:12,348 INFO sqlalchemy.engine.base.Engine SELECT COUNT() FROM github_metadata WHERE created_at >= ?\n",
      "2017-01-19 17:32:12,349 INFO sqlalchemy.engine.base.Engine (datetime.datetime(2017, 1, 12, 17, 32, 12, 348578),)\n",
      "57 percent of them have been created in the past 7 days\n"
     ]
    }
   ],
   "source": [
    "from datetime import datetime, timedelta\n",
    "\n",
    "s = text(\"SELECT COUNT() \"\n",
    "         \"FROM github_metadata \"\n",
    "         \"WHERE created_at >= :week_ago\")\n",
    "last_week, = conn.execute(s, week_ago=datetime.today() - timedelta(days=7)).fetchone()\n",
    "\n",
    "print (\"%i percent of them have been created in the past 7 days\")%(100 * last_week/total)\n"
   ]
  },
  {
   "cell_type": "markdown",
   "metadata": {},
   "source": [
    "**Find out how are \"Remote Ok\" and which companies those are with**"
   ]
  },
  {
   "cell_type": "code",
   "execution_count": 52,
   "metadata": {
    "collapsed": false
   },
   "outputs": [
    {
     "name": "stdout",
     "output_type": "stream",
     "text": [
      "2017-01-20 10:27:22,924 INFO sqlalchemy.engine.base.Engine SELECT COUNT() FROM job JOIN location ON job.id = location.job_id WHERE remote_ok = ?\n",
      "2017-01-20 10:27:22,929 INFO sqlalchemy.engine.base.Engine (1,)\n",
      "2017-01-20 10:27:22,930 INFO sqlalchemy.engine.base.Engine SELECT name FROM company JOIN job ON company.id = job.company_id JOIN location ON job.id = location.job_id WHERE location.remote_ok = ?\n",
      "2017-01-20 10:27:22,931 INFO sqlalchemy.engine.base.Engine (1,)\n",
      "The number of company(s) ok with remote job is 1 and the names are: [(u'JOOR, Inc.',)]\n",
      "company:  (u'JOOR, Inc.',)\n",
      "\n",
      "1 of those is remote ok. The company with the remote job is: JOOR, Inc.\n"
     ]
    }
   ],
   "source": [
    "s = text(\"SELECT COUNT() \"\n",
    "         \"FROM job \"\n",
    "         \"JOIN location ON job.id = location.job_id \"\n",
    "         \"WHERE remote_ok = :true\")\n",
    "remote_jobs, = conn.execute(s, true=int(True)).fetchone()\n",
    "\n",
    "if remote_jobs > 0:\n",
    "    s = text(\"SELECT name \"\n",
    "             \"FROM company \"\n",
    "             \"JOIN job ON company.id = job.company_id \"\n",
    "             \"JOIN location ON job.id = location.job_id \"\n",
    "             \"WHERE location.remote_ok = :true\")\n",
    "    remote_companies = conn.execute(s, true=int(True)).fetchall()\n",
    "    \n",
    "    if len(remote_companies)==1:\n",
    "        \n",
    "    \n",
    "        print (\"The number of company(s) ok with remote job is %i and the names are: %s\")%(len(remote_companies), remote_companies)\n",
    "\n",
    "    for company in remote_companies:\n",
    "        print \"company: \", company\n",
    "\n",
    "    print(message.format(remote_jobs, \" ;\".join(str(company) for company, in remote_companies)))"
   ]
  },
  {
   "cell_type": "code",
   "execution_count": null,
   "metadata": {
    "collapsed": true
   },
   "outputs": [],
   "source": []
  }
 ],
 "metadata": {
  "anaconda-cloud": {},
  "kernelspec": {
   "display_name": "Python [default]",
   "language": "python",
   "name": "python2"
  },
  "language_info": {
   "codemirror_mode": {
    "name": "ipython",
    "version": 2
   },
   "file_extension": ".py",
   "mimetype": "text/x-python",
   "name": "python",
   "nbconvert_exporter": "python",
   "pygments_lexer": "ipython2",
   "version": "2.7.12"
  }
 },
 "nbformat": 4,
 "nbformat_minor": 1
}
