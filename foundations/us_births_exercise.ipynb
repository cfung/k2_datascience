{
 "cells": [
  {
   "cell_type": "markdown",
   "metadata": {
    "collapsed": true
   },
   "source": [
    "## US Birth Data Set\n",
    "\n",
    "[Original article by FiveThirtyEight about Friday the 13th](http://fivethirtyeight.com/features/some-people-are-too-superstitious-to-have-a-baby-on-friday-the-13th/)\n",
    "\n",
    "The data set contains U.S. births data for the years 1994 to 2003, as provided by the Centers for Disease Control and Prevention's National Center for Health Statistics"
   ]
  },
  {
   "cell_type": "markdown",
   "metadata": {},
   "source": [
    "### Assignment\n",
    "\n",
    "- Open the CSV and split based on new lines\n",
    "- Preview the first 10 entries"
   ]
  },
  {
   "cell_type": "code",
   "execution_count": 1,
   "metadata": {
    "collapsed": false
   },
   "outputs": [],
   "source": [
    "import pandas\n",
    "birth_data = pandas.read_csv('us_births.csv', nrows=10)"
   ]
  },
  {
   "cell_type": "markdown",
   "metadata": {},
   "source": [
    "### Assignment\n",
    "\n",
    "- Create a function that takes in a CSV and converts the data into a list of lists\n",
    "    - Each row will be a list\n",
    "    - Make sure to convert the values to int\n",
    "    - Return the final list of lists\n",
    "- Preview the first 10 entries of the output"
   ]
  },
  {
   "cell_type": "code",
   "execution_count": 2,
   "metadata": {
    "collapsed": false
   },
   "outputs": [
    {
     "name": "stdout",
     "output_type": "stream",
     "text": [
      "[[1994, 1, 1, 6, 8096], [1994, 1, 2, 7, 7772], [1994, 1, 3, 1, 10142], [1994, 1, 4, 2, 11248], [1994, 1, 5, 3, 11053], [1994, 1, 6, 4, 11406], [1994, 1, 7, 5, 11251], [1994, 1, 8, 6, 8653], [1994, 1, 9, 7, 7910], [1994, 1, 10, 1, 10498]]\n"
     ]
    }
   ],
   "source": [
    "def convert_csv_to_list(csv_file):\n",
    "    result_list = []\n",
    "    birth_data = pandas.read_csv(csv_file)\n",
    "    for index, row in birth_data.iterrows():\n",
    "        row_list = [row['year'], row['month'], row['date_of_month'], row['day_of_week'], row['births']]\n",
    "        #print row_list\n",
    "        result_list.append(row_list)\n",
    "    return result_list\n",
    "\n",
    "us_birth_list = convert_csv_to_list('us_births.csv')\n",
    "print us_birth_list[0:10]"
   ]
  },
  {
   "cell_type": "markdown",
   "metadata": {},
   "source": [
    "### Assignment\n",
    "\n",
    "- Create a function that calculates the number of births each month\n",
    "    - The function input should be the previous list of lists you created\n",
    "    - Use a dictionary and increment the values associated with each month key\n",
    "    - Return the final dictionary\n",
    "- Preview the output"
   ]
  },
  {
   "cell_type": "markdown",
   "metadata": {},
   "source": [
    "[1994, 1, 1, 6, 8096]\n",
    "[1994, 1, 2, 7, 7772]\n",
    "[1994, 1, 3, 1, 10142]\n",
    "[1994, 1, 4, 2, 11248]\n",
    "[1994, 1, 5, 3, 11053]\n",
    "[1994, 1, 6, 4, 11406]\n",
    "[1994, 1, 7, 5, 11251]\n",
    "[1994, 1, 8, 6, 8653]\n",
    "[1994, 1, 9, 7, 7910]\n",
    "[1994, 1, 10, 1, 10498]"
   ]
  },
  {
   "cell_type": "code",
   "execution_count": 3,
   "metadata": {
    "collapsed": false
   },
   "outputs": [
    {
     "data": {
      "text/plain": [
       "{1: 3232517,\n",
       " 2: 3018140,\n",
       " 3: 3322069,\n",
       " 4: 3185314,\n",
       " 5: 3350907,\n",
       " 6: 3296530,\n",
       " 7: 3498783,\n",
       " 8: 3525858,\n",
       " 9: 3439698,\n",
       " 10: 3378814,\n",
       " 11: 3171647,\n",
       " 12: 3301860}"
      ]
     },
     "execution_count": 3,
     "metadata": {},
     "output_type": "execute_result"
    }
   ],
   "source": [
    "def calculate_num_of_births_by_month(input_list):\n",
    "    result_dict = {}\n",
    "    \n",
    "    # initialize dictionary with default values\n",
    "    for month in range(1,13):\n",
    "        result_dict[month] = 0\n",
    "    \n",
    "    #print result_dict\n",
    "    for row in input_list:\n",
    "        result_dict[row[1]] += row[4] \n",
    "\n",
    "    return result_dict\n",
    "calculate_num_of_births_by_month(us_birth_list)"
   ]
  },
  {
   "cell_type": "markdown",
   "metadata": {},
   "source": [
    "### Assignment\n",
    "\n",
    "- Create a function that calculates the number of births each day of the week"
   ]
  },
  {
   "cell_type": "code",
   "execution_count": 4,
   "metadata": {
    "collapsed": false
   },
   "outputs": [
    {
     "data": {
      "text/plain": [
       "{1: 5789166,\n",
       " 2: 6446196,\n",
       " 3: 6322855,\n",
       " 4: 6288429,\n",
       " 5: 6233657,\n",
       " 6: 4562111,\n",
       " 7: 4079723}"
      ]
     },
     "execution_count": 4,
     "metadata": {},
     "output_type": "execute_result"
    }
   ],
   "source": [
    "def calculate_num_of_births_by_day(input_list):\n",
    "    result_dict = {}\n",
    "    \n",
    "    # initialize dictionary with default values\n",
    "    for month in range(1,8):\n",
    "        result_dict[month] = 0\n",
    "    \n",
    "    #print result_dict\n",
    "    for row in input_list:\n",
    "        result_dict[row[3]] += row[4]\n",
    "\n",
    "    return result_dict\n",
    "calculate_num_of_births_by_day(us_birth_list)"
   ]
  },
  {
   "cell_type": "markdown",
   "metadata": {},
   "source": [
    "### Assignment\n",
    "\n",
    "- Create a general function that takes the data list of lists and a column index, it should return a dictionary mapping of the unique keys and summed values"
   ]
  },
  {
   "cell_type": "code",
   "execution_count": 5,
   "metadata": {
    "collapsed": false
   },
   "outputs": [
    {
     "name": "stdout",
     "output_type": "stream",
     "text": [
      "{1: 120, 2: 120, 3: 120, 4: 120, 5: 120, 6: 120, 7: 120, 8: 120, 9: 120, 10: 120, 11: 120, 12: 120, 13: 120, 14: 120, 15: 120, 16: 120, 17: 120, 18: 120, 19: 120, 20: 120, 21: 120, 22: 120, 23: 120, 24: 120, 25: 120, 26: 120, 27: 120, 28: 120, 29: 112, 30: 110, 31: 70}\n",
      "{1: 522, 2: 522, 3: 522, 4: 521, 5: 521, 6: 522, 7: 522}\n"
     ]
    }
   ],
   "source": [
    "def calculate_num_of_births_by_day(input_list, column_index):\n",
    "    result_dict = {}\n",
    "    unique_set_list = []\n",
    "\n",
    "    # get a list of unique values by the column_index\n",
    "    for row in input_list:\n",
    "        unique_set_list.append(row[column_index])\n",
    "        \n",
    "    # initialize dictionary with default values\n",
    "    for value in unique_set_list:\n",
    "        result_dict[value] = 0\n",
    "    \n",
    "    # loop again to get the aggregate sum of values\n",
    "    for row in input_list:\n",
    "        result_dict[row[column_index]] += 1 \n",
    "        \n",
    "    return result_dict\n",
    "\n",
    "# get the values by day of month\n",
    "print calculate_num_of_births_by_day(us_birth_list, 2)\n",
    "\n",
    "# get the values by day of week\n",
    "print calculate_num_of_births_by_day(us_birth_list, 3)"
   ]
  },
  {
   "cell_type": "code",
   "execution_count": null,
   "metadata": {
    "collapsed": true
   },
   "outputs": [],
   "source": []
  }
 ],
 "metadata": {
  "anaconda-cloud": {},
  "kernelspec": {
   "display_name": "Python [conda root]",
   "language": "python",
   "name": "conda-root-py"
  },
  "language_info": {
   "codemirror_mode": {
    "name": "ipython",
    "version": 2
   },
   "file_extension": ".py",
   "mimetype": "text/x-python",
   "name": "python",
   "nbconvert_exporter": "python",
   "pygments_lexer": "ipython2",
   "version": "2.7.12"
  }
 },
 "nbformat": 4,
 "nbformat_minor": 1
}
